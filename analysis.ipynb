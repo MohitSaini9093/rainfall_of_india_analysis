{
 "cells": [
  {
   "cell_type": "markdown",
   "id": "af9dfe22",
   "metadata": {},
   "source": [
    "#### Problem\n",
    "India’s dependency on rainfall for agricultural productivity and water resource management necessitates a deep understanding of its temporal and spatial variability. This study aims to address critical questions regarding rainfall trends and their implications. The key objectives include analyzing historical rainfall data to uncover patterns and trends, detecting years or months with anomalous rainfall behavior, and exploring the relationships between seasonal and annual rainfall.\n",
    "\n",
    "One of the primary goals is to investigate the impact of climate change on India’s rainfall patterns. Are there discernible shifts in annual or seasonal rainfall due to changing climatic conditions? Additionally, identifying drought years or periods of extreme rainfall can help policymakers and stakeholders prepare for potential adverse events.\n",
    "\n",
    "[data](https://opencity.in/)"
   ]
  },
  {
   "cell_type": "code",
   "execution_count": 1,
   "id": "18cbeec0",
   "metadata": {},
   "outputs": [],
   "source": [
    "import pandas as pd\n",
    "df = pd.read_csv('rainfall_area-wt_India_1901-2015.csv')"
   ]
  },
  {
   "cell_type": "markdown",
   "id": "21a7eb39",
   "metadata": {},
   "source": [
    "### data preporcessing"
   ]
  },
  {
   "cell_type": "code",
   "execution_count": 2,
   "id": "bc6ffb3d",
   "metadata": {},
   "outputs": [
    {
     "data": {
      "application/vnd.microsoft.datawrangler.viewer.v0+json": {
       "columns": [
        {
         "name": "index",
         "rawType": "int64",
         "type": "integer"
        },
        {
         "name": "REGION",
         "rawType": "object",
         "type": "string"
        },
        {
         "name": "YEAR",
         "rawType": "int64",
         "type": "integer"
        },
        {
         "name": "JAN",
         "rawType": "float64",
         "type": "float"
        },
        {
         "name": "FEB",
         "rawType": "float64",
         "type": "float"
        },
        {
         "name": "MAR",
         "rawType": "float64",
         "type": "float"
        },
        {
         "name": "APR",
         "rawType": "float64",
         "type": "float"
        },
        {
         "name": "MAY",
         "rawType": "float64",
         "type": "float"
        },
        {
         "name": "JUN",
         "rawType": "float64",
         "type": "float"
        },
        {
         "name": "JUL",
         "rawType": "float64",
         "type": "float"
        },
        {
         "name": "AUG",
         "rawType": "float64",
         "type": "float"
        },
        {
         "name": "SEP",
         "rawType": "float64",
         "type": "float"
        },
        {
         "name": "OCT",
         "rawType": "float64",
         "type": "float"
        },
        {
         "name": "NOV",
         "rawType": "float64",
         "type": "float"
        },
        {
         "name": "DEC",
         "rawType": "float64",
         "type": "float"
        },
        {
         "name": "ANNUAL",
         "rawType": "float64",
         "type": "float"
        },
        {
         "name": "Jan-Feb",
         "rawType": "float64",
         "type": "float"
        },
        {
         "name": "Mar-May",
         "rawType": "float64",
         "type": "float"
        },
        {
         "name": "Jun-Sep",
         "rawType": "float64",
         "type": "float"
        },
        {
         "name": "Oct-Dec",
         "rawType": "float64",
         "type": "float"
        }
       ],
       "conversionMethod": "pd.DataFrame",
       "ref": "31049c49-f766-42d2-8f96-60e9c0779425",
       "rows": [
        [
         "0",
         "INDIA",
         "1901",
         "34.7",
         "37.7",
         "18.0",
         "39.3",
         "50.8",
         "113.4",
         "242.2",
         "272.9",
         "124.4",
         "52.7",
         "38.0",
         "8.3",
         "1032.3",
         "72.4",
         "108.1",
         "752.8",
         "99.0"
        ],
        [
         "1",
         "INDIA",
         "1902",
         "7.4",
         "4.3",
         "19.0",
         "43.5",
         "48.3",
         "108.8",
         "284.0",
         "199.7",
         "201.5",
         "61.5",
         "27.9",
         "24.4",
         "1030.2",
         "11.7",
         "110.8",
         "794.0",
         "113.8"
        ],
        [
         "2",
         "INDIA",
         "1903",
         "17.0",
         "8.3",
         "31.3",
         "17.1",
         "59.5",
         "118.3",
         "297.0",
         "270.4",
         "199.1",
         "117.9",
         "36.9",
         "17.7",
         "1190.5",
         "25.3",
         "107.9",
         "884.8",
         "172.5"
        ],
        [
         "3",
         "INDIA",
         "1904",
         "14.4",
         "9.6",
         "31.8",
         "33.1",
         "72.4",
         "164.8",
         "261.0",
         "206.4",
         "129.6",
         "69.0",
         "11.2",
         "16.3",
         "1019.8",
         "24.0",
         "137.4",
         "761.8",
         "96.6"
        ],
        [
         "4",
         "INDIA",
         "1905",
         "25.3",
         "20.9",
         "42.7",
         "33.7",
         "55.7",
         "93.3",
         "252.8",
         "200.8",
         "178.4",
         "51.4",
         "9.7",
         "10.5",
         "975.3",
         "46.2",
         "132.2",
         "725.4",
         "71.6"
        ]
       ],
       "shape": {
        "columns": 19,
        "rows": 5
       }
      },
      "text/html": [
       "<div>\n",
       "<style scoped>\n",
       "    .dataframe tbody tr th:only-of-type {\n",
       "        vertical-align: middle;\n",
       "    }\n",
       "\n",
       "    .dataframe tbody tr th {\n",
       "        vertical-align: top;\n",
       "    }\n",
       "\n",
       "    .dataframe thead th {\n",
       "        text-align: right;\n",
       "    }\n",
       "</style>\n",
       "<table border=\"1\" class=\"dataframe\">\n",
       "  <thead>\n",
       "    <tr style=\"text-align: right;\">\n",
       "      <th></th>\n",
       "      <th>REGION</th>\n",
       "      <th>YEAR</th>\n",
       "      <th>JAN</th>\n",
       "      <th>FEB</th>\n",
       "      <th>MAR</th>\n",
       "      <th>APR</th>\n",
       "      <th>MAY</th>\n",
       "      <th>JUN</th>\n",
       "      <th>JUL</th>\n",
       "      <th>AUG</th>\n",
       "      <th>SEP</th>\n",
       "      <th>OCT</th>\n",
       "      <th>NOV</th>\n",
       "      <th>DEC</th>\n",
       "      <th>ANNUAL</th>\n",
       "      <th>Jan-Feb</th>\n",
       "      <th>Mar-May</th>\n",
       "      <th>Jun-Sep</th>\n",
       "      <th>Oct-Dec</th>\n",
       "    </tr>\n",
       "  </thead>\n",
       "  <tbody>\n",
       "    <tr>\n",
       "      <th>0</th>\n",
       "      <td>INDIA</td>\n",
       "      <td>1901</td>\n",
       "      <td>34.7</td>\n",
       "      <td>37.7</td>\n",
       "      <td>18.0</td>\n",
       "      <td>39.3</td>\n",
       "      <td>50.8</td>\n",
       "      <td>113.4</td>\n",
       "      <td>242.2</td>\n",
       "      <td>272.9</td>\n",
       "      <td>124.4</td>\n",
       "      <td>52.7</td>\n",
       "      <td>38.0</td>\n",
       "      <td>8.3</td>\n",
       "      <td>1032.3</td>\n",
       "      <td>72.4</td>\n",
       "      <td>108.1</td>\n",
       "      <td>752.8</td>\n",
       "      <td>99.0</td>\n",
       "    </tr>\n",
       "    <tr>\n",
       "      <th>1</th>\n",
       "      <td>INDIA</td>\n",
       "      <td>1902</td>\n",
       "      <td>7.4</td>\n",
       "      <td>4.3</td>\n",
       "      <td>19.0</td>\n",
       "      <td>43.5</td>\n",
       "      <td>48.3</td>\n",
       "      <td>108.8</td>\n",
       "      <td>284.0</td>\n",
       "      <td>199.7</td>\n",
       "      <td>201.5</td>\n",
       "      <td>61.5</td>\n",
       "      <td>27.9</td>\n",
       "      <td>24.4</td>\n",
       "      <td>1030.2</td>\n",
       "      <td>11.7</td>\n",
       "      <td>110.8</td>\n",
       "      <td>794.0</td>\n",
       "      <td>113.8</td>\n",
       "    </tr>\n",
       "    <tr>\n",
       "      <th>2</th>\n",
       "      <td>INDIA</td>\n",
       "      <td>1903</td>\n",
       "      <td>17.0</td>\n",
       "      <td>8.3</td>\n",
       "      <td>31.3</td>\n",
       "      <td>17.1</td>\n",
       "      <td>59.5</td>\n",
       "      <td>118.3</td>\n",
       "      <td>297.0</td>\n",
       "      <td>270.4</td>\n",
       "      <td>199.1</td>\n",
       "      <td>117.9</td>\n",
       "      <td>36.9</td>\n",
       "      <td>17.7</td>\n",
       "      <td>1190.5</td>\n",
       "      <td>25.3</td>\n",
       "      <td>107.9</td>\n",
       "      <td>884.8</td>\n",
       "      <td>172.5</td>\n",
       "    </tr>\n",
       "    <tr>\n",
       "      <th>3</th>\n",
       "      <td>INDIA</td>\n",
       "      <td>1904</td>\n",
       "      <td>14.4</td>\n",
       "      <td>9.6</td>\n",
       "      <td>31.8</td>\n",
       "      <td>33.1</td>\n",
       "      <td>72.4</td>\n",
       "      <td>164.8</td>\n",
       "      <td>261.0</td>\n",
       "      <td>206.4</td>\n",
       "      <td>129.6</td>\n",
       "      <td>69.0</td>\n",
       "      <td>11.2</td>\n",
       "      <td>16.3</td>\n",
       "      <td>1019.8</td>\n",
       "      <td>24.0</td>\n",
       "      <td>137.4</td>\n",
       "      <td>761.8</td>\n",
       "      <td>96.6</td>\n",
       "    </tr>\n",
       "    <tr>\n",
       "      <th>4</th>\n",
       "      <td>INDIA</td>\n",
       "      <td>1905</td>\n",
       "      <td>25.3</td>\n",
       "      <td>20.9</td>\n",
       "      <td>42.7</td>\n",
       "      <td>33.7</td>\n",
       "      <td>55.7</td>\n",
       "      <td>93.3</td>\n",
       "      <td>252.8</td>\n",
       "      <td>200.8</td>\n",
       "      <td>178.4</td>\n",
       "      <td>51.4</td>\n",
       "      <td>9.7</td>\n",
       "      <td>10.5</td>\n",
       "      <td>975.3</td>\n",
       "      <td>46.2</td>\n",
       "      <td>132.2</td>\n",
       "      <td>725.4</td>\n",
       "      <td>71.6</td>\n",
       "    </tr>\n",
       "  </tbody>\n",
       "</table>\n",
       "</div>"
      ],
      "text/plain": [
       "  REGION  YEAR   JAN   FEB   MAR   APR   MAY    JUN    JUL    AUG    SEP  \\\n",
       "0  INDIA  1901  34.7  37.7  18.0  39.3  50.8  113.4  242.2  272.9  124.4   \n",
       "1  INDIA  1902   7.4   4.3  19.0  43.5  48.3  108.8  284.0  199.7  201.5   \n",
       "2  INDIA  1903  17.0   8.3  31.3  17.1  59.5  118.3  297.0  270.4  199.1   \n",
       "3  INDIA  1904  14.4   9.6  31.8  33.1  72.4  164.8  261.0  206.4  129.6   \n",
       "4  INDIA  1905  25.3  20.9  42.7  33.7  55.7   93.3  252.8  200.8  178.4   \n",
       "\n",
       "     OCT   NOV   DEC  ANNUAL  Jan-Feb  Mar-May  Jun-Sep  Oct-Dec  \n",
       "0   52.7  38.0   8.3  1032.3     72.4    108.1    752.8     99.0  \n",
       "1   61.5  27.9  24.4  1030.2     11.7    110.8    794.0    113.8  \n",
       "2  117.9  36.9  17.7  1190.5     25.3    107.9    884.8    172.5  \n",
       "3   69.0  11.2  16.3  1019.8     24.0    137.4    761.8     96.6  \n",
       "4   51.4   9.7  10.5   975.3     46.2    132.2    725.4     71.6  "
      ]
     },
     "execution_count": 2,
     "metadata": {},
     "output_type": "execute_result"
    }
   ],
   "source": [
    "df.head()"
   ]
  },
  {
   "cell_type": "code",
   "execution_count": 3,
   "id": "27272c8a",
   "metadata": {},
   "outputs": [
    {
     "data": {
      "application/vnd.microsoft.datawrangler.viewer.v0+json": {
       "columns": [
        {
         "name": "index",
         "rawType": "int64",
         "type": "integer"
        },
        {
         "name": "REGION",
         "rawType": "object",
         "type": "string"
        },
        {
         "name": "YEAR",
         "rawType": "int64",
         "type": "integer"
        },
        {
         "name": "JAN",
         "rawType": "float64",
         "type": "float"
        },
        {
         "name": "FEB",
         "rawType": "float64",
         "type": "float"
        },
        {
         "name": "MAR",
         "rawType": "float64",
         "type": "float"
        },
        {
         "name": "APR",
         "rawType": "float64",
         "type": "float"
        },
        {
         "name": "MAY",
         "rawType": "float64",
         "type": "float"
        },
        {
         "name": "JUN",
         "rawType": "float64",
         "type": "float"
        },
        {
         "name": "JUL",
         "rawType": "float64",
         "type": "float"
        },
        {
         "name": "AUG",
         "rawType": "float64",
         "type": "float"
        },
        {
         "name": "SEP",
         "rawType": "float64",
         "type": "float"
        },
        {
         "name": "OCT",
         "rawType": "float64",
         "type": "float"
        },
        {
         "name": "NOV",
         "rawType": "float64",
         "type": "float"
        },
        {
         "name": "DEC",
         "rawType": "float64",
         "type": "float"
        },
        {
         "name": "ANNUAL",
         "rawType": "float64",
         "type": "float"
        },
        {
         "name": "Jan-Feb",
         "rawType": "float64",
         "type": "float"
        },
        {
         "name": "Mar-May",
         "rawType": "float64",
         "type": "float"
        },
        {
         "name": "Jun-Sep",
         "rawType": "float64",
         "type": "float"
        },
        {
         "name": "Oct-Dec",
         "rawType": "float64",
         "type": "float"
        }
       ],
       "conversionMethod": "pd.DataFrame",
       "ref": "fbcaa58b-649b-4920-87cc-a55eda3aadb9",
       "rows": [
        [
         "110",
         "INDIA",
         "2011",
         "7.7",
         "26.3",
         "21.4",
         "41.0",
         "51.6",
         "182.8",
         "243.0",
         "284.6",
         "190.5",
         "36.5",
         "18.4",
         "6.5",
         "1110.1",
         "34.0",
         "113.9",
         "900.9",
         "61.4"
        ],
        [
         "111",
         "INDIA",
         "2012",
         "28.5",
         "10.8",
         "10.6",
         "48.5",
         "32.1",
         "125.0",
         "258.1",
         "263.9",
         "197.7",
         "59.8",
         "28.9",
         "9.6",
         "1073.5",
         "39.3",
         "91.2",
         "844.7",
         "98.3"
        ],
        [
         "112",
         "INDIA",
         "2013",
         "10.0",
         "36.9",
         "14.5",
         "29.4",
         "56.5",
         "217.9",
         "305.4",
         "248.4",
         "148.4",
         "128.9",
         "13.7",
         "6.2",
         "1216.2",
         "46.9",
         "100.4",
         "920.1",
         "148.7"
        ],
        [
         "113",
         "INDIA",
         "2014",
         "17.3",
         "25.9",
         "32.6",
         "20.2",
         "72.8",
         "95.5",
         "258.8",
         "237.9",
         "187.9",
         "60.9",
         "13.5",
         "10.4",
         "1033.7",
         "43.2",
         "125.5",
         "780.1",
         "84.8"
        ],
        [
         "114",
         "INDIA",
         "2015",
         "17.4",
         "21.0",
         "62.0",
         "69.4",
         "53.8",
         "192.8",
         "242.4",
         "205.2",
         "131.8",
         "42.9",
         "39.4",
         "15.0",
         "1093.2",
         "38.4",
         "185.2",
         "772.2",
         "97.3"
        ]
       ],
       "shape": {
        "columns": 19,
        "rows": 5
       }
      },
      "text/html": [
       "<div>\n",
       "<style scoped>\n",
       "    .dataframe tbody tr th:only-of-type {\n",
       "        vertical-align: middle;\n",
       "    }\n",
       "\n",
       "    .dataframe tbody tr th {\n",
       "        vertical-align: top;\n",
       "    }\n",
       "\n",
       "    .dataframe thead th {\n",
       "        text-align: right;\n",
       "    }\n",
       "</style>\n",
       "<table border=\"1\" class=\"dataframe\">\n",
       "  <thead>\n",
       "    <tr style=\"text-align: right;\">\n",
       "      <th></th>\n",
       "      <th>REGION</th>\n",
       "      <th>YEAR</th>\n",
       "      <th>JAN</th>\n",
       "      <th>FEB</th>\n",
       "      <th>MAR</th>\n",
       "      <th>APR</th>\n",
       "      <th>MAY</th>\n",
       "      <th>JUN</th>\n",
       "      <th>JUL</th>\n",
       "      <th>AUG</th>\n",
       "      <th>SEP</th>\n",
       "      <th>OCT</th>\n",
       "      <th>NOV</th>\n",
       "      <th>DEC</th>\n",
       "      <th>ANNUAL</th>\n",
       "      <th>Jan-Feb</th>\n",
       "      <th>Mar-May</th>\n",
       "      <th>Jun-Sep</th>\n",
       "      <th>Oct-Dec</th>\n",
       "    </tr>\n",
       "  </thead>\n",
       "  <tbody>\n",
       "    <tr>\n",
       "      <th>110</th>\n",
       "      <td>INDIA</td>\n",
       "      <td>2011</td>\n",
       "      <td>7.7</td>\n",
       "      <td>26.3</td>\n",
       "      <td>21.4</td>\n",
       "      <td>41.0</td>\n",
       "      <td>51.6</td>\n",
       "      <td>182.8</td>\n",
       "      <td>243.0</td>\n",
       "      <td>284.6</td>\n",
       "      <td>190.5</td>\n",
       "      <td>36.5</td>\n",
       "      <td>18.4</td>\n",
       "      <td>6.5</td>\n",
       "      <td>1110.1</td>\n",
       "      <td>34.0</td>\n",
       "      <td>113.9</td>\n",
       "      <td>900.9</td>\n",
       "      <td>61.4</td>\n",
       "    </tr>\n",
       "    <tr>\n",
       "      <th>111</th>\n",
       "      <td>INDIA</td>\n",
       "      <td>2012</td>\n",
       "      <td>28.5</td>\n",
       "      <td>10.8</td>\n",
       "      <td>10.6</td>\n",
       "      <td>48.5</td>\n",
       "      <td>32.1</td>\n",
       "      <td>125.0</td>\n",
       "      <td>258.1</td>\n",
       "      <td>263.9</td>\n",
       "      <td>197.7</td>\n",
       "      <td>59.8</td>\n",
       "      <td>28.9</td>\n",
       "      <td>9.6</td>\n",
       "      <td>1073.5</td>\n",
       "      <td>39.3</td>\n",
       "      <td>91.2</td>\n",
       "      <td>844.7</td>\n",
       "      <td>98.3</td>\n",
       "    </tr>\n",
       "    <tr>\n",
       "      <th>112</th>\n",
       "      <td>INDIA</td>\n",
       "      <td>2013</td>\n",
       "      <td>10.0</td>\n",
       "      <td>36.9</td>\n",
       "      <td>14.5</td>\n",
       "      <td>29.4</td>\n",
       "      <td>56.5</td>\n",
       "      <td>217.9</td>\n",
       "      <td>305.4</td>\n",
       "      <td>248.4</td>\n",
       "      <td>148.4</td>\n",
       "      <td>128.9</td>\n",
       "      <td>13.7</td>\n",
       "      <td>6.2</td>\n",
       "      <td>1216.2</td>\n",
       "      <td>46.9</td>\n",
       "      <td>100.4</td>\n",
       "      <td>920.1</td>\n",
       "      <td>148.7</td>\n",
       "    </tr>\n",
       "    <tr>\n",
       "      <th>113</th>\n",
       "      <td>INDIA</td>\n",
       "      <td>2014</td>\n",
       "      <td>17.3</td>\n",
       "      <td>25.9</td>\n",
       "      <td>32.6</td>\n",
       "      <td>20.2</td>\n",
       "      <td>72.8</td>\n",
       "      <td>95.5</td>\n",
       "      <td>258.8</td>\n",
       "      <td>237.9</td>\n",
       "      <td>187.9</td>\n",
       "      <td>60.9</td>\n",
       "      <td>13.5</td>\n",
       "      <td>10.4</td>\n",
       "      <td>1033.7</td>\n",
       "      <td>43.2</td>\n",
       "      <td>125.5</td>\n",
       "      <td>780.1</td>\n",
       "      <td>84.8</td>\n",
       "    </tr>\n",
       "    <tr>\n",
       "      <th>114</th>\n",
       "      <td>INDIA</td>\n",
       "      <td>2015</td>\n",
       "      <td>17.4</td>\n",
       "      <td>21.0</td>\n",
       "      <td>62.0</td>\n",
       "      <td>69.4</td>\n",
       "      <td>53.8</td>\n",
       "      <td>192.8</td>\n",
       "      <td>242.4</td>\n",
       "      <td>205.2</td>\n",
       "      <td>131.8</td>\n",
       "      <td>42.9</td>\n",
       "      <td>39.4</td>\n",
       "      <td>15.0</td>\n",
       "      <td>1093.2</td>\n",
       "      <td>38.4</td>\n",
       "      <td>185.2</td>\n",
       "      <td>772.2</td>\n",
       "      <td>97.3</td>\n",
       "    </tr>\n",
       "  </tbody>\n",
       "</table>\n",
       "</div>"
      ],
      "text/plain": [
       "    REGION  YEAR   JAN   FEB   MAR   APR   MAY    JUN    JUL    AUG    SEP  \\\n",
       "110  INDIA  2011   7.7  26.3  21.4  41.0  51.6  182.8  243.0  284.6  190.5   \n",
       "111  INDIA  2012  28.5  10.8  10.6  48.5  32.1  125.0  258.1  263.9  197.7   \n",
       "112  INDIA  2013  10.0  36.9  14.5  29.4  56.5  217.9  305.4  248.4  148.4   \n",
       "113  INDIA  2014  17.3  25.9  32.6  20.2  72.8   95.5  258.8  237.9  187.9   \n",
       "114  INDIA  2015  17.4  21.0  62.0  69.4  53.8  192.8  242.4  205.2  131.8   \n",
       "\n",
       "       OCT   NOV   DEC  ANNUAL  Jan-Feb  Mar-May  Jun-Sep  Oct-Dec  \n",
       "110   36.5  18.4   6.5  1110.1     34.0    113.9    900.9     61.4  \n",
       "111   59.8  28.9   9.6  1073.5     39.3     91.2    844.7     98.3  \n",
       "112  128.9  13.7   6.2  1216.2     46.9    100.4    920.1    148.7  \n",
       "113   60.9  13.5  10.4  1033.7     43.2    125.5    780.1     84.8  \n",
       "114   42.9  39.4  15.0  1093.2     38.4    185.2    772.2     97.3  "
      ]
     },
     "execution_count": 3,
     "metadata": {},
     "output_type": "execute_result"
    }
   ],
   "source": [
    "df.tail()"
   ]
  },
  {
   "cell_type": "code",
   "execution_count": 5,
   "id": "11f6fa7c",
   "metadata": {},
   "outputs": [
    {
     "data": {
      "application/vnd.plotly.v1+json": {
       "config": {
        "plotlyServerURL": "https://plot.ly"
       },
       "data": [
        {
         "line": {
          "color": "blue",
          "width": 2
         },
         "mode": "lines",
         "name": "Annual Rainfall",
         "opacity": 0.7,
         "type": "scatter",
         "x": {
          "bdata": "bQduB28HcAdxB3IHcwd0B3UHdgd3B3gHeQd6B3sHfAd9B34HfweAB4EHggeDB4QHhQeGB4cHiAeJB4oHiweMB40HjgePB5AHkQeSB5MHlAeVB5YHlweYB5kHmgebB5wHnQeeB58HoAehB6IHowekB6UHpgenB6gHqQeqB6sHrAetB64HrwewB7EHsgezB7QHtQe2B7cHuAe5B7oHuwe8B70Hvge/B8AHwQfCB8MHxAfFB8YHxwfIB8kHygfLB8wHzQfOB88H0AfRB9IH0wfUB9UH1gfXB9gH2QfaB9sH3AfdB94H3wc=",
          "dtype": "i2"
         },
         "y": {
          "bdata": "MzMzMzMhkEDNzMzMzBiQQAAAAAAAmpJAZmZmZmbej0BmZmZmZnqOQGZmZmZm4JFAzczMzMw+kEBmZmZmZiKRQGZmZmZmGJJAMzMzMzPBkkAAAAAAAF6QQGZmZmZm2JBAmpmZmZmzkEAzMzMzM/mSQM3MzMzMxJFAZmZmZmbklEAzMzMzMyGXQM3MzMzMCJBAmpmZmZlzlECamZmZmV+QQM3MzMzMYJNAmpmZmZnvkkAzMzMzM2GSQDMzMzMz0ZNAmpmZmZnpkkAzMzMzM3uTQGZmZmZmupNAmpmZmZkJk0AAAAAAAOKSQJqZmZmZ5ZJAZmZmZmaKlECamZmZmQuTQAAAAAAAxpVAZmZmZmYuk0CamZmZmd2RQM3MzMzM9pRAZmZmZmYIk0DNzMzMzGqUQJqZmZmZl5FAZmZmZmb6kkCamZmZmeOQQM3MzMzMMpRAZmZmZmYIlEBmZmZmZpyUQDMzMzMzJ5NAZmZmZmbSlEBmZmZmZlKTQJqZmZmZ95RAmpmZmZnhk0AAAAAAAFKSQDMzMzMzlZBAzczMzMxQkUCamZmZmRuTQDMzMzMzcZJAMzMzMzNJlEDNzMzMzKiVQM3MzMzMaJJAAAAAAADMlEBmZmZmZpiVQAAAAAAA9JFAAAAAAADslUCamZmZmbGSQM3MzMzM6JJAZmZmZmZMk0AzMzMzM1ONQAAAAAAAoJBAMzMzMzPxkUDNzMzMzHiQQM3MzMzM7pFAAAAAAAB8k0AAAAAAAAiTQAAAAAAApI1AAAAAAAD4kkDNzMzMzE6QQM3MzMzMKJRAMzMzMzOTkUCamZmZmdmTQDMzMzMzXZNAMzMzMzP7j0AAAAAAAJaSQGZmZmZmTpJAMzMzMzP7kEAAAAAAAM6UQJqZmZmZD5JAAAAAAADQkUBmZmZmZpqRQJqZmZmZ25BAAAAAAAAclUCamZmZmYmRQGZmZmZm4pVAmpmZmZkfkkAzMzMzM4WRQJqZmZmZx5JAZmZmZmY+lEBmZmZmZm6TQDMzMzMzd5JAmpmZmZlNkkAAAAAAAG6TQAAAAAAAsJFAmpmZmZlpkEAzMzMzM+2QQGZmZmZmxoxAAAAAAABakkAzMzMzM72QQAAAAAAAQpNAmpmZmZm9kkBmZmZmZv6SQGZmZmZmsJFAZmZmZmb6jUAAAAAAAMKSQGZmZmZmWJFAAAAAAADGkEDNzMzMzACTQM3MzMzMJpBAzczMzMwUkUA=",
          "dtype": "f8"
         }
        },
        {
         "line": {
          "color": "red",
          "dash": "dash"
         },
         "mode": "lines",
         "name": "Mean Rainfall",
         "type": "scatter",
         "x": {
          "bdata": "bQduB28HcAdxB3IHcwd0B3UHdgd3B3gHeQd6B3sHfAd9B34HfweAB4EHggeDB4QHhQeGB4cHiAeJB4oHiweMB40HjgePB5AHkQeSB5MHlAeVB5YHlweYB5kHmgebB5wHnQeeB58HoAehB6IHowekB6UHpgenB6gHqQeqB6sHrAetB64HrwewB7EHsgezB7QHtQe2B7cHuAe5B7oHuwe8B70Hvge/B8AHwQfCB8MHxAfFB8YHxwfIB8kHygfLB8wHzQfOB88H0AfRB9IH0wfUB9UH1gfXB9gH2QfaB9sH3AfdB94H3wc=",
          "dtype": "i2"
         },
         "y": [
          1182.0347826086959,
          1182.0347826086959,
          1182.0347826086959,
          1182.0347826086959,
          1182.0347826086959,
          1182.0347826086959,
          1182.0347826086959,
          1182.0347826086959,
          1182.0347826086959,
          1182.0347826086959,
          1182.0347826086959,
          1182.0347826086959,
          1182.0347826086959,
          1182.0347826086959,
          1182.0347826086959,
          1182.0347826086959,
          1182.0347826086959,
          1182.0347826086959,
          1182.0347826086959,
          1182.0347826086959,
          1182.0347826086959,
          1182.0347826086959,
          1182.0347826086959,
          1182.0347826086959,
          1182.0347826086959,
          1182.0347826086959,
          1182.0347826086959,
          1182.0347826086959,
          1182.0347826086959,
          1182.0347826086959,
          1182.0347826086959,
          1182.0347826086959,
          1182.0347826086959,
          1182.0347826086959,
          1182.0347826086959,
          1182.0347826086959,
          1182.0347826086959,
          1182.0347826086959,
          1182.0347826086959,
          1182.0347826086959,
          1182.0347826086959,
          1182.0347826086959,
          1182.0347826086959,
          1182.0347826086959,
          1182.0347826086959,
          1182.0347826086959,
          1182.0347826086959,
          1182.0347826086959,
          1182.0347826086959,
          1182.0347826086959,
          1182.0347826086959,
          1182.0347826086959,
          1182.0347826086959,
          1182.0347826086959,
          1182.0347826086959,
          1182.0347826086959,
          1182.0347826086959,
          1182.0347826086959,
          1182.0347826086959,
          1182.0347826086959,
          1182.0347826086959,
          1182.0347826086959,
          1182.0347826086959,
          1182.0347826086959,
          1182.0347826086959,
          1182.0347826086959,
          1182.0347826086959,
          1182.0347826086959,
          1182.0347826086959,
          1182.0347826086959,
          1182.0347826086959,
          1182.0347826086959,
          1182.0347826086959,
          1182.0347826086959,
          1182.0347826086959,
          1182.0347826086959,
          1182.0347826086959,
          1182.0347826086959,
          1182.0347826086959,
          1182.0347826086959,
          1182.0347826086959,
          1182.0347826086959,
          1182.0347826086959,
          1182.0347826086959,
          1182.0347826086959,
          1182.0347826086959,
          1182.0347826086959,
          1182.0347826086959,
          1182.0347826086959,
          1182.0347826086959,
          1182.0347826086959,
          1182.0347826086959,
          1182.0347826086959,
          1182.0347826086959,
          1182.0347826086959,
          1182.0347826086959,
          1182.0347826086959,
          1182.0347826086959,
          1182.0347826086959,
          1182.0347826086959,
          1182.0347826086959,
          1182.0347826086959,
          1182.0347826086959,
          1182.0347826086959,
          1182.0347826086959,
          1182.0347826086959,
          1182.0347826086959,
          1182.0347826086959,
          1182.0347826086959,
          1182.0347826086959,
          1182.0347826086959,
          1182.0347826086959,
          1182.0347826086959,
          1182.0347826086959,
          1182.0347826086959
         ]
        }
       ],
       "layout": {
        "height": 500,
        "legend": {
         "title": {
          "text": "Legend"
         }
        },
        "template": {
         "data": {
          "bar": [
           {
            "error_x": {
             "color": "#2a3f5f"
            },
            "error_y": {
             "color": "#2a3f5f"
            },
            "marker": {
             "line": {
              "color": "white",
              "width": 0.5
             },
             "pattern": {
              "fillmode": "overlay",
              "size": 10,
              "solidity": 0.2
             }
            },
            "type": "bar"
           }
          ],
          "barpolar": [
           {
            "marker": {
             "line": {
              "color": "white",
              "width": 0.5
             },
             "pattern": {
              "fillmode": "overlay",
              "size": 10,
              "solidity": 0.2
             }
            },
            "type": "barpolar"
           }
          ],
          "carpet": [
           {
            "aaxis": {
             "endlinecolor": "#2a3f5f",
             "gridcolor": "#C8D4E3",
             "linecolor": "#C8D4E3",
             "minorgridcolor": "#C8D4E3",
             "startlinecolor": "#2a3f5f"
            },
            "baxis": {
             "endlinecolor": "#2a3f5f",
             "gridcolor": "#C8D4E3",
             "linecolor": "#C8D4E3",
             "minorgridcolor": "#C8D4E3",
             "startlinecolor": "#2a3f5f"
            },
            "type": "carpet"
           }
          ],
          "choropleth": [
           {
            "colorbar": {
             "outlinewidth": 0,
             "ticks": ""
            },
            "type": "choropleth"
           }
          ],
          "contour": [
           {
            "colorbar": {
             "outlinewidth": 0,
             "ticks": ""
            },
            "colorscale": [
             [
              0,
              "#0d0887"
             ],
             [
              0.1111111111111111,
              "#46039f"
             ],
             [
              0.2222222222222222,
              "#7201a8"
             ],
             [
              0.3333333333333333,
              "#9c179e"
             ],
             [
              0.4444444444444444,
              "#bd3786"
             ],
             [
              0.5555555555555556,
              "#d8576b"
             ],
             [
              0.6666666666666666,
              "#ed7953"
             ],
             [
              0.7777777777777778,
              "#fb9f3a"
             ],
             [
              0.8888888888888888,
              "#fdca26"
             ],
             [
              1,
              "#f0f921"
             ]
            ],
            "type": "contour"
           }
          ],
          "contourcarpet": [
           {
            "colorbar": {
             "outlinewidth": 0,
             "ticks": ""
            },
            "type": "contourcarpet"
           }
          ],
          "heatmap": [
           {
            "colorbar": {
             "outlinewidth": 0,
             "ticks": ""
            },
            "colorscale": [
             [
              0,
              "#0d0887"
             ],
             [
              0.1111111111111111,
              "#46039f"
             ],
             [
              0.2222222222222222,
              "#7201a8"
             ],
             [
              0.3333333333333333,
              "#9c179e"
             ],
             [
              0.4444444444444444,
              "#bd3786"
             ],
             [
              0.5555555555555556,
              "#d8576b"
             ],
             [
              0.6666666666666666,
              "#ed7953"
             ],
             [
              0.7777777777777778,
              "#fb9f3a"
             ],
             [
              0.8888888888888888,
              "#fdca26"
             ],
             [
              1,
              "#f0f921"
             ]
            ],
            "type": "heatmap"
           }
          ],
          "histogram": [
           {
            "marker": {
             "pattern": {
              "fillmode": "overlay",
              "size": 10,
              "solidity": 0.2
             }
            },
            "type": "histogram"
           }
          ],
          "histogram2d": [
           {
            "colorbar": {
             "outlinewidth": 0,
             "ticks": ""
            },
            "colorscale": [
             [
              0,
              "#0d0887"
             ],
             [
              0.1111111111111111,
              "#46039f"
             ],
             [
              0.2222222222222222,
              "#7201a8"
             ],
             [
              0.3333333333333333,
              "#9c179e"
             ],
             [
              0.4444444444444444,
              "#bd3786"
             ],
             [
              0.5555555555555556,
              "#d8576b"
             ],
             [
              0.6666666666666666,
              "#ed7953"
             ],
             [
              0.7777777777777778,
              "#fb9f3a"
             ],
             [
              0.8888888888888888,
              "#fdca26"
             ],
             [
              1,
              "#f0f921"
             ]
            ],
            "type": "histogram2d"
           }
          ],
          "histogram2dcontour": [
           {
            "colorbar": {
             "outlinewidth": 0,
             "ticks": ""
            },
            "colorscale": [
             [
              0,
              "#0d0887"
             ],
             [
              0.1111111111111111,
              "#46039f"
             ],
             [
              0.2222222222222222,
              "#7201a8"
             ],
             [
              0.3333333333333333,
              "#9c179e"
             ],
             [
              0.4444444444444444,
              "#bd3786"
             ],
             [
              0.5555555555555556,
              "#d8576b"
             ],
             [
              0.6666666666666666,
              "#ed7953"
             ],
             [
              0.7777777777777778,
              "#fb9f3a"
             ],
             [
              0.8888888888888888,
              "#fdca26"
             ],
             [
              1,
              "#f0f921"
             ]
            ],
            "type": "histogram2dcontour"
           }
          ],
          "mesh3d": [
           {
            "colorbar": {
             "outlinewidth": 0,
             "ticks": ""
            },
            "type": "mesh3d"
           }
          ],
          "parcoords": [
           {
            "line": {
             "colorbar": {
              "outlinewidth": 0,
              "ticks": ""
             }
            },
            "type": "parcoords"
           }
          ],
          "pie": [
           {
            "automargin": true,
            "type": "pie"
           }
          ],
          "scatter": [
           {
            "fillpattern": {
             "fillmode": "overlay",
             "size": 10,
             "solidity": 0.2
            },
            "type": "scatter"
           }
          ],
          "scatter3d": [
           {
            "line": {
             "colorbar": {
              "outlinewidth": 0,
              "ticks": ""
             }
            },
            "marker": {
             "colorbar": {
              "outlinewidth": 0,
              "ticks": ""
             }
            },
            "type": "scatter3d"
           }
          ],
          "scattercarpet": [
           {
            "marker": {
             "colorbar": {
              "outlinewidth": 0,
              "ticks": ""
             }
            },
            "type": "scattercarpet"
           }
          ],
          "scattergeo": [
           {
            "marker": {
             "colorbar": {
              "outlinewidth": 0,
              "ticks": ""
             }
            },
            "type": "scattergeo"
           }
          ],
          "scattergl": [
           {
            "marker": {
             "colorbar": {
              "outlinewidth": 0,
              "ticks": ""
             }
            },
            "type": "scattergl"
           }
          ],
          "scattermap": [
           {
            "marker": {
             "colorbar": {
              "outlinewidth": 0,
              "ticks": ""
             }
            },
            "type": "scattermap"
           }
          ],
          "scattermapbox": [
           {
            "marker": {
             "colorbar": {
              "outlinewidth": 0,
              "ticks": ""
             }
            },
            "type": "scattermapbox"
           }
          ],
          "scatterpolar": [
           {
            "marker": {
             "colorbar": {
              "outlinewidth": 0,
              "ticks": ""
             }
            },
            "type": "scatterpolar"
           }
          ],
          "scatterpolargl": [
           {
            "marker": {
             "colorbar": {
              "outlinewidth": 0,
              "ticks": ""
             }
            },
            "type": "scatterpolargl"
           }
          ],
          "scatterternary": [
           {
            "marker": {
             "colorbar": {
              "outlinewidth": 0,
              "ticks": ""
             }
            },
            "type": "scatterternary"
           }
          ],
          "surface": [
           {
            "colorbar": {
             "outlinewidth": 0,
             "ticks": ""
            },
            "colorscale": [
             [
              0,
              "#0d0887"
             ],
             [
              0.1111111111111111,
              "#46039f"
             ],
             [
              0.2222222222222222,
              "#7201a8"
             ],
             [
              0.3333333333333333,
              "#9c179e"
             ],
             [
              0.4444444444444444,
              "#bd3786"
             ],
             [
              0.5555555555555556,
              "#d8576b"
             ],
             [
              0.6666666666666666,
              "#ed7953"
             ],
             [
              0.7777777777777778,
              "#fb9f3a"
             ],
             [
              0.8888888888888888,
              "#fdca26"
             ],
             [
              1,
              "#f0f921"
             ]
            ],
            "type": "surface"
           }
          ],
          "table": [
           {
            "cells": {
             "fill": {
              "color": "#EBF0F8"
             },
             "line": {
              "color": "white"
             }
            },
            "header": {
             "fill": {
              "color": "#C8D4E3"
             },
             "line": {
              "color": "white"
             }
            },
            "type": "table"
           }
          ]
         },
         "layout": {
          "annotationdefaults": {
           "arrowcolor": "#2a3f5f",
           "arrowhead": 0,
           "arrowwidth": 1
          },
          "autotypenumbers": "strict",
          "coloraxis": {
           "colorbar": {
            "outlinewidth": 0,
            "ticks": ""
           }
          },
          "colorscale": {
           "diverging": [
            [
             0,
             "#8e0152"
            ],
            [
             0.1,
             "#c51b7d"
            ],
            [
             0.2,
             "#de77ae"
            ],
            [
             0.3,
             "#f1b6da"
            ],
            [
             0.4,
             "#fde0ef"
            ],
            [
             0.5,
             "#f7f7f7"
            ],
            [
             0.6,
             "#e6f5d0"
            ],
            [
             0.7,
             "#b8e186"
            ],
            [
             0.8,
             "#7fbc41"
            ],
            [
             0.9,
             "#4d9221"
            ],
            [
             1,
             "#276419"
            ]
           ],
           "sequential": [
            [
             0,
             "#0d0887"
            ],
            [
             0.1111111111111111,
             "#46039f"
            ],
            [
             0.2222222222222222,
             "#7201a8"
            ],
            [
             0.3333333333333333,
             "#9c179e"
            ],
            [
             0.4444444444444444,
             "#bd3786"
            ],
            [
             0.5555555555555556,
             "#d8576b"
            ],
            [
             0.6666666666666666,
             "#ed7953"
            ],
            [
             0.7777777777777778,
             "#fb9f3a"
            ],
            [
             0.8888888888888888,
             "#fdca26"
            ],
            [
             1,
             "#f0f921"
            ]
           ],
           "sequentialminus": [
            [
             0,
             "#0d0887"
            ],
            [
             0.1111111111111111,
             "#46039f"
            ],
            [
             0.2222222222222222,
             "#7201a8"
            ],
            [
             0.3333333333333333,
             "#9c179e"
            ],
            [
             0.4444444444444444,
             "#bd3786"
            ],
            [
             0.5555555555555556,
             "#d8576b"
            ],
            [
             0.6666666666666666,
             "#ed7953"
            ],
            [
             0.7777777777777778,
             "#fb9f3a"
            ],
            [
             0.8888888888888888,
             "#fdca26"
            ],
            [
             1,
             "#f0f921"
            ]
           ]
          },
          "colorway": [
           "#636efa",
           "#EF553B",
           "#00cc96",
           "#ab63fa",
           "#FFA15A",
           "#19d3f3",
           "#FF6692",
           "#B6E880",
           "#FF97FF",
           "#FECB52"
          ],
          "font": {
           "color": "#2a3f5f"
          },
          "geo": {
           "bgcolor": "white",
           "lakecolor": "white",
           "landcolor": "white",
           "showlakes": true,
           "showland": true,
           "subunitcolor": "#C8D4E3"
          },
          "hoverlabel": {
           "align": "left"
          },
          "hovermode": "closest",
          "mapbox": {
           "style": "light"
          },
          "paper_bgcolor": "white",
          "plot_bgcolor": "white",
          "polar": {
           "angularaxis": {
            "gridcolor": "#EBF0F8",
            "linecolor": "#EBF0F8",
            "ticks": ""
           },
           "bgcolor": "white",
           "radialaxis": {
            "gridcolor": "#EBF0F8",
            "linecolor": "#EBF0F8",
            "ticks": ""
           }
          },
          "scene": {
           "xaxis": {
            "backgroundcolor": "white",
            "gridcolor": "#DFE8F3",
            "gridwidth": 2,
            "linecolor": "#EBF0F8",
            "showbackground": true,
            "ticks": "",
            "zerolinecolor": "#EBF0F8"
           },
           "yaxis": {
            "backgroundcolor": "white",
            "gridcolor": "#DFE8F3",
            "gridwidth": 2,
            "linecolor": "#EBF0F8",
            "showbackground": true,
            "ticks": "",
            "zerolinecolor": "#EBF0F8"
           },
           "zaxis": {
            "backgroundcolor": "white",
            "gridcolor": "#DFE8F3",
            "gridwidth": 2,
            "linecolor": "#EBF0F8",
            "showbackground": true,
            "ticks": "",
            "zerolinecolor": "#EBF0F8"
           }
          },
          "shapedefaults": {
           "line": {
            "color": "#2a3f5f"
           }
          },
          "ternary": {
           "aaxis": {
            "gridcolor": "#DFE8F3",
            "linecolor": "#A2B1C6",
            "ticks": ""
           },
           "baxis": {
            "gridcolor": "#DFE8F3",
            "linecolor": "#A2B1C6",
            "ticks": ""
           },
           "bgcolor": "white",
           "caxis": {
            "gridcolor": "#DFE8F3",
            "linecolor": "#A2B1C6",
            "ticks": ""
           }
          },
          "title": {
           "x": 0.05
          },
          "xaxis": {
           "automargin": true,
           "gridcolor": "#EBF0F8",
           "linecolor": "#EBF0F8",
           "ticks": "",
           "title": {
            "standoff": 15
           },
           "zerolinecolor": "#EBF0F8",
           "zerolinewidth": 2
          },
          "yaxis": {
           "automargin": true,
           "gridcolor": "#EBF0F8",
           "linecolor": "#EBF0F8",
           "ticks": "",
           "title": {
            "standoff": 15
           },
           "zerolinecolor": "#EBF0F8",
           "zerolinewidth": 2
          }
         }
        },
        "title": {
         "text": "Trend in Annual Rainfall in India (1901-2015)"
        },
        "xaxis": {
         "title": {
          "text": "Year"
         }
        },
        "yaxis": {
         "title": {
          "text": "Rainfall (mm)"
         }
        }
       }
      }
     },
     "metadata": {},
     "output_type": "display_data"
    }
   ],
   "source": [
    "import plotly.graph_objects as go\n",
    "import plotly.express as px\n",
    "\n",
    "\n",
    "annual_rainfall = df[['YEAR', 'ANNUAL']]\n",
    "\n",
    "fig_annual = go.Figure()\n",
    "fig_annual.add_trace(go.Scatter(\n",
    "    x=annual_rainfall['YEAR'],\n",
    "    y=annual_rainfall['ANNUAL'],\n",
    "    mode='lines',\n",
    "    name='Annual Rainfall',\n",
    "    line=dict(color='blue', width=2),\n",
    "    opacity=0.7\n",
    "))\n",
    "fig_annual.add_trace(go.Scatter(\n",
    "    x=annual_rainfall['YEAR'],\n",
    "    y=[annual_rainfall['ANNUAL'].mean()] * len(annual_rainfall),\n",
    "    mode='lines',\n",
    "    name='Mean Rainfall',\n",
    "    line=dict(color='red', dash='dash')\n",
    "))\n",
    "fig_annual.update_layout(\n",
    "    title='Trend in Annual Rainfall in India (1901-2015)',\n",
    "    xaxis_title='Year',\n",
    "    yaxis_title='Rainfall (mm)',\n",
    "    template='plotly_white',\n",
    "    legend=dict(title=\"Legend\"),\n",
    "    height=500\n",
    ")\n",
    "fig_annual.show()"
   ]
  },
  {
   "cell_type": "code",
   "execution_count": null,
   "id": "15070fb9",
   "metadata": {},
   "outputs": [
    {
     "data": {
      "application/vnd.plotly.v1+json": {
       "config": {
        "plotlyServerURL": "https://plot.ly"
       },
       "data": [
        {
         "hovertemplate": "Month=%{x}<br>Rainfall (mm)=%{y}<br>text=%{text}<extra></extra>",
         "legendgroup": "",
         "marker": {
          "color": "skyblue",
          "line": {
           "color": "black",
           "width": 1
          },
          "pattern": {
           "shape": ""
          }
         },
         "name": "",
         "orientation": "v",
         "showlegend": false,
         "text": {
          "bdata": "I8pGX1bCM0CnN73pTW83QPjv2245QTxAv7DNTvEeQ0DlAIIk0hhPQOxRuB6FC2VA6IbvmlwwckAhiTT2aSZwQO6WEywjj2VAneI9S+nsUkD9OIAgiTQ9QPYoXI/C9S1A",
          "dtype": "f8"
         },
         "textposition": "auto",
         "type": "bar",
         "x": [
          "JAN",
          "FEB",
          "MAR",
          "APR",
          "MAY",
          "JUN",
          "JUL",
          "AUG",
          "SEP",
          "OCT",
          "NOV",
          "DEC"
         ],
         "xaxis": "x",
         "y": {
          "bdata": "I8pGX1bCM0CnN73pTW83QPjv2245QTxAv7DNTvEeQ0DlAIIk0hhPQOxRuB6FC2VA6IbvmlwwckAhiTT2aSZwQO6WEywjj2VAneI9S+nsUkD9OIAgiTQ9QPYoXI/C9S1A",
          "dtype": "f8"
         },
         "yaxis": "y"
        }
       ],
       "layout": {
        "annotations": [
         {
          "showarrow": false,
          "text": "Mean Rainfall",
          "x": 1,
          "xanchor": "right",
          "xref": "x domain",
          "y": 98.50231884057972,
          "yanchor": "bottom",
          "yref": "y"
         }
        ],
        "barmode": "relative",
        "height": 500,
        "legend": {
         "tracegroupgap": 0
        },
        "shapes": [
         {
          "line": {
           "color": "red",
           "dash": "dash"
          },
          "type": "line",
          "x0": 0,
          "x1": 1,
          "xref": "x domain",
          "y0": 98.50231884057972,
          "y1": 98.50231884057972,
          "yref": "y"
         }
        ],
        "template": {
         "data": {
          "bar": [
           {
            "error_x": {
             "color": "#2a3f5f"
            },
            "error_y": {
             "color": "#2a3f5f"
            },
            "marker": {
             "line": {
              "color": "white",
              "width": 0.5
             },
             "pattern": {
              "fillmode": "overlay",
              "size": 10,
              "solidity": 0.2
             }
            },
            "type": "bar"
           }
          ],
          "barpolar": [
           {
            "marker": {
             "line": {
              "color": "white",
              "width": 0.5
             },
             "pattern": {
              "fillmode": "overlay",
              "size": 10,
              "solidity": 0.2
             }
            },
            "type": "barpolar"
           }
          ],
          "carpet": [
           {
            "aaxis": {
             "endlinecolor": "#2a3f5f",
             "gridcolor": "#C8D4E3",
             "linecolor": "#C8D4E3",
             "minorgridcolor": "#C8D4E3",
             "startlinecolor": "#2a3f5f"
            },
            "baxis": {
             "endlinecolor": "#2a3f5f",
             "gridcolor": "#C8D4E3",
             "linecolor": "#C8D4E3",
             "minorgridcolor": "#C8D4E3",
             "startlinecolor": "#2a3f5f"
            },
            "type": "carpet"
           }
          ],
          "choropleth": [
           {
            "colorbar": {
             "outlinewidth": 0,
             "ticks": ""
            },
            "type": "choropleth"
           }
          ],
          "contour": [
           {
            "colorbar": {
             "outlinewidth": 0,
             "ticks": ""
            },
            "colorscale": [
             [
              0,
              "#0d0887"
             ],
             [
              0.1111111111111111,
              "#46039f"
             ],
             [
              0.2222222222222222,
              "#7201a8"
             ],
             [
              0.3333333333333333,
              "#9c179e"
             ],
             [
              0.4444444444444444,
              "#bd3786"
             ],
             [
              0.5555555555555556,
              "#d8576b"
             ],
             [
              0.6666666666666666,
              "#ed7953"
             ],
             [
              0.7777777777777778,
              "#fb9f3a"
             ],
             [
              0.8888888888888888,
              "#fdca26"
             ],
             [
              1,
              "#f0f921"
             ]
            ],
            "type": "contour"
           }
          ],
          "contourcarpet": [
           {
            "colorbar": {
             "outlinewidth": 0,
             "ticks": ""
            },
            "type": "contourcarpet"
           }
          ],
          "heatmap": [
           {
            "colorbar": {
             "outlinewidth": 0,
             "ticks": ""
            },
            "colorscale": [
             [
              0,
              "#0d0887"
             ],
             [
              0.1111111111111111,
              "#46039f"
             ],
             [
              0.2222222222222222,
              "#7201a8"
             ],
             [
              0.3333333333333333,
              "#9c179e"
             ],
             [
              0.4444444444444444,
              "#bd3786"
             ],
             [
              0.5555555555555556,
              "#d8576b"
             ],
             [
              0.6666666666666666,
              "#ed7953"
             ],
             [
              0.7777777777777778,
              "#fb9f3a"
             ],
             [
              0.8888888888888888,
              "#fdca26"
             ],
             [
              1,
              "#f0f921"
             ]
            ],
            "type": "heatmap"
           }
          ],
          "histogram": [
           {
            "marker": {
             "pattern": {
              "fillmode": "overlay",
              "size": 10,
              "solidity": 0.2
             }
            },
            "type": "histogram"
           }
          ],
          "histogram2d": [
           {
            "colorbar": {
             "outlinewidth": 0,
             "ticks": ""
            },
            "colorscale": [
             [
              0,
              "#0d0887"
             ],
             [
              0.1111111111111111,
              "#46039f"
             ],
             [
              0.2222222222222222,
              "#7201a8"
             ],
             [
              0.3333333333333333,
              "#9c179e"
             ],
             [
              0.4444444444444444,
              "#bd3786"
             ],
             [
              0.5555555555555556,
              "#d8576b"
             ],
             [
              0.6666666666666666,
              "#ed7953"
             ],
             [
              0.7777777777777778,
              "#fb9f3a"
             ],
             [
              0.8888888888888888,
              "#fdca26"
             ],
             [
              1,
              "#f0f921"
             ]
            ],
            "type": "histogram2d"
           }
          ],
          "histogram2dcontour": [
           {
            "colorbar": {
             "outlinewidth": 0,
             "ticks": ""
            },
            "colorscale": [
             [
              0,
              "#0d0887"
             ],
             [
              0.1111111111111111,
              "#46039f"
             ],
             [
              0.2222222222222222,
              "#7201a8"
             ],
             [
              0.3333333333333333,
              "#9c179e"
             ],
             [
              0.4444444444444444,
              "#bd3786"
             ],
             [
              0.5555555555555556,
              "#d8576b"
             ],
             [
              0.6666666666666666,
              "#ed7953"
             ],
             [
              0.7777777777777778,
              "#fb9f3a"
             ],
             [
              0.8888888888888888,
              "#fdca26"
             ],
             [
              1,
              "#f0f921"
             ]
            ],
            "type": "histogram2dcontour"
           }
          ],
          "mesh3d": [
           {
            "colorbar": {
             "outlinewidth": 0,
             "ticks": ""
            },
            "type": "mesh3d"
           }
          ],
          "parcoords": [
           {
            "line": {
             "colorbar": {
              "outlinewidth": 0,
              "ticks": ""
             }
            },
            "type": "parcoords"
           }
          ],
          "pie": [
           {
            "automargin": true,
            "type": "pie"
           }
          ],
          "scatter": [
           {
            "fillpattern": {
             "fillmode": "overlay",
             "size": 10,
             "solidity": 0.2
            },
            "type": "scatter"
           }
          ],
          "scatter3d": [
           {
            "line": {
             "colorbar": {
              "outlinewidth": 0,
              "ticks": ""
             }
            },
            "marker": {
             "colorbar": {
              "outlinewidth": 0,
              "ticks": ""
             }
            },
            "type": "scatter3d"
           }
          ],
          "scattercarpet": [
           {
            "marker": {
             "colorbar": {
              "outlinewidth": 0,
              "ticks": ""
             }
            },
            "type": "scattercarpet"
           }
          ],
          "scattergeo": [
           {
            "marker": {
             "colorbar": {
              "outlinewidth": 0,
              "ticks": ""
             }
            },
            "type": "scattergeo"
           }
          ],
          "scattergl": [
           {
            "marker": {
             "colorbar": {
              "outlinewidth": 0,
              "ticks": ""
             }
            },
            "type": "scattergl"
           }
          ],
          "scattermap": [
           {
            "marker": {
             "colorbar": {
              "outlinewidth": 0,
              "ticks": ""
             }
            },
            "type": "scattermap"
           }
          ],
          "scattermapbox": [
           {
            "marker": {
             "colorbar": {
              "outlinewidth": 0,
              "ticks": ""
             }
            },
            "type": "scattermapbox"
           }
          ],
          "scatterpolar": [
           {
            "marker": {
             "colorbar": {
              "outlinewidth": 0,
              "ticks": ""
             }
            },
            "type": "scatterpolar"
           }
          ],
          "scatterpolargl": [
           {
            "marker": {
             "colorbar": {
              "outlinewidth": 0,
              "ticks": ""
             }
            },
            "type": "scatterpolargl"
           }
          ],
          "scatterternary": [
           {
            "marker": {
             "colorbar": {
              "outlinewidth": 0,
              "ticks": ""
             }
            },
            "type": "scatterternary"
           }
          ],
          "surface": [
           {
            "colorbar": {
             "outlinewidth": 0,
             "ticks": ""
            },
            "colorscale": [
             [
              0,
              "#0d0887"
             ],
             [
              0.1111111111111111,
              "#46039f"
             ],
             [
              0.2222222222222222,
              "#7201a8"
             ],
             [
              0.3333333333333333,
              "#9c179e"
             ],
             [
              0.4444444444444444,
              "#bd3786"
             ],
             [
              0.5555555555555556,
              "#d8576b"
             ],
             [
              0.6666666666666666,
              "#ed7953"
             ],
             [
              0.7777777777777778,
              "#fb9f3a"
             ],
             [
              0.8888888888888888,
              "#fdca26"
             ],
             [
              1,
              "#f0f921"
             ]
            ],
            "type": "surface"
           }
          ],
          "table": [
           {
            "cells": {
             "fill": {
              "color": "#EBF0F8"
             },
             "line": {
              "color": "white"
             }
            },
            "header": {
             "fill": {
              "color": "#C8D4E3"
             },
             "line": {
              "color": "white"
             }
            },
            "type": "table"
           }
          ]
         },
         "layout": {
          "annotationdefaults": {
           "arrowcolor": "#2a3f5f",
           "arrowhead": 0,
           "arrowwidth": 1
          },
          "autotypenumbers": "strict",
          "coloraxis": {
           "colorbar": {
            "outlinewidth": 0,
            "ticks": ""
           }
          },
          "colorscale": {
           "diverging": [
            [
             0,
             "#8e0152"
            ],
            [
             0.1,
             "#c51b7d"
            ],
            [
             0.2,
             "#de77ae"
            ],
            [
             0.3,
             "#f1b6da"
            ],
            [
             0.4,
             "#fde0ef"
            ],
            [
             0.5,
             "#f7f7f7"
            ],
            [
             0.6,
             "#e6f5d0"
            ],
            [
             0.7,
             "#b8e186"
            ],
            [
             0.8,
             "#7fbc41"
            ],
            [
             0.9,
             "#4d9221"
            ],
            [
             1,
             "#276419"
            ]
           ],
           "sequential": [
            [
             0,
             "#0d0887"
            ],
            [
             0.1111111111111111,
             "#46039f"
            ],
            [
             0.2222222222222222,
             "#7201a8"
            ],
            [
             0.3333333333333333,
             "#9c179e"
            ],
            [
             0.4444444444444444,
             "#bd3786"
            ],
            [
             0.5555555555555556,
             "#d8576b"
            ],
            [
             0.6666666666666666,
             "#ed7953"
            ],
            [
             0.7777777777777778,
             "#fb9f3a"
            ],
            [
             0.8888888888888888,
             "#fdca26"
            ],
            [
             1,
             "#f0f921"
            ]
           ],
           "sequentialminus": [
            [
             0,
             "#0d0887"
            ],
            [
             0.1111111111111111,
             "#46039f"
            ],
            [
             0.2222222222222222,
             "#7201a8"
            ],
            [
             0.3333333333333333,
             "#9c179e"
            ],
            [
             0.4444444444444444,
             "#bd3786"
            ],
            [
             0.5555555555555556,
             "#d8576b"
            ],
            [
             0.6666666666666666,
             "#ed7953"
            ],
            [
             0.7777777777777778,
             "#fb9f3a"
            ],
            [
             0.8888888888888888,
             "#fdca26"
            ],
            [
             1,
             "#f0f921"
            ]
           ]
          },
          "colorway": [
           "#636efa",
           "#EF553B",
           "#00cc96",
           "#ab63fa",
           "#FFA15A",
           "#19d3f3",
           "#FF6692",
           "#B6E880",
           "#FF97FF",
           "#FECB52"
          ],
          "font": {
           "color": "#2a3f5f"
          },
          "geo": {
           "bgcolor": "white",
           "lakecolor": "white",
           "landcolor": "white",
           "showlakes": true,
           "showland": true,
           "subunitcolor": "#C8D4E3"
          },
          "hoverlabel": {
           "align": "left"
          },
          "hovermode": "closest",
          "mapbox": {
           "style": "light"
          },
          "paper_bgcolor": "white",
          "plot_bgcolor": "white",
          "polar": {
           "angularaxis": {
            "gridcolor": "#EBF0F8",
            "linecolor": "#EBF0F8",
            "ticks": ""
           },
           "bgcolor": "white",
           "radialaxis": {
            "gridcolor": "#EBF0F8",
            "linecolor": "#EBF0F8",
            "ticks": ""
           }
          },
          "scene": {
           "xaxis": {
            "backgroundcolor": "white",
            "gridcolor": "#DFE8F3",
            "gridwidth": 2,
            "linecolor": "#EBF0F8",
            "showbackground": true,
            "ticks": "",
            "zerolinecolor": "#EBF0F8"
           },
           "yaxis": {
            "backgroundcolor": "white",
            "gridcolor": "#DFE8F3",
            "gridwidth": 2,
            "linecolor": "#EBF0F8",
            "showbackground": true,
            "ticks": "",
            "zerolinecolor": "#EBF0F8"
           },
           "zaxis": {
            "backgroundcolor": "white",
            "gridcolor": "#DFE8F3",
            "gridwidth": 2,
            "linecolor": "#EBF0F8",
            "showbackground": true,
            "ticks": "",
            "zerolinecolor": "#EBF0F8"
           }
          },
          "shapedefaults": {
           "line": {
            "color": "#2a3f5f"
           }
          },
          "ternary": {
           "aaxis": {
            "gridcolor": "#DFE8F3",
            "linecolor": "#A2B1C6",
            "ticks": ""
           },
           "baxis": {
            "gridcolor": "#DFE8F3",
            "linecolor": "#A2B1C6",
            "ticks": ""
           },
           "bgcolor": "white",
           "caxis": {
            "gridcolor": "#DFE8F3",
            "linecolor": "#A2B1C6",
            "ticks": ""
           }
          },
          "title": {
           "x": 0.05
          },
          "xaxis": {
           "automargin": true,
           "gridcolor": "#EBF0F8",
           "linecolor": "#EBF0F8",
           "ticks": "",
           "title": {
            "standoff": 15
           },
           "zerolinecolor": "#EBF0F8",
           "zerolinewidth": 2
          },
          "yaxis": {
           "automargin": true,
           "gridcolor": "#EBF0F8",
           "linecolor": "#EBF0F8",
           "ticks": "",
           "title": {
            "standoff": 15
           },
           "zerolinecolor": "#EBF0F8",
           "zerolinewidth": 2
          }
         }
        },
        "title": {
         "text": "Average Monthly Rainfall in India (1901-2015)"
        },
        "xaxis": {
         "anchor": "y",
         "domain": [
          0,
          1
         ],
         "title": {
          "text": "Month"
         }
        },
        "yaxis": {
         "anchor": "x",
         "domain": [
          0,
          1
         ],
         "title": {
          "text": "Rainfall (mm)"
         }
        }
       }
      }
     },
     "metadata": {},
     "output_type": "display_data"
    },
    {
     "data": {
      "application/vnd.plotly.v1+json": {
       "config": {
        "plotlyServerURL": "https://plot.ly"
       },
       "data": [
        {
         "hovertemplate": "Season=%{x}<br>Rainfall (mm)=%{y}<br>text=%{text}<br>color=%{marker.color}<extra></extra>",
         "legendgroup": "",
         "marker": {
          "color": {
           "bdata": "zpNMrEOYRUCtxbyoOxZgQAxZyEIW0otAcr8uqXz4XUA=",
           "dtype": "f8"
          },
          "coloraxis": "coloraxis",
          "line": {
           "color": "black",
           "width": 1
          },
          "pattern": {
           "shape": ""
          }
         },
         "name": "",
         "orientation": "v",
         "showlegend": false,
         "text": {
          "bdata": "zpNMrEOYRUCtxbyoOxZgQAxZyEIW0otAcr8uqXz4XUA=",
          "dtype": "f8"
         },
         "textposition": "auto",
         "type": "bar",
         "x": [
          "Jan-Feb",
          "Mar-May",
          "Jun-Sep",
          "Oct-Dec"
         ],
         "xaxis": "x",
         "y": {
          "bdata": "zpNMrEOYRUCtxbyoOxZgQAxZyEIW0otAcr8uqXz4XUA=",
          "dtype": "f8"
         },
         "yaxis": "y"
        }
       ],
       "layout": {
        "barmode": "relative",
        "coloraxis": {
         "colorbar": {
          "title": {
           "text": "mm"
          }
         },
         "colorscale": [
          [
           0,
           "gold"
          ],
          [
           0.3333333333333333,
           "skyblue"
          ],
          [
           0.6666666666666666,
           "green"
          ],
          [
           1,
           "orange"
          ]
         ]
        },
        "height": 500,
        "legend": {
         "tracegroupgap": 0
        },
        "template": {
         "data": {
          "bar": [
           {
            "error_x": {
             "color": "#2a3f5f"
            },
            "error_y": {
             "color": "#2a3f5f"
            },
            "marker": {
             "line": {
              "color": "white",
              "width": 0.5
             },
             "pattern": {
              "fillmode": "overlay",
              "size": 10,
              "solidity": 0.2
             }
            },
            "type": "bar"
           }
          ],
          "barpolar": [
           {
            "marker": {
             "line": {
              "color": "white",
              "width": 0.5
             },
             "pattern": {
              "fillmode": "overlay",
              "size": 10,
              "solidity": 0.2
             }
            },
            "type": "barpolar"
           }
          ],
          "carpet": [
           {
            "aaxis": {
             "endlinecolor": "#2a3f5f",
             "gridcolor": "#C8D4E3",
             "linecolor": "#C8D4E3",
             "minorgridcolor": "#C8D4E3",
             "startlinecolor": "#2a3f5f"
            },
            "baxis": {
             "endlinecolor": "#2a3f5f",
             "gridcolor": "#C8D4E3",
             "linecolor": "#C8D4E3",
             "minorgridcolor": "#C8D4E3",
             "startlinecolor": "#2a3f5f"
            },
            "type": "carpet"
           }
          ],
          "choropleth": [
           {
            "colorbar": {
             "outlinewidth": 0,
             "ticks": ""
            },
            "type": "choropleth"
           }
          ],
          "contour": [
           {
            "colorbar": {
             "outlinewidth": 0,
             "ticks": ""
            },
            "colorscale": [
             [
              0,
              "#0d0887"
             ],
             [
              0.1111111111111111,
              "#46039f"
             ],
             [
              0.2222222222222222,
              "#7201a8"
             ],
             [
              0.3333333333333333,
              "#9c179e"
             ],
             [
              0.4444444444444444,
              "#bd3786"
             ],
             [
              0.5555555555555556,
              "#d8576b"
             ],
             [
              0.6666666666666666,
              "#ed7953"
             ],
             [
              0.7777777777777778,
              "#fb9f3a"
             ],
             [
              0.8888888888888888,
              "#fdca26"
             ],
             [
              1,
              "#f0f921"
             ]
            ],
            "type": "contour"
           }
          ],
          "contourcarpet": [
           {
            "colorbar": {
             "outlinewidth": 0,
             "ticks": ""
            },
            "type": "contourcarpet"
           }
          ],
          "heatmap": [
           {
            "colorbar": {
             "outlinewidth": 0,
             "ticks": ""
            },
            "colorscale": [
             [
              0,
              "#0d0887"
             ],
             [
              0.1111111111111111,
              "#46039f"
             ],
             [
              0.2222222222222222,
              "#7201a8"
             ],
             [
              0.3333333333333333,
              "#9c179e"
             ],
             [
              0.4444444444444444,
              "#bd3786"
             ],
             [
              0.5555555555555556,
              "#d8576b"
             ],
             [
              0.6666666666666666,
              "#ed7953"
             ],
             [
              0.7777777777777778,
              "#fb9f3a"
             ],
             [
              0.8888888888888888,
              "#fdca26"
             ],
             [
              1,
              "#f0f921"
             ]
            ],
            "type": "heatmap"
           }
          ],
          "histogram": [
           {
            "marker": {
             "pattern": {
              "fillmode": "overlay",
              "size": 10,
              "solidity": 0.2
             }
            },
            "type": "histogram"
           }
          ],
          "histogram2d": [
           {
            "colorbar": {
             "outlinewidth": 0,
             "ticks": ""
            },
            "colorscale": [
             [
              0,
              "#0d0887"
             ],
             [
              0.1111111111111111,
              "#46039f"
             ],
             [
              0.2222222222222222,
              "#7201a8"
             ],
             [
              0.3333333333333333,
              "#9c179e"
             ],
             [
              0.4444444444444444,
              "#bd3786"
             ],
             [
              0.5555555555555556,
              "#d8576b"
             ],
             [
              0.6666666666666666,
              "#ed7953"
             ],
             [
              0.7777777777777778,
              "#fb9f3a"
             ],
             [
              0.8888888888888888,
              "#fdca26"
             ],
             [
              1,
              "#f0f921"
             ]
            ],
            "type": "histogram2d"
           }
          ],
          "histogram2dcontour": [
           {
            "colorbar": {
             "outlinewidth": 0,
             "ticks": ""
            },
            "colorscale": [
             [
              0,
              "#0d0887"
             ],
             [
              0.1111111111111111,
              "#46039f"
             ],
             [
              0.2222222222222222,
              "#7201a8"
             ],
             [
              0.3333333333333333,
              "#9c179e"
             ],
             [
              0.4444444444444444,
              "#bd3786"
             ],
             [
              0.5555555555555556,
              "#d8576b"
             ],
             [
              0.6666666666666666,
              "#ed7953"
             ],
             [
              0.7777777777777778,
              "#fb9f3a"
             ],
             [
              0.8888888888888888,
              "#fdca26"
             ],
             [
              1,
              "#f0f921"
             ]
            ],
            "type": "histogram2dcontour"
           }
          ],
          "mesh3d": [
           {
            "colorbar": {
             "outlinewidth": 0,
             "ticks": ""
            },
            "type": "mesh3d"
           }
          ],
          "parcoords": [
           {
            "line": {
             "colorbar": {
              "outlinewidth": 0,
              "ticks": ""
             }
            },
            "type": "parcoords"
           }
          ],
          "pie": [
           {
            "automargin": true,
            "type": "pie"
           }
          ],
          "scatter": [
           {
            "fillpattern": {
             "fillmode": "overlay",
             "size": 10,
             "solidity": 0.2
            },
            "type": "scatter"
           }
          ],
          "scatter3d": [
           {
            "line": {
             "colorbar": {
              "outlinewidth": 0,
              "ticks": ""
             }
            },
            "marker": {
             "colorbar": {
              "outlinewidth": 0,
              "ticks": ""
             }
            },
            "type": "scatter3d"
           }
          ],
          "scattercarpet": [
           {
            "marker": {
             "colorbar": {
              "outlinewidth": 0,
              "ticks": ""
             }
            },
            "type": "scattercarpet"
           }
          ],
          "scattergeo": [
           {
            "marker": {
             "colorbar": {
              "outlinewidth": 0,
              "ticks": ""
             }
            },
            "type": "scattergeo"
           }
          ],
          "scattergl": [
           {
            "marker": {
             "colorbar": {
              "outlinewidth": 0,
              "ticks": ""
             }
            },
            "type": "scattergl"
           }
          ],
          "scattermap": [
           {
            "marker": {
             "colorbar": {
              "outlinewidth": 0,
              "ticks": ""
             }
            },
            "type": "scattermap"
           }
          ],
          "scattermapbox": [
           {
            "marker": {
             "colorbar": {
              "outlinewidth": 0,
              "ticks": ""
             }
            },
            "type": "scattermapbox"
           }
          ],
          "scatterpolar": [
           {
            "marker": {
             "colorbar": {
              "outlinewidth": 0,
              "ticks": ""
             }
            },
            "type": "scatterpolar"
           }
          ],
          "scatterpolargl": [
           {
            "marker": {
             "colorbar": {
              "outlinewidth": 0,
              "ticks": ""
             }
            },
            "type": "scatterpolargl"
           }
          ],
          "scatterternary": [
           {
            "marker": {
             "colorbar": {
              "outlinewidth": 0,
              "ticks": ""
             }
            },
            "type": "scatterternary"
           }
          ],
          "surface": [
           {
            "colorbar": {
             "outlinewidth": 0,
             "ticks": ""
            },
            "colorscale": [
             [
              0,
              "#0d0887"
             ],
             [
              0.1111111111111111,
              "#46039f"
             ],
             [
              0.2222222222222222,
              "#7201a8"
             ],
             [
              0.3333333333333333,
              "#9c179e"
             ],
             [
              0.4444444444444444,
              "#bd3786"
             ],
             [
              0.5555555555555556,
              "#d8576b"
             ],
             [
              0.6666666666666666,
              "#ed7953"
             ],
             [
              0.7777777777777778,
              "#fb9f3a"
             ],
             [
              0.8888888888888888,
              "#fdca26"
             ],
             [
              1,
              "#f0f921"
             ]
            ],
            "type": "surface"
           }
          ],
          "table": [
           {
            "cells": {
             "fill": {
              "color": "#EBF0F8"
             },
             "line": {
              "color": "white"
             }
            },
            "header": {
             "fill": {
              "color": "#C8D4E3"
             },
             "line": {
              "color": "white"
             }
            },
            "type": "table"
           }
          ]
         },
         "layout": {
          "annotationdefaults": {
           "arrowcolor": "#2a3f5f",
           "arrowhead": 0,
           "arrowwidth": 1
          },
          "autotypenumbers": "strict",
          "coloraxis": {
           "colorbar": {
            "outlinewidth": 0,
            "ticks": ""
           }
          },
          "colorscale": {
           "diverging": [
            [
             0,
             "#8e0152"
            ],
            [
             0.1,
             "#c51b7d"
            ],
            [
             0.2,
             "#de77ae"
            ],
            [
             0.3,
             "#f1b6da"
            ],
            [
             0.4,
             "#fde0ef"
            ],
            [
             0.5,
             "#f7f7f7"
            ],
            [
             0.6,
             "#e6f5d0"
            ],
            [
             0.7,
             "#b8e186"
            ],
            [
             0.8,
             "#7fbc41"
            ],
            [
             0.9,
             "#4d9221"
            ],
            [
             1,
             "#276419"
            ]
           ],
           "sequential": [
            [
             0,
             "#0d0887"
            ],
            [
             0.1111111111111111,
             "#46039f"
            ],
            [
             0.2222222222222222,
             "#7201a8"
            ],
            [
             0.3333333333333333,
             "#9c179e"
            ],
            [
             0.4444444444444444,
             "#bd3786"
            ],
            [
             0.5555555555555556,
             "#d8576b"
            ],
            [
             0.6666666666666666,
             "#ed7953"
            ],
            [
             0.7777777777777778,
             "#fb9f3a"
            ],
            [
             0.8888888888888888,
             "#fdca26"
            ],
            [
             1,
             "#f0f921"
            ]
           ],
           "sequentialminus": [
            [
             0,
             "#0d0887"
            ],
            [
             0.1111111111111111,
             "#46039f"
            ],
            [
             0.2222222222222222,
             "#7201a8"
            ],
            [
             0.3333333333333333,
             "#9c179e"
            ],
            [
             0.4444444444444444,
             "#bd3786"
            ],
            [
             0.5555555555555556,
             "#d8576b"
            ],
            [
             0.6666666666666666,
             "#ed7953"
            ],
            [
             0.7777777777777778,
             "#fb9f3a"
            ],
            [
             0.8888888888888888,
             "#fdca26"
            ],
            [
             1,
             "#f0f921"
            ]
           ]
          },
          "colorway": [
           "#636efa",
           "#EF553B",
           "#00cc96",
           "#ab63fa",
           "#FFA15A",
           "#19d3f3",
           "#FF6692",
           "#B6E880",
           "#FF97FF",
           "#FECB52"
          ],
          "font": {
           "color": "#2a3f5f"
          },
          "geo": {
           "bgcolor": "white",
           "lakecolor": "white",
           "landcolor": "white",
           "showlakes": true,
           "showland": true,
           "subunitcolor": "#C8D4E3"
          },
          "hoverlabel": {
           "align": "left"
          },
          "hovermode": "closest",
          "mapbox": {
           "style": "light"
          },
          "paper_bgcolor": "white",
          "plot_bgcolor": "white",
          "polar": {
           "angularaxis": {
            "gridcolor": "#EBF0F8",
            "linecolor": "#EBF0F8",
            "ticks": ""
           },
           "bgcolor": "white",
           "radialaxis": {
            "gridcolor": "#EBF0F8",
            "linecolor": "#EBF0F8",
            "ticks": ""
           }
          },
          "scene": {
           "xaxis": {
            "backgroundcolor": "white",
            "gridcolor": "#DFE8F3",
            "gridwidth": 2,
            "linecolor": "#EBF0F8",
            "showbackground": true,
            "ticks": "",
            "zerolinecolor": "#EBF0F8"
           },
           "yaxis": {
            "backgroundcolor": "white",
            "gridcolor": "#DFE8F3",
            "gridwidth": 2,
            "linecolor": "#EBF0F8",
            "showbackground": true,
            "ticks": "",
            "zerolinecolor": "#EBF0F8"
           },
           "zaxis": {
            "backgroundcolor": "white",
            "gridcolor": "#DFE8F3",
            "gridwidth": 2,
            "linecolor": "#EBF0F8",
            "showbackground": true,
            "ticks": "",
            "zerolinecolor": "#EBF0F8"
           }
          },
          "shapedefaults": {
           "line": {
            "color": "#2a3f5f"
           }
          },
          "ternary": {
           "aaxis": {
            "gridcolor": "#DFE8F3",
            "linecolor": "#A2B1C6",
            "ticks": ""
           },
           "baxis": {
            "gridcolor": "#DFE8F3",
            "linecolor": "#A2B1C6",
            "ticks": ""
           },
           "bgcolor": "white",
           "caxis": {
            "gridcolor": "#DFE8F3",
            "linecolor": "#A2B1C6",
            "ticks": ""
           }
          },
          "title": {
           "x": 0.05
          },
          "xaxis": {
           "automargin": true,
           "gridcolor": "#EBF0F8",
           "linecolor": "#EBF0F8",
           "ticks": "",
           "title": {
            "standoff": 15
           },
           "zerolinecolor": "#EBF0F8",
           "zerolinewidth": 2
          },
          "yaxis": {
           "automargin": true,
           "gridcolor": "#EBF0F8",
           "linecolor": "#EBF0F8",
           "ticks": "",
           "title": {
            "standoff": 15
           },
           "zerolinecolor": "#EBF0F8",
           "zerolinewidth": 2
          }
         }
        },
        "title": {
         "text": "Seasonal Rainfall Distribution in India (1901-2015)"
        },
        "xaxis": {
         "anchor": "y",
         "domain": [
          0,
          1
         ],
         "title": {
          "text": "Season"
         }
        },
        "yaxis": {
         "anchor": "x",
         "domain": [
          0,
          1
         ],
         "title": {
          "text": "Rainfall (mm)"
         }
        }
       }
      }
     },
     "metadata": {},
     "output_type": "display_data"
    }
   ],
   "source": [
    "\n",
    "\n",
    "\n",
    "monthly_columns = ['JAN', 'FEB', 'MAR', 'APR', 'MAY', 'JUN', 'JUL', 'AUG', 'SEP', 'OCT', 'NOV', 'DEC']\n",
    "monthly_avg = df[monthly_columns].mean()\n",
    "\n",
    "highest_rainfall_month = monthly_avg.idxmax()\n",
    "lowest_rainfall_month = monthly_avg.idxmin()\n",
    "\n",
    "fig_monthly = px.bar(\n",
    "    x=monthly_avg.index,\n",
    "    y=monthly_avg.values,\n",
    "    labels={'x': 'Month', 'y': 'Rainfall (mm)'},\n",
    "    title='Average Monthly Rainfall in India (1901-2015)',\n",
    "    text=monthly_avg.values\n",
    ")\n",
    "fig_monthly.add_hline(\n",
    "    y=monthly_avg.mean(),\n",
    "    line_dash=\"dash\",\n",
    "    line_color=\"red\",\n",
    "    annotation_text=\"Mean Rainfall\",\n",
    "    annotation_position=\"top right\"\n",
    ")\n",
    "fig_monthly.update_traces(marker_color='skyblue', marker_line_color='black', marker_line_width=1)\n",
    "fig_monthly.update_layout(template='plotly_white', height=500)\n",
    "fig_monthly.show()\n",
    "\n",
    "\n",
    "seasonal_columns = ['Jan-Feb', 'Mar-May', 'Jun-Sep', 'Oct-Dec']\n",
    "seasonal_avg = df[seasonal_columns].mean()\n",
    "\n",
    "fig_seasonal = px.bar(\n",
    "    x=seasonal_avg.index,\n",
    "    y=seasonal_avg.values,\n",
    "    labels={'x': 'Season', 'y': 'Rainfall (mm)'},\n",
    "    title='Seasonal Rainfall Distribution in India (1901-2015)',\n",
    "    text=seasonal_avg.values,\n",
    "    color=seasonal_avg.values,\n",
    "    color_continuous_scale=['gold', 'skyblue', 'green', 'orange']\n",
    ")\n",
    "\n",
    "fig_seasonal.update_traces(marker_line_color='black', marker_line_width=1)\n",
    "fig_seasonal.update_layout(\n",
    "    template='plotly_white',\n",
    "    height=500,\n",
    "    coloraxis_colorbar=dict(title='mm')\n",
    ")\n",
    "fig_seasonal.update_layout(template='plotly_white', height=500)\n",
    "fig_seasonal.show()"
   ]
  },
  {
   "cell_type": "code",
   "execution_count": 9,
   "id": "35f484e6",
   "metadata": {},
   "outputs": [
    {
     "data": {
      "application/vnd.plotly.v1+json": {
       "config": {
        "plotlyServerURL": "https://plot.ly"
       },
       "data": [
        {
         "line": {
          "color": "blue",
          "width": 2
         },
         "mode": "lines",
         "name": "Annual Rainfall",
         "opacity": 0.6,
         "type": "scatter",
         "x": {
          "bdata": "bQduB28HcAdxB3IHcwd0B3UHdgd3B3gHeQd6B3sHfAd9B34HfweAB4EHggeDB4QHhQeGB4cHiAeJB4oHiweMB40HjgePB5AHkQeSB5MHlAeVB5YHlweYB5kHmgebB5wHnQeeB58HoAehB6IHowekB6UHpgenB6gHqQeqB6sHrAetB64HrwewB7EHsgezB7QHtQe2B7cHuAe5B7oHuwe8B70Hvge/B8AHwQfCB8MHxAfFB8YHxwfIB8kHygfLB8wHzQfOB88H0AfRB9IH0wfUB9UH1gfXB9gH2QfaB9sH3AfdB94H3wc=",
          "dtype": "i2"
         },
         "y": {
          "bdata": "MzMzMzMhkEDNzMzMzBiQQAAAAAAAmpJAZmZmZmbej0BmZmZmZnqOQGZmZmZm4JFAzczMzMw+kEBmZmZmZiKRQGZmZmZmGJJAMzMzMzPBkkAAAAAAAF6QQGZmZmZm2JBAmpmZmZmzkEAzMzMzM/mSQM3MzMzMxJFAZmZmZmbklEAzMzMzMyGXQM3MzMzMCJBAmpmZmZlzlECamZmZmV+QQM3MzMzMYJNAmpmZmZnvkkAzMzMzM2GSQDMzMzMz0ZNAmpmZmZnpkkAzMzMzM3uTQGZmZmZmupNAmpmZmZkJk0AAAAAAAOKSQJqZmZmZ5ZJAZmZmZmaKlECamZmZmQuTQAAAAAAAxpVAZmZmZmYuk0CamZmZmd2RQM3MzMzM9pRAZmZmZmYIk0DNzMzMzGqUQJqZmZmZl5FAZmZmZmb6kkCamZmZmeOQQM3MzMzMMpRAZmZmZmYIlEBmZmZmZpyUQDMzMzMzJ5NAZmZmZmbSlEBmZmZmZlKTQJqZmZmZ95RAmpmZmZnhk0AAAAAAAFKSQDMzMzMzlZBAzczMzMxQkUCamZmZmRuTQDMzMzMzcZJAMzMzMzNJlEDNzMzMzKiVQM3MzMzMaJJAAAAAAADMlEBmZmZmZpiVQAAAAAAA9JFAAAAAAADslUCamZmZmbGSQM3MzMzM6JJAZmZmZmZMk0AzMzMzM1ONQAAAAAAAoJBAMzMzMzPxkUDNzMzMzHiQQM3MzMzM7pFAAAAAAAB8k0AAAAAAAAiTQAAAAAAApI1AAAAAAAD4kkDNzMzMzE6QQM3MzMzMKJRAMzMzMzOTkUCamZmZmdmTQDMzMzMzXZNAMzMzMzP7j0AAAAAAAJaSQGZmZmZmTpJAMzMzMzP7kEAAAAAAAM6UQJqZmZmZD5JAAAAAAADQkUBmZmZmZpqRQJqZmZmZ25BAAAAAAAAclUCamZmZmYmRQGZmZmZm4pVAmpmZmZkfkkAzMzMzM4WRQJqZmZmZx5JAZmZmZmY+lEBmZmZmZm6TQDMzMzMzd5JAmpmZmZlNkkAAAAAAAG6TQAAAAAAAsJFAmpmZmZlpkEAzMzMzM+2QQGZmZmZmxoxAAAAAAABakkAzMzMzM72QQAAAAAAAQpNAmpmZmZm9kkBmZmZmZv6SQGZmZmZmsJFAZmZmZmb6jUAAAAAAAMKSQGZmZmZmWJFAAAAAAADGkEDNzMzMzACTQM3MzMzMJpBAzczMzMwUkUA=",
          "dtype": "f8"
         }
        },
        {
         "line": {
          "color": "red",
          "width": 3
         },
         "mode": "lines",
         "name": "10-Year Rolling Avg",
         "type": "scatter",
         "x": {
          "bdata": "bQduB28HcAdxB3IHcwd0B3UHdgd3B3gHeQd6B3sHfAd9B34HfweAB4EHggeDB4QHhQeGB4cHiAeJB4oHiweMB40HjgePB5AHkQeSB5MHlAeVB5YHlweYB5kHmgebB5wHnQeeB58HoAehB6IHowekB6UHpgenB6gHqQeqB6sHrAetB64HrwewB7EHsgezB7QHtQe2B7cHuAe5B7oHuwe8B70Hvge/B8AHwQfCB8MHxAfFB8YHxwfIB8kHygfLB8wHzQfOB88H0AfRB9IH0wfUB9UH1gfXB9gH2QfaB9sH3AfdB94H3wc=",
          "dtype": "i2"
         },
         "y": {
          "bdata": "AAAAAAAA+H8AAAAAAAD4fwAAAAAAAPh/AAAAAAAA+H8AAAAAAAD4fwAAAAAAAPh/AAAAAAAA+H8AAAAAAAD4fwAAAAAAAPh/9ihcj8ICkUCkcD0K1wiRQAAAAAAAHJFAj8L1KFzrkEBcj8L1KDmRQFK4HoXreZFAhutRuB7HkUCPwvUoXHeSQDMzMzMzW5JA61G4HoWXkkDC9Shcj1qSQHE9Ctejp5JAXI/C9SjdkkCF61G4HgiTQB+F61G4HZNAAAAAAAA7k0B7FK5H4RaTQM3MzMzMv5JASOF6FK4Mk0DrUbgeheSSQIbrUbgeJZNAexSuR+FCk0BI4XoUrkWTQMP1KFyPnJNA4noUrkeMk0AVrkfhenGTQD4K16Nwl5NAcT0K16OFk0AqXI/C9aiTQFK4HoXrh5NAAAAAAACKk0DsUbgehSyTQNejcD0KSpNAFK5H4Xodk0CuR+F6FEKTQNajcD0KY5NAZmZmZmZfk0DNzMzMzGaTQHoUrkfhdJNAFa5H4Xqvk0BwPQrXo56TQM3MzMzMlpNAAAAAAABNk0C5HoXrUTWTQM3MzMzM/ZJAzczMzMwak0AK16NwPTCTQHsUrkfhGJNA7FG4HoUUk0BmZmZmZkCTQAAAAAAAN5NASOF6FK6/k0ApXI/C9eKTQHoUrkfh3ZNAzczMzMzzk0CkcD0K12OTQClcj8L14pJAAAAAAADXkkDhehSuR2iSQOtRuB6FCpJAHoXrUbgxkkAehetRuOeRQML1KFyPhJFArkfhehSGkUDrUbgehTmRQArXo3A9xpFAw/UoXI/ekUBmZmZmZg+SQD4K16NwWZJAHoXrUbgnkkAehetRuBCSQFyPwvUo/pFAFK5H4Xo1kkAUrkfhemSSQJDC9ShckZJA4noUrkdVkkAAAAAAAFaSQGZmZmZmCZJArkfhehQ2kkBI4XoUrl2SQIbrUbgespJAPgrXo3CtkkAK16NwPbuSQGZmZmZmh5JA4XoUrke/kkAehetRuOiSQM3MzMzM/pJAzczMzMwjk0DNzMzMzPiSQHE9Ctej/JJAwvUoXI9wkkBSuB6F61GSQB+F61G4AZJA9ihcj8L2kUDXo3A9Cp2RQJqZmZmZmJFAcT0K16OfkUC4HoXrUbGRQPYoXI/ChJFAR+F6FK4/kUAehetRuHuRQD4K16NwhpFA61G4HoXDkUAzMzMzM9SRQFyPwvUoxZFAPgrXo3CNkUA=",
          "dtype": "f8"
         }
        }
       ],
       "layout": {
        "height": 500,
        "legend": {
         "title": {
          "text": "Legend"
         }
        },
        "template": {
         "data": {
          "bar": [
           {
            "error_x": {
             "color": "#2a3f5f"
            },
            "error_y": {
             "color": "#2a3f5f"
            },
            "marker": {
             "line": {
              "color": "white",
              "width": 0.5
             },
             "pattern": {
              "fillmode": "overlay",
              "size": 10,
              "solidity": 0.2
             }
            },
            "type": "bar"
           }
          ],
          "barpolar": [
           {
            "marker": {
             "line": {
              "color": "white",
              "width": 0.5
             },
             "pattern": {
              "fillmode": "overlay",
              "size": 10,
              "solidity": 0.2
             }
            },
            "type": "barpolar"
           }
          ],
          "carpet": [
           {
            "aaxis": {
             "endlinecolor": "#2a3f5f",
             "gridcolor": "#C8D4E3",
             "linecolor": "#C8D4E3",
             "minorgridcolor": "#C8D4E3",
             "startlinecolor": "#2a3f5f"
            },
            "baxis": {
             "endlinecolor": "#2a3f5f",
             "gridcolor": "#C8D4E3",
             "linecolor": "#C8D4E3",
             "minorgridcolor": "#C8D4E3",
             "startlinecolor": "#2a3f5f"
            },
            "type": "carpet"
           }
          ],
          "choropleth": [
           {
            "colorbar": {
             "outlinewidth": 0,
             "ticks": ""
            },
            "type": "choropleth"
           }
          ],
          "contour": [
           {
            "colorbar": {
             "outlinewidth": 0,
             "ticks": ""
            },
            "colorscale": [
             [
              0,
              "#0d0887"
             ],
             [
              0.1111111111111111,
              "#46039f"
             ],
             [
              0.2222222222222222,
              "#7201a8"
             ],
             [
              0.3333333333333333,
              "#9c179e"
             ],
             [
              0.4444444444444444,
              "#bd3786"
             ],
             [
              0.5555555555555556,
              "#d8576b"
             ],
             [
              0.6666666666666666,
              "#ed7953"
             ],
             [
              0.7777777777777778,
              "#fb9f3a"
             ],
             [
              0.8888888888888888,
              "#fdca26"
             ],
             [
              1,
              "#f0f921"
             ]
            ],
            "type": "contour"
           }
          ],
          "contourcarpet": [
           {
            "colorbar": {
             "outlinewidth": 0,
             "ticks": ""
            },
            "type": "contourcarpet"
           }
          ],
          "heatmap": [
           {
            "colorbar": {
             "outlinewidth": 0,
             "ticks": ""
            },
            "colorscale": [
             [
              0,
              "#0d0887"
             ],
             [
              0.1111111111111111,
              "#46039f"
             ],
             [
              0.2222222222222222,
              "#7201a8"
             ],
             [
              0.3333333333333333,
              "#9c179e"
             ],
             [
              0.4444444444444444,
              "#bd3786"
             ],
             [
              0.5555555555555556,
              "#d8576b"
             ],
             [
              0.6666666666666666,
              "#ed7953"
             ],
             [
              0.7777777777777778,
              "#fb9f3a"
             ],
             [
              0.8888888888888888,
              "#fdca26"
             ],
             [
              1,
              "#f0f921"
             ]
            ],
            "type": "heatmap"
           }
          ],
          "histogram": [
           {
            "marker": {
             "pattern": {
              "fillmode": "overlay",
              "size": 10,
              "solidity": 0.2
             }
            },
            "type": "histogram"
           }
          ],
          "histogram2d": [
           {
            "colorbar": {
             "outlinewidth": 0,
             "ticks": ""
            },
            "colorscale": [
             [
              0,
              "#0d0887"
             ],
             [
              0.1111111111111111,
              "#46039f"
             ],
             [
              0.2222222222222222,
              "#7201a8"
             ],
             [
              0.3333333333333333,
              "#9c179e"
             ],
             [
              0.4444444444444444,
              "#bd3786"
             ],
             [
              0.5555555555555556,
              "#d8576b"
             ],
             [
              0.6666666666666666,
              "#ed7953"
             ],
             [
              0.7777777777777778,
              "#fb9f3a"
             ],
             [
              0.8888888888888888,
              "#fdca26"
             ],
             [
              1,
              "#f0f921"
             ]
            ],
            "type": "histogram2d"
           }
          ],
          "histogram2dcontour": [
           {
            "colorbar": {
             "outlinewidth": 0,
             "ticks": ""
            },
            "colorscale": [
             [
              0,
              "#0d0887"
             ],
             [
              0.1111111111111111,
              "#46039f"
             ],
             [
              0.2222222222222222,
              "#7201a8"
             ],
             [
              0.3333333333333333,
              "#9c179e"
             ],
             [
              0.4444444444444444,
              "#bd3786"
             ],
             [
              0.5555555555555556,
              "#d8576b"
             ],
             [
              0.6666666666666666,
              "#ed7953"
             ],
             [
              0.7777777777777778,
              "#fb9f3a"
             ],
             [
              0.8888888888888888,
              "#fdca26"
             ],
             [
              1,
              "#f0f921"
             ]
            ],
            "type": "histogram2dcontour"
           }
          ],
          "mesh3d": [
           {
            "colorbar": {
             "outlinewidth": 0,
             "ticks": ""
            },
            "type": "mesh3d"
           }
          ],
          "parcoords": [
           {
            "line": {
             "colorbar": {
              "outlinewidth": 0,
              "ticks": ""
             }
            },
            "type": "parcoords"
           }
          ],
          "pie": [
           {
            "automargin": true,
            "type": "pie"
           }
          ],
          "scatter": [
           {
            "fillpattern": {
             "fillmode": "overlay",
             "size": 10,
             "solidity": 0.2
            },
            "type": "scatter"
           }
          ],
          "scatter3d": [
           {
            "line": {
             "colorbar": {
              "outlinewidth": 0,
              "ticks": ""
             }
            },
            "marker": {
             "colorbar": {
              "outlinewidth": 0,
              "ticks": ""
             }
            },
            "type": "scatter3d"
           }
          ],
          "scattercarpet": [
           {
            "marker": {
             "colorbar": {
              "outlinewidth": 0,
              "ticks": ""
             }
            },
            "type": "scattercarpet"
           }
          ],
          "scattergeo": [
           {
            "marker": {
             "colorbar": {
              "outlinewidth": 0,
              "ticks": ""
             }
            },
            "type": "scattergeo"
           }
          ],
          "scattergl": [
           {
            "marker": {
             "colorbar": {
              "outlinewidth": 0,
              "ticks": ""
             }
            },
            "type": "scattergl"
           }
          ],
          "scattermap": [
           {
            "marker": {
             "colorbar": {
              "outlinewidth": 0,
              "ticks": ""
             }
            },
            "type": "scattermap"
           }
          ],
          "scattermapbox": [
           {
            "marker": {
             "colorbar": {
              "outlinewidth": 0,
              "ticks": ""
             }
            },
            "type": "scattermapbox"
           }
          ],
          "scatterpolar": [
           {
            "marker": {
             "colorbar": {
              "outlinewidth": 0,
              "ticks": ""
             }
            },
            "type": "scatterpolar"
           }
          ],
          "scatterpolargl": [
           {
            "marker": {
             "colorbar": {
              "outlinewidth": 0,
              "ticks": ""
             }
            },
            "type": "scatterpolargl"
           }
          ],
          "scatterternary": [
           {
            "marker": {
             "colorbar": {
              "outlinewidth": 0,
              "ticks": ""
             }
            },
            "type": "scatterternary"
           }
          ],
          "surface": [
           {
            "colorbar": {
             "outlinewidth": 0,
             "ticks": ""
            },
            "colorscale": [
             [
              0,
              "#0d0887"
             ],
             [
              0.1111111111111111,
              "#46039f"
             ],
             [
              0.2222222222222222,
              "#7201a8"
             ],
             [
              0.3333333333333333,
              "#9c179e"
             ],
             [
              0.4444444444444444,
              "#bd3786"
             ],
             [
              0.5555555555555556,
              "#d8576b"
             ],
             [
              0.6666666666666666,
              "#ed7953"
             ],
             [
              0.7777777777777778,
              "#fb9f3a"
             ],
             [
              0.8888888888888888,
              "#fdca26"
             ],
             [
              1,
              "#f0f921"
             ]
            ],
            "type": "surface"
           }
          ],
          "table": [
           {
            "cells": {
             "fill": {
              "color": "#EBF0F8"
             },
             "line": {
              "color": "white"
             }
            },
            "header": {
             "fill": {
              "color": "#C8D4E3"
             },
             "line": {
              "color": "white"
             }
            },
            "type": "table"
           }
          ]
         },
         "layout": {
          "annotationdefaults": {
           "arrowcolor": "#2a3f5f",
           "arrowhead": 0,
           "arrowwidth": 1
          },
          "autotypenumbers": "strict",
          "coloraxis": {
           "colorbar": {
            "outlinewidth": 0,
            "ticks": ""
           }
          },
          "colorscale": {
           "diverging": [
            [
             0,
             "#8e0152"
            ],
            [
             0.1,
             "#c51b7d"
            ],
            [
             0.2,
             "#de77ae"
            ],
            [
             0.3,
             "#f1b6da"
            ],
            [
             0.4,
             "#fde0ef"
            ],
            [
             0.5,
             "#f7f7f7"
            ],
            [
             0.6,
             "#e6f5d0"
            ],
            [
             0.7,
             "#b8e186"
            ],
            [
             0.8,
             "#7fbc41"
            ],
            [
             0.9,
             "#4d9221"
            ],
            [
             1,
             "#276419"
            ]
           ],
           "sequential": [
            [
             0,
             "#0d0887"
            ],
            [
             0.1111111111111111,
             "#46039f"
            ],
            [
             0.2222222222222222,
             "#7201a8"
            ],
            [
             0.3333333333333333,
             "#9c179e"
            ],
            [
             0.4444444444444444,
             "#bd3786"
            ],
            [
             0.5555555555555556,
             "#d8576b"
            ],
            [
             0.6666666666666666,
             "#ed7953"
            ],
            [
             0.7777777777777778,
             "#fb9f3a"
            ],
            [
             0.8888888888888888,
             "#fdca26"
            ],
            [
             1,
             "#f0f921"
            ]
           ],
           "sequentialminus": [
            [
             0,
             "#0d0887"
            ],
            [
             0.1111111111111111,
             "#46039f"
            ],
            [
             0.2222222222222222,
             "#7201a8"
            ],
            [
             0.3333333333333333,
             "#9c179e"
            ],
            [
             0.4444444444444444,
             "#bd3786"
            ],
            [
             0.5555555555555556,
             "#d8576b"
            ],
            [
             0.6666666666666666,
             "#ed7953"
            ],
            [
             0.7777777777777778,
             "#fb9f3a"
            ],
            [
             0.8888888888888888,
             "#fdca26"
            ],
            [
             1,
             "#f0f921"
            ]
           ]
          },
          "colorway": [
           "#636efa",
           "#EF553B",
           "#00cc96",
           "#ab63fa",
           "#FFA15A",
           "#19d3f3",
           "#FF6692",
           "#B6E880",
           "#FF97FF",
           "#FECB52"
          ],
          "font": {
           "color": "#2a3f5f"
          },
          "geo": {
           "bgcolor": "white",
           "lakecolor": "white",
           "landcolor": "white",
           "showlakes": true,
           "showland": true,
           "subunitcolor": "#C8D4E3"
          },
          "hoverlabel": {
           "align": "left"
          },
          "hovermode": "closest",
          "mapbox": {
           "style": "light"
          },
          "paper_bgcolor": "white",
          "plot_bgcolor": "white",
          "polar": {
           "angularaxis": {
            "gridcolor": "#EBF0F8",
            "linecolor": "#EBF0F8",
            "ticks": ""
           },
           "bgcolor": "white",
           "radialaxis": {
            "gridcolor": "#EBF0F8",
            "linecolor": "#EBF0F8",
            "ticks": ""
           }
          },
          "scene": {
           "xaxis": {
            "backgroundcolor": "white",
            "gridcolor": "#DFE8F3",
            "gridwidth": 2,
            "linecolor": "#EBF0F8",
            "showbackground": true,
            "ticks": "",
            "zerolinecolor": "#EBF0F8"
           },
           "yaxis": {
            "backgroundcolor": "white",
            "gridcolor": "#DFE8F3",
            "gridwidth": 2,
            "linecolor": "#EBF0F8",
            "showbackground": true,
            "ticks": "",
            "zerolinecolor": "#EBF0F8"
           },
           "zaxis": {
            "backgroundcolor": "white",
            "gridcolor": "#DFE8F3",
            "gridwidth": 2,
            "linecolor": "#EBF0F8",
            "showbackground": true,
            "ticks": "",
            "zerolinecolor": "#EBF0F8"
           }
          },
          "shapedefaults": {
           "line": {
            "color": "#2a3f5f"
           }
          },
          "ternary": {
           "aaxis": {
            "gridcolor": "#DFE8F3",
            "linecolor": "#A2B1C6",
            "ticks": ""
           },
           "baxis": {
            "gridcolor": "#DFE8F3",
            "linecolor": "#A2B1C6",
            "ticks": ""
           },
           "bgcolor": "white",
           "caxis": {
            "gridcolor": "#DFE8F3",
            "linecolor": "#A2B1C6",
            "ticks": ""
           }
          },
          "title": {
           "x": 0.05
          },
          "xaxis": {
           "automargin": true,
           "gridcolor": "#EBF0F8",
           "linecolor": "#EBF0F8",
           "ticks": "",
           "title": {
            "standoff": 15
           },
           "zerolinecolor": "#EBF0F8",
           "zerolinewidth": 2
          },
          "yaxis": {
           "automargin": true,
           "gridcolor": "#EBF0F8",
           "linecolor": "#EBF0F8",
           "ticks": "",
           "title": {
            "standoff": 15
           },
           "zerolinecolor": "#EBF0F8",
           "zerolinewidth": 2
          }
         }
        },
        "title": {
         "text": "Impact of Climate Change on Rainfall Patterns (1901-2015)"
        },
        "xaxis": {
         "title": {
          "text": "Year"
         }
        },
        "yaxis": {
         "title": {
          "text": "Rainfall (mm)"
         }
        }
       }
      }
     },
     "metadata": {},
     "output_type": "display_data"
    }
   ],
   "source": [
    "# calculating rolling averages to assess climate change impact\n",
    "df['10-Year Rolling Avg'] = df['ANNUAL'].rolling(window=10).mean()\n",
    "\n",
    "fig_climate_change = go.Figure()\n",
    "\n",
    "fig_climate_change.add_trace(go.Scatter(\n",
    "    x=df['YEAR'],\n",
    "    y=df['ANNUAL'],\n",
    "    mode='lines',\n",
    "    name='Annual Rainfall',\n",
    "    line=dict(color='blue', width=2),\n",
    "    opacity=0.6\n",
    "))\n",
    "\n",
    "fig_climate_change.add_trace(go.Scatter(\n",
    "    x=df['YEAR'],\n",
    "    y=df['10-Year Rolling Avg'],\n",
    "    mode='lines',\n",
    "    name='10-Year Rolling Avg',\n",
    "    line=dict(color='red', width=3)\n",
    "))\n",
    "\n",
    "fig_climate_change.update_layout(\n",
    "    title='Impact of Climate Change on Rainfall Patterns (1901-2015)',\n",
    "    xaxis_title='Year',\n",
    "    yaxis_title='Rainfall (mm)',\n",
    "    template='plotly_white',\n",
    "    legend=dict(title=\"Legend\"),\n",
    "    height=500\n",
    ")\n",
    "\n",
    "fig_climate_change.show()"
   ]
  },
  {
   "cell_type": "code",
   "execution_count": 10,
   "id": "b09b18d6",
   "metadata": {},
   "outputs": [
    {
     "data": {
      "text/plain": [
       "(   YEAR  ANNUAL\n",
       " 0  1905   975.3\n",
       " 1  1965   938.4\n",
       " 2  1972   948.5\n",
       " 3  2002   920.8\n",
       " 4  2009   959.3,\n",
       "    YEAR  ANNUAL\n",
       " 0  1917  1480.3\n",
       " 1  1933  1393.5\n",
       " 2  1956  1386.2\n",
       " 3  1959  1382.1\n",
       " 4  1961  1403.0\n",
       " 5  1988  1351.0\n",
       " 6  1990  1400.6,\n",
       "          Correlation\n",
       " Jan-Feb     0.228913\n",
       " Mar-May     0.313057\n",
       " Jun-Sep     0.930027\n",
       " Oct-Dec     0.531648)"
      ]
     },
     "execution_count": 10,
     "metadata": {},
     "output_type": "execute_result"
    }
   ],
   "source": [
    "from scipy.stats import pearsonr\n",
    "\n",
    "# identifying drought and extreme rainfall years\n",
    "mean_rainfall = df['ANNUAL'].mean()\n",
    "std_dev_rainfall = df['ANNUAL'].std()\n",
    "\n",
    "drought_years = df[df['ANNUAL'] < (mean_rainfall - 1.5 * std_dev_rainfall)]\n",
    "extreme_rainfall_years = df[df['ANNUAL'] > (mean_rainfall + 1.5 * std_dev_rainfall)]\n",
    "\n",
    "# correlating seasonal rainfall with annual rainfall totals\n",
    "seasonal_columns = ['Jan-Feb', 'Mar-May', 'Jun-Sep', 'Oct-Dec']\n",
    "seasonal_correlations = {\n",
    "    season: pearsonr(df[season], df['ANNUAL'])[0] for season in seasonal_columns\n",
    "}\n",
    "\n",
    "# displaying results for drought/extreme years and correlations\n",
    "drought_years_summary = drought_years[['YEAR', 'ANNUAL']].reset_index(drop=True)\n",
    "extreme_rainfall_years_summary = extreme_rainfall_years[['YEAR', 'ANNUAL']].reset_index(drop=True)\n",
    "seasonal_correlations_summary = pd.DataFrame.from_dict(seasonal_correlations, orient='index', columns=['Correlation'])\n",
    "\n",
    "drought_years_summary, extreme_rainfall_years_summary, seasonal_correlations_summary"
   ]
  },
  {
   "cell_type": "code",
   "execution_count": 12,
   "id": "27223bb1",
   "metadata": {},
   "outputs": [
    {
     "name": "stderr",
     "output_type": "stream",
     "text": [
      "c:\\Users\\Mohit Saini\\AppData\\Local\\Programs\\Python\\Python38\\lib\\site-packages\\sklearn\\base.py:439: UserWarning:\n",
      "\n",
      "X does not have valid feature names, but IsolationForest was fitted with feature names\n",
      "\n",
      "c:\\Users\\Mohit Saini\\AppData\\Local\\Programs\\Python\\Python38\\lib\\site-packages\\sklearn\\base.py:439: UserWarning:\n",
      "\n",
      "X does not have valid feature names, but IsolationForest was fitted with feature names\n",
      "\n"
     ]
    },
    {
     "data": {
      "application/vnd.plotly.v1+json": {
       "config": {
        "plotlyServerURL": "https://plot.ly"
       },
       "data": [
        {
         "line": {
          "color": "blue",
          "width": 2
         },
         "mode": "lines",
         "name": "Annual Rainfall",
         "opacity": 0.6,
         "type": "scatter",
         "x": {
          "bdata": "bQduB28HcAdxB3IHcwd0B3UHdgd3B3gHeQd6B3sHfAd9B34HfweAB4EHggeDB4QHhQeGB4cHiAeJB4oHiweMB40HjgePB5AHkQeSB5MHlAeVB5YHlweYB5kHmgebB5wHnQeeB58HoAehB6IHowekB6UHpgenB6gHqQeqB6sHrAetB64HrwewB7EHsgezB7QHtQe2B7cHuAe5B7oHuwe8B70Hvge/B8AHwQfCB8MHxAfFB8YHxwfIB8kHygfLB8wHzQfOB88H0AfRB9IH0wfUB9UH1gfXB9gH2QfaB9sH3AfdB94H3wc=",
          "dtype": "i2"
         },
         "y": {
          "bdata": "MzMzMzMhkEDNzMzMzBiQQAAAAAAAmpJAZmZmZmbej0BmZmZmZnqOQGZmZmZm4JFAzczMzMw+kEBmZmZmZiKRQGZmZmZmGJJAMzMzMzPBkkAAAAAAAF6QQGZmZmZm2JBAmpmZmZmzkEAzMzMzM/mSQM3MzMzMxJFAZmZmZmbklEAzMzMzMyGXQM3MzMzMCJBAmpmZmZlzlECamZmZmV+QQM3MzMzMYJNAmpmZmZnvkkAzMzMzM2GSQDMzMzMz0ZNAmpmZmZnpkkAzMzMzM3uTQGZmZmZmupNAmpmZmZkJk0AAAAAAAOKSQJqZmZmZ5ZJAZmZmZmaKlECamZmZmQuTQAAAAAAAxpVAZmZmZmYuk0CamZmZmd2RQM3MzMzM9pRAZmZmZmYIk0DNzMzMzGqUQJqZmZmZl5FAZmZmZmb6kkCamZmZmeOQQM3MzMzMMpRAZmZmZmYIlEBmZmZmZpyUQDMzMzMzJ5NAZmZmZmbSlEBmZmZmZlKTQJqZmZmZ95RAmpmZmZnhk0AAAAAAAFKSQDMzMzMzlZBAzczMzMxQkUCamZmZmRuTQDMzMzMzcZJAMzMzMzNJlEDNzMzMzKiVQM3MzMzMaJJAAAAAAADMlEBmZmZmZpiVQAAAAAAA9JFAAAAAAADslUCamZmZmbGSQM3MzMzM6JJAZmZmZmZMk0AzMzMzM1ONQAAAAAAAoJBAMzMzMzPxkUDNzMzMzHiQQM3MzMzM7pFAAAAAAAB8k0AAAAAAAAiTQAAAAAAApI1AAAAAAAD4kkDNzMzMzE6QQM3MzMzMKJRAMzMzMzOTkUCamZmZmdmTQDMzMzMzXZNAMzMzMzP7j0AAAAAAAJaSQGZmZmZmTpJAMzMzMzP7kEAAAAAAAM6UQJqZmZmZD5JAAAAAAADQkUBmZmZmZpqRQJqZmZmZ25BAAAAAAAAclUCamZmZmYmRQGZmZmZm4pVAmpmZmZkfkkAzMzMzM4WRQJqZmZmZx5JAZmZmZmY+lEBmZmZmZm6TQDMzMzMzd5JAmpmZmZlNkkAAAAAAAG6TQAAAAAAAsJFAmpmZmZlpkEAzMzMzM+2QQGZmZmZmxoxAAAAAAABakkAzMzMzM72QQAAAAAAAQpNAmpmZmZm9kkBmZmZmZv6SQGZmZmZmsJFAZmZmZmb6jUAAAAAAAMKSQGZmZmZmWJFAAAAAAADGkEDNzMzMzACTQM3MzMzMJpBAzczMzMwUkUA=",
          "dtype": "f8"
         }
        },
        {
         "marker": {
          "color": "red",
          "size": 8,
          "symbol": "circle"
         },
         "mode": "markers",
         "name": "Anomalous Years",
         "type": "scatter",
         "x": {
          "bdata": "cQd9B60HtAfSB9kH",
          "dtype": "i2"
         },
         "y": {
          "bdata": "ZmZmZmZ6jkAzMzMzMyGXQDMzMzMzU41AAAAAAACkjUBmZmZmZsaMQGZmZmZm+o1A",
          "dtype": "f8"
         }
        }
       ],
       "layout": {
        "annotations": [
         {
          "showarrow": false,
          "text": "Mean Rainfall",
          "x": 1,
          "xanchor": "right",
          "xref": "x domain",
          "y": 1182.0347826086959,
          "yanchor": "top",
          "yref": "y"
         }
        ],
        "height": 500,
        "legend": {
         "title": {
          "text": "Legend"
         }
        },
        "shapes": [
         {
          "line": {
           "color": "green",
           "dash": "dash"
          },
          "type": "line",
          "x0": 0,
          "x1": 1,
          "xref": "x domain",
          "y0": 1182.0347826086959,
          "y1": 1182.0347826086959,
          "yref": "y"
         }
        ],
        "template": {
         "data": {
          "bar": [
           {
            "error_x": {
             "color": "#2a3f5f"
            },
            "error_y": {
             "color": "#2a3f5f"
            },
            "marker": {
             "line": {
              "color": "white",
              "width": 0.5
             },
             "pattern": {
              "fillmode": "overlay",
              "size": 10,
              "solidity": 0.2
             }
            },
            "type": "bar"
           }
          ],
          "barpolar": [
           {
            "marker": {
             "line": {
              "color": "white",
              "width": 0.5
             },
             "pattern": {
              "fillmode": "overlay",
              "size": 10,
              "solidity": 0.2
             }
            },
            "type": "barpolar"
           }
          ],
          "carpet": [
           {
            "aaxis": {
             "endlinecolor": "#2a3f5f",
             "gridcolor": "#C8D4E3",
             "linecolor": "#C8D4E3",
             "minorgridcolor": "#C8D4E3",
             "startlinecolor": "#2a3f5f"
            },
            "baxis": {
             "endlinecolor": "#2a3f5f",
             "gridcolor": "#C8D4E3",
             "linecolor": "#C8D4E3",
             "minorgridcolor": "#C8D4E3",
             "startlinecolor": "#2a3f5f"
            },
            "type": "carpet"
           }
          ],
          "choropleth": [
           {
            "colorbar": {
             "outlinewidth": 0,
             "ticks": ""
            },
            "type": "choropleth"
           }
          ],
          "contour": [
           {
            "colorbar": {
             "outlinewidth": 0,
             "ticks": ""
            },
            "colorscale": [
             [
              0,
              "#0d0887"
             ],
             [
              0.1111111111111111,
              "#46039f"
             ],
             [
              0.2222222222222222,
              "#7201a8"
             ],
             [
              0.3333333333333333,
              "#9c179e"
             ],
             [
              0.4444444444444444,
              "#bd3786"
             ],
             [
              0.5555555555555556,
              "#d8576b"
             ],
             [
              0.6666666666666666,
              "#ed7953"
             ],
             [
              0.7777777777777778,
              "#fb9f3a"
             ],
             [
              0.8888888888888888,
              "#fdca26"
             ],
             [
              1,
              "#f0f921"
             ]
            ],
            "type": "contour"
           }
          ],
          "contourcarpet": [
           {
            "colorbar": {
             "outlinewidth": 0,
             "ticks": ""
            },
            "type": "contourcarpet"
           }
          ],
          "heatmap": [
           {
            "colorbar": {
             "outlinewidth": 0,
             "ticks": ""
            },
            "colorscale": [
             [
              0,
              "#0d0887"
             ],
             [
              0.1111111111111111,
              "#46039f"
             ],
             [
              0.2222222222222222,
              "#7201a8"
             ],
             [
              0.3333333333333333,
              "#9c179e"
             ],
             [
              0.4444444444444444,
              "#bd3786"
             ],
             [
              0.5555555555555556,
              "#d8576b"
             ],
             [
              0.6666666666666666,
              "#ed7953"
             ],
             [
              0.7777777777777778,
              "#fb9f3a"
             ],
             [
              0.8888888888888888,
              "#fdca26"
             ],
             [
              1,
              "#f0f921"
             ]
            ],
            "type": "heatmap"
           }
          ],
          "histogram": [
           {
            "marker": {
             "pattern": {
              "fillmode": "overlay",
              "size": 10,
              "solidity": 0.2
             }
            },
            "type": "histogram"
           }
          ],
          "histogram2d": [
           {
            "colorbar": {
             "outlinewidth": 0,
             "ticks": ""
            },
            "colorscale": [
             [
              0,
              "#0d0887"
             ],
             [
              0.1111111111111111,
              "#46039f"
             ],
             [
              0.2222222222222222,
              "#7201a8"
             ],
             [
              0.3333333333333333,
              "#9c179e"
             ],
             [
              0.4444444444444444,
              "#bd3786"
             ],
             [
              0.5555555555555556,
              "#d8576b"
             ],
             [
              0.6666666666666666,
              "#ed7953"
             ],
             [
              0.7777777777777778,
              "#fb9f3a"
             ],
             [
              0.8888888888888888,
              "#fdca26"
             ],
             [
              1,
              "#f0f921"
             ]
            ],
            "type": "histogram2d"
           }
          ],
          "histogram2dcontour": [
           {
            "colorbar": {
             "outlinewidth": 0,
             "ticks": ""
            },
            "colorscale": [
             [
              0,
              "#0d0887"
             ],
             [
              0.1111111111111111,
              "#46039f"
             ],
             [
              0.2222222222222222,
              "#7201a8"
             ],
             [
              0.3333333333333333,
              "#9c179e"
             ],
             [
              0.4444444444444444,
              "#bd3786"
             ],
             [
              0.5555555555555556,
              "#d8576b"
             ],
             [
              0.6666666666666666,
              "#ed7953"
             ],
             [
              0.7777777777777778,
              "#fb9f3a"
             ],
             [
              0.8888888888888888,
              "#fdca26"
             ],
             [
              1,
              "#f0f921"
             ]
            ],
            "type": "histogram2dcontour"
           }
          ],
          "mesh3d": [
           {
            "colorbar": {
             "outlinewidth": 0,
             "ticks": ""
            },
            "type": "mesh3d"
           }
          ],
          "parcoords": [
           {
            "line": {
             "colorbar": {
              "outlinewidth": 0,
              "ticks": ""
             }
            },
            "type": "parcoords"
           }
          ],
          "pie": [
           {
            "automargin": true,
            "type": "pie"
           }
          ],
          "scatter": [
           {
            "fillpattern": {
             "fillmode": "overlay",
             "size": 10,
             "solidity": 0.2
            },
            "type": "scatter"
           }
          ],
          "scatter3d": [
           {
            "line": {
             "colorbar": {
              "outlinewidth": 0,
              "ticks": ""
             }
            },
            "marker": {
             "colorbar": {
              "outlinewidth": 0,
              "ticks": ""
             }
            },
            "type": "scatter3d"
           }
          ],
          "scattercarpet": [
           {
            "marker": {
             "colorbar": {
              "outlinewidth": 0,
              "ticks": ""
             }
            },
            "type": "scattercarpet"
           }
          ],
          "scattergeo": [
           {
            "marker": {
             "colorbar": {
              "outlinewidth": 0,
              "ticks": ""
             }
            },
            "type": "scattergeo"
           }
          ],
          "scattergl": [
           {
            "marker": {
             "colorbar": {
              "outlinewidth": 0,
              "ticks": ""
             }
            },
            "type": "scattergl"
           }
          ],
          "scattermap": [
           {
            "marker": {
             "colorbar": {
              "outlinewidth": 0,
              "ticks": ""
             }
            },
            "type": "scattermap"
           }
          ],
          "scattermapbox": [
           {
            "marker": {
             "colorbar": {
              "outlinewidth": 0,
              "ticks": ""
             }
            },
            "type": "scattermapbox"
           }
          ],
          "scatterpolar": [
           {
            "marker": {
             "colorbar": {
              "outlinewidth": 0,
              "ticks": ""
             }
            },
            "type": "scatterpolar"
           }
          ],
          "scatterpolargl": [
           {
            "marker": {
             "colorbar": {
              "outlinewidth": 0,
              "ticks": ""
             }
            },
            "type": "scatterpolargl"
           }
          ],
          "scatterternary": [
           {
            "marker": {
             "colorbar": {
              "outlinewidth": 0,
              "ticks": ""
             }
            },
            "type": "scatterternary"
           }
          ],
          "surface": [
           {
            "colorbar": {
             "outlinewidth": 0,
             "ticks": ""
            },
            "colorscale": [
             [
              0,
              "#0d0887"
             ],
             [
              0.1111111111111111,
              "#46039f"
             ],
             [
              0.2222222222222222,
              "#7201a8"
             ],
             [
              0.3333333333333333,
              "#9c179e"
             ],
             [
              0.4444444444444444,
              "#bd3786"
             ],
             [
              0.5555555555555556,
              "#d8576b"
             ],
             [
              0.6666666666666666,
              "#ed7953"
             ],
             [
              0.7777777777777778,
              "#fb9f3a"
             ],
             [
              0.8888888888888888,
              "#fdca26"
             ],
             [
              1,
              "#f0f921"
             ]
            ],
            "type": "surface"
           }
          ],
          "table": [
           {
            "cells": {
             "fill": {
              "color": "#EBF0F8"
             },
             "line": {
              "color": "white"
             }
            },
            "header": {
             "fill": {
              "color": "#C8D4E3"
             },
             "line": {
              "color": "white"
             }
            },
            "type": "table"
           }
          ]
         },
         "layout": {
          "annotationdefaults": {
           "arrowcolor": "#2a3f5f",
           "arrowhead": 0,
           "arrowwidth": 1
          },
          "autotypenumbers": "strict",
          "coloraxis": {
           "colorbar": {
            "outlinewidth": 0,
            "ticks": ""
           }
          },
          "colorscale": {
           "diverging": [
            [
             0,
             "#8e0152"
            ],
            [
             0.1,
             "#c51b7d"
            ],
            [
             0.2,
             "#de77ae"
            ],
            [
             0.3,
             "#f1b6da"
            ],
            [
             0.4,
             "#fde0ef"
            ],
            [
             0.5,
             "#f7f7f7"
            ],
            [
             0.6,
             "#e6f5d0"
            ],
            [
             0.7,
             "#b8e186"
            ],
            [
             0.8,
             "#7fbc41"
            ],
            [
             0.9,
             "#4d9221"
            ],
            [
             1,
             "#276419"
            ]
           ],
           "sequential": [
            [
             0,
             "#0d0887"
            ],
            [
             0.1111111111111111,
             "#46039f"
            ],
            [
             0.2222222222222222,
             "#7201a8"
            ],
            [
             0.3333333333333333,
             "#9c179e"
            ],
            [
             0.4444444444444444,
             "#bd3786"
            ],
            [
             0.5555555555555556,
             "#d8576b"
            ],
            [
             0.6666666666666666,
             "#ed7953"
            ],
            [
             0.7777777777777778,
             "#fb9f3a"
            ],
            [
             0.8888888888888888,
             "#fdca26"
            ],
            [
             1,
             "#f0f921"
            ]
           ],
           "sequentialminus": [
            [
             0,
             "#0d0887"
            ],
            [
             0.1111111111111111,
             "#46039f"
            ],
            [
             0.2222222222222222,
             "#7201a8"
            ],
            [
             0.3333333333333333,
             "#9c179e"
            ],
            [
             0.4444444444444444,
             "#bd3786"
            ],
            [
             0.5555555555555556,
             "#d8576b"
            ],
            [
             0.6666666666666666,
             "#ed7953"
            ],
            [
             0.7777777777777778,
             "#fb9f3a"
            ],
            [
             0.8888888888888888,
             "#fdca26"
            ],
            [
             1,
             "#f0f921"
            ]
           ]
          },
          "colorway": [
           "#636efa",
           "#EF553B",
           "#00cc96",
           "#ab63fa",
           "#FFA15A",
           "#19d3f3",
           "#FF6692",
           "#B6E880",
           "#FF97FF",
           "#FECB52"
          ],
          "font": {
           "color": "#2a3f5f"
          },
          "geo": {
           "bgcolor": "white",
           "lakecolor": "white",
           "landcolor": "white",
           "showlakes": true,
           "showland": true,
           "subunitcolor": "#C8D4E3"
          },
          "hoverlabel": {
           "align": "left"
          },
          "hovermode": "closest",
          "mapbox": {
           "style": "light"
          },
          "paper_bgcolor": "white",
          "plot_bgcolor": "white",
          "polar": {
           "angularaxis": {
            "gridcolor": "#EBF0F8",
            "linecolor": "#EBF0F8",
            "ticks": ""
           },
           "bgcolor": "white",
           "radialaxis": {
            "gridcolor": "#EBF0F8",
            "linecolor": "#EBF0F8",
            "ticks": ""
           }
          },
          "scene": {
           "xaxis": {
            "backgroundcolor": "white",
            "gridcolor": "#DFE8F3",
            "gridwidth": 2,
            "linecolor": "#EBF0F8",
            "showbackground": true,
            "ticks": "",
            "zerolinecolor": "#EBF0F8"
           },
           "yaxis": {
            "backgroundcolor": "white",
            "gridcolor": "#DFE8F3",
            "gridwidth": 2,
            "linecolor": "#EBF0F8",
            "showbackground": true,
            "ticks": "",
            "zerolinecolor": "#EBF0F8"
           },
           "zaxis": {
            "backgroundcolor": "white",
            "gridcolor": "#DFE8F3",
            "gridwidth": 2,
            "linecolor": "#EBF0F8",
            "showbackground": true,
            "ticks": "",
            "zerolinecolor": "#EBF0F8"
           }
          },
          "shapedefaults": {
           "line": {
            "color": "#2a3f5f"
           }
          },
          "ternary": {
           "aaxis": {
            "gridcolor": "#DFE8F3",
            "linecolor": "#A2B1C6",
            "ticks": ""
           },
           "baxis": {
            "gridcolor": "#DFE8F3",
            "linecolor": "#A2B1C6",
            "ticks": ""
           },
           "bgcolor": "white",
           "caxis": {
            "gridcolor": "#DFE8F3",
            "linecolor": "#A2B1C6",
            "ticks": ""
           }
          },
          "title": {
           "x": 0.05
          },
          "xaxis": {
           "automargin": true,
           "gridcolor": "#EBF0F8",
           "linecolor": "#EBF0F8",
           "ticks": "",
           "title": {
            "standoff": 15
           },
           "zerolinecolor": "#EBF0F8",
           "zerolinewidth": 2
          },
          "yaxis": {
           "automargin": true,
           "gridcolor": "#EBF0F8",
           "linecolor": "#EBF0F8",
           "ticks": "",
           "title": {
            "standoff": 15
           },
           "zerolinecolor": "#EBF0F8",
           "zerolinewidth": 2
          }
         }
        },
        "title": {
         "text": "Annual Rainfall Anomalies in India (1901-2015)"
        },
        "xaxis": {
         "title": {
          "text": "Year"
         }
        },
        "yaxis": {
         "title": {
          "text": "Rainfall (mm)"
         }
        }
       }
      }
     },
     "metadata": {},
     "output_type": "display_data"
    }
   ],
   "source": [
    "from sklearn.ensemble import IsolationForest\n",
    "\n",
    "# detect anomalous rainfall years based on annual data\n",
    "isolation_forest = IsolationForest(contamination=0.05, random_state=42)\n",
    "df['Annual_Anomaly'] = isolation_forest.fit_predict(df[['ANNUAL']])\n",
    "\n",
    "# identify anomalies in annual rainfall\n",
    "annual_anomalies = df[df['Annual_Anomaly'] == -1]\n",
    "\n",
    "# detect anomalous months based on monthly data\n",
    "monthly_data = df[['JAN', 'FEB', 'MAR', 'APR', 'MAY', 'JUN', 'JUL', 'AUG', 'SEP', 'OCT', 'NOV', 'DEC']]\n",
    "monthly_anomalies = isolation_forest.fit_predict(monthly_data)\n",
    "\n",
    "# add anomaly detection results for months\n",
    "df['Monthly_Anomaly'] = monthly_anomalies\n",
    "monthly_anomalies_df = df[df['Monthly_Anomaly'] == -1][['YEAR'] + monthly_columns]\n",
    "\n",
    "fig_annual_anomalies = go.Figure()\n",
    "\n",
    "fig_annual_anomalies.add_trace(go.Scatter(\n",
    "    x=df['YEAR'],\n",
    "    y=df['ANNUAL'],\n",
    "    mode='lines',\n",
    "    name='Annual Rainfall',\n",
    "    line=dict(color='blue', width=2),\n",
    "    opacity=0.6\n",
    "))\n",
    "\n",
    "fig_annual_anomalies.add_trace(go.Scatter(\n",
    "    x=annual_anomalies['YEAR'],\n",
    "    y=annual_anomalies['ANNUAL'],\n",
    "    mode='markers',\n",
    "    name='Anomalous Years',\n",
    "    marker=dict(color='red', size=8, symbol='circle')\n",
    "))\n",
    "\n",
    "fig_annual_anomalies.add_hline(\n",
    "    y=df['ANNUAL'].mean(),\n",
    "    line_dash='dash',\n",
    "    line_color='green',\n",
    "    annotation_text='Mean Rainfall',\n",
    "    annotation_position='bottom right'\n",
    ")\n",
    "\n",
    "fig_annual_anomalies.update_layout(\n",
    "    title='Annual Rainfall Anomalies in India (1901-2015)',\n",
    "    xaxis_title='Year',\n",
    "    yaxis_title='Rainfall (mm)',\n",
    "    template='plotly_white',\n",
    "    legend=dict(title=\"Legend\"),\n",
    "    height=500\n",
    ")\n",
    "\n",
    "fig_annual_anomalies.show()"
   ]
  },
  {
   "cell_type": "code",
   "execution_count": 13,
   "id": "8ee1f343",
   "metadata": {},
   "outputs": [
    {
     "data": {
      "application/vnd.plotly.v1+json": {
       "config": {
        "plotlyServerURL": "https://plot.ly"
       },
       "data": [
        {
         "hovertemplate": "Month=JAN<br>Year=%{x}<br>Rainfall (mm)=%{y}<extra></extra>",
         "legendgroup": "JAN",
         "line": {
          "color": "rgb(141,211,199)",
          "dash": "solid"
         },
         "marker": {
          "symbol": "circle"
         },
         "mode": "lines",
         "name": "JAN",
         "showlegend": true,
         "type": "scattergl",
         "x": {
          "bdata": "bQduB28HcAdxB3IHcwd0B3UHdgd3B3gHeQd6B3sHfAd9B34HfweAB4EHggeDB4QHhQeGB4cHiAeJB4oHiweMB40HjgePB5AHkQeSB5MHlAeVB5YHlweYB5kHmgebB5wHnQeeB58HoAehB6IHowekB6UHpgenB6gHqQeqB6sHrAetB64HrwewB7EHsgezB7QHtQe2B7cHuAe5B7oHuwe8B70Hvge/B8AHwQfCB8MHxAfFB8YHxwfIB8kHygfLB8wHzQfOB88H0AfRB9IH0wfUB9UH1gfXB9gH2QfaB9sH3AfdB94H3wc=",
          "dtype": "i2"
         },
         "xaxis": "x",
         "y": {
          "bdata": "mpmZmZlZQUCamZmZmZkdQAAAAAAAADFAzczMzMzMLEDNzMzMzEw5QDMzMzMzMzVAMzMzMzMzMEDNzMzMzMw1QM3MzMzMTDdAMzMzMzMzL0CamZmZmdlGQJqZmZmZGTZAZmZmZmZmGkAzMzMzMzMTQGZmZmZmZjNAZmZmZmZmFEBmZmZmZmYhQGZmZmZmZihAAAAAAABASkCamZmZmRk5QM3MzMzMTERAMzMzMzOzPUAAAAAAAIA4QJqZmZmZGTdAZmZmZmZmLEAzMzMzMzM9QDMzMzMzMy1AZmZmZmbmNkAzMzMzMzM/QGZmZmZm5jlAAAAAAAAALUCamZmZmZkkQAAAAAAAADJAZmZmZmbmOEDNzMzMzMw9QAAAAAAAACpAAAAAAAAAHEBmZmZmZiZAQAAAAAAAACxAzczMzMzMLEBmZmZmZuY3QJqZmZmZGTdAAAAAAABATUDNzMzMzEw9QDMzMzMzM0FAmpmZmZmZEUAAAAAAAIA2QJqZmZmZGTlAAAAAAAAAKkDNzMzMzMxBQAAAAAAAADBAAAAAAAAAJUBmZmZmZmY+QJqZmZmZGUNAMzMzMzMzNkDNzMzMzMwzQM3MzMzMzENAzczMzMzMKkDNzMzMzAxAQM3MzMzMzCtAZmZmZmbmOUAzMzMzMzMpQDMzMzMzMxtAZmZmZmZmL0DNzMzMzMwlQJqZmZmZmSlAZmZmZmZmJkBmZmZmZuY7QJqZmZmZmShAAAAAAACANkAAAAAAAAAwQGZmZmZmZiNAzczMzMxMM0CamZmZmZkuQM3MzMzMzC1AmpmZmZmZJkAzMzMzMzM0QGZmZmZmZihAzczMzMzMNEDNzMzMzMwpQGZmZmZmZjxAzczMzMzMOEDNzMzMzMwyQDMzMzMzMzNAmpmZmZkZN0CamZmZmZktQM3MzMzMzCxAMzMzMzMzIkAzMzMzMzMtQM3MzMzMzC1AmpmZmZmZK0CamZmZmRk0QDMzMzMzMzFAMzMzMzMzOEBmZmZmZiZAQM3MzMzMzDZAzczMzMzMK0DNzMzMzMwxQGZmZmZmZjJAAAAAAAAAM0DNzMzMzMwcQM3MzMzMzDBAzczMzMzMHEAzMzMzMzM6QGZmZmZmJkRAZmZmZmZmMUCamZmZmZkFQGZmZmZmZjZAmpmZmZmZJ0AAAAAAAAAeQM3MzMzMzB5AAAAAAACAPEAAAAAAAAAkQM3MzMzMTDFAZmZmZmZmMUA=",
          "dtype": "f8"
         },
         "yaxis": "y"
        },
        {
         "hovertemplate": "Month=FEB<br>Year=%{x}<br>Rainfall (mm)=%{y}<extra></extra>",
         "legendgroup": "FEB",
         "line": {
          "color": "rgb(255,255,179)",
          "dash": "solid"
         },
         "marker": {
          "symbol": "circle"
         },
         "mode": "lines",
         "name": "FEB",
         "showlegend": true,
         "type": "scattergl",
         "x": {
          "bdata": "bQduB28HcAdxB3IHcwd0B3UHdgd3B3gHeQd6B3sHfAd9B34HfweAB4EHggeDB4QHhQeGB4cHiAeJB4oHiweMB40HjgePB5AHkQeSB5MHlAeVB5YHlweYB5kHmgebB5wHnQeeB58HoAehB6IHowekB6UHpgenB6gHqQeqB6sHrAetB64HrwewB7EHsgezB7QHtQe2B7cHuAe5B7oHuwe8B70Hvge/B8AHwQfCB8MHxAfFB8YHxwfIB8kHygfLB8wHzQfOB88H0AfRB9IH0wfUB9UH1gfXB9gH2QfaB9sH3AfdB94H3wc=",
          "dtype": "i2"
         },
         "xaxis": "x",
         "y": {
          "bdata": "mpmZmZnZQkAzMzMzMzMRQJqZmZmZmSBAMzMzMzMzI0BmZmZmZuY0QGZmZmZmZklAAAAAAAAAR0DNzMzMzMwxQGZmZmZm5jFAMzMzMzMzJkBmZmZmZmYWQM3MzMzMzDVAZmZmZmZmREAAAAAAAIA/QM3MzMzMzERAMzMzMzOzNkCamZmZmVlDQJqZmZmZmRFAMzMzMzOzNkBmZmZmZuY3QJqZmZmZmSFAmpmZmZmZJEAAAAAAAMBEQAAAAAAAgDlAAAAAAAAAKUAAAAAAAAAnQAAAAAAAgEJAMzMzMzPzRECamZmZmZk0QJqZmZmZmTdAmpmZmZlZQUAzMzMzMzM5QAAAAAAAAD9AZmZmZmZmJ0BmZmZmZuY1QM3MzMzMTEZAZmZmZmbmSkBmZmZmZmZAQAAAAAAAgEFAAAAAAAAAO0BmZmZmZuYwQM3MzMzMzEZAmpmZmZmZI0BmZmZmZuZDQM3MzMzMzCNAZmZmZmbmMkAAAAAAAIAyQJqZmZmZmT1AZmZmZmbmPEAAAAAAAAA6QJqZmZmZmShAZmZmZmZmNEBmZmZmZmYlQJqZmZmZ2UJAAAAAAAAAEkCamZmZmZkmQJqZmZmZmTFAzczMzMzMMkDNzMzMzEw4QJqZmZmZmQVAmpmZmZmZQUAAAAAAAIA1QAAAAAAAACJAmpmZmZmZLEAAAAAAAAA6QJqZmZmZGThAzczMzMzMKkAAAAAAAIAzQJqZmZmZmStAZmZmZmbmOkAAAAAAAIA2QJqZmZmZGTtAZmZmZmbmNEAAAAAAAAApQDMzMzMzszJAAAAAAACAN0AAAAAAAAAkQAAAAAAAADtAmpmZmZlZQUCamZmZmRk2QGZmZmZmZjRAZmZmZmZmOECamZmZmZk3QJqZmZmZ2UFAMzMzMzMzI0CamZmZmVlCQM3MzMzMzDVAMzMzMzMzPEBmZmZmZmYsQGZmZmZmJkZAzczMzMxMOkAzMzMzM7MyQM3MzMzMTDhAzczMzMzMOkAzMzMzMzM9QJqZmZmZGTdAAAAAAAAAJEAzMzMzM/NBQAAAAAAAAChAAAAAAAAAO0CamZmZmZkkQAAAAAAAADVAzczMzMwMRUBmZmZmZmYlQAAAAAAAAEdAAAAAAAAAJ0CamZmZmdlBQDMzMzMzMzNAZmZmZmZmKkDNzMzMzEwwQM3MzMzMTDpAmpmZmZmZJUAzMzMzM3NCQGZmZmZm5jlAAAAAAAAANUA=",
          "dtype": "f8"
         },
         "yaxis": "y"
        },
        {
         "hovertemplate": "Month=MAR<br>Year=%{x}<br>Rainfall (mm)=%{y}<extra></extra>",
         "legendgroup": "MAR",
         "line": {
          "color": "rgb(190,186,218)",
          "dash": "solid"
         },
         "marker": {
          "symbol": "circle"
         },
         "mode": "lines",
         "name": "MAR",
         "showlegend": true,
         "type": "scattergl",
         "x": {
          "bdata": "bQduB28HcAdxB3IHcwd0B3UHdgd3B3gHeQd6B3sHfAd9B34HfweAB4EHggeDB4QHhQeGB4cHiAeJB4oHiweMB40HjgePB5AHkQeSB5MHlAeVB5YHlweYB5kHmgebB5wHnQeeB58HoAehB6IHowekB6UHpgenB6gHqQeqB6sHrAetB64HrwewB7EHsgezB7QHtQe2B7cHuAe5B7oHuwe8B70Hvge/B8AHwQfCB8MHxAfFB8YHxwfIB8kHygfLB8wHzQfOB88H0AfRB9IH0wfUB9UH1gfXB9gH2QfaB9sH3AfdB94H3wc=",
          "dtype": "i2"
         },
         "xaxis": "x",
         "y": {
          "bdata": "AAAAAAAAMkAAAAAAAAAzQM3MzMzMTD9AzczMzMzMP0CamZmZmVlFQDMzMzMzsz9AZmZmZmbmQkBmZmZmZmYhQM3MzMzMzBxAmpmZmZmZK0AzMzMzM/NIQDMzMzMzMzVAAAAAAAAAOUDNzMzMzEw8QJqZmZmZGUdAmpmZmZmZKEDNzMzMzMw2QM3MzMzMzERAzczMzMxMNECamZmZmRlNQJqZmZmZmTJAMzMzMzMzLUAzMzMzM7M2QJqZmZmZmSxAmpmZmZmZL0DNzMzMzAxOQJqZmZmZGTdAMzMzMzOzNkDNzMzMzMwsQDMzMzMzszlAMzMzMzOzM0AAAAAAAIA2QJqZmZmZmTpAMzMzMzMzMUBmZmZmZuY0QGZmZmZmJkRAzczMzMxMNECamZmZmZlAQGZmZmZmZkBAzczMzMzMSEAzMzMzMzMzQAAAAAAAADRAAAAAAAAAPkCamZmZmVlMQJqZmZmZGTRAMzMzMzMzOEAAAAAAAAA6QM3MzMzMDERAAAAAAACAOEAzMzMzM3NCQJqZmZmZmUZAAAAAAAAAQ0AAAAAAAIA5QGZmZmZmZjFAzczMzMzMOECamZmZmRlAQM3MzMzMzD1AMzMzMzMzM0DNzMzMzMw1QAAAAAAAwEFAmpmZmZmZOkAzMzMzMzMvQM3MzMzMTENAZmZmZmbmMkBmZmZmZmY6QM3MzMzMTDRAZmZmZmamT0AAAAAAAIA7QAAAAAAAgDNAZmZmZmbmOECamZmZmZkkQAAAAAAAADVAMzMzMzOzM0DNzMzMzMwzQDMzMzMzMztAZmZmZmbmN0BmZmZmZmYrQJqZmZmZGUZAzczMzMxMPUBmZmZmZiZAQM3MzMzMzEdAzczMzMxMR0AzMzMzM7NFQM3MzMzMzDVAzczMzMzMM0DNzMzMzMw8QGZmZmZmZjtAZmZmZmamSEBmZmZmZuY6QGZmZmZmpkpAzczMzMzMO0BmZmZmZmY5QGZmZmZmpkNAZmZmZmbmN0CamZmZmRk8QGZmZmZmZj9AMzMzMzMzPkDNzMzMzAxGQJqZmZmZmSVAmpmZmZmZMkDNzMzMzEw1QGZmZmZm5jZAmpmZmZnZQEDNzMzMzMwnQM3MzMzMTEVAMzMzMzMzQUAzMzMzMzNBQJqZmZmZ2UJAZmZmZmZmLkCamZmZmZkwQGZmZmZmZjVAMzMzMzMzJUAAAAAAAAAtQM3MzMzMTEBAAAAAAAAAT0A=",
          "dtype": "f8"
         },
         "yaxis": "y"
        },
        {
         "hovertemplate": "Month=APR<br>Year=%{x}<br>Rainfall (mm)=%{y}<extra></extra>",
         "legendgroup": "APR",
         "line": {
          "color": "rgb(251,128,114)",
          "dash": "solid"
         },
         "marker": {
          "symbol": "circle"
         },
         "mode": "lines",
         "name": "APR",
         "showlegend": true,
         "type": "scattergl",
         "x": {
          "bdata": "bQduB28HcAdxB3IHcwd0B3UHdgd3B3gHeQd6B3sHfAd9B34HfweAB4EHggeDB4QHhQeGB4cHiAeJB4oHiweMB40HjgePB5AHkQeSB5MHlAeVB5YHlweYB5kHmgebB5wHnQeeB58HoAehB6IHowekB6UHpgenB6gHqQeqB6sHrAetB64HrwewB7EHsgezB7QHtQe2B7cHuAe5B7oHuwe8B70Hvge/B8AHwQfCB8MHxAfFB8YHxwfIB8kHygfLB8wHzQfOB88H0AfRB9IH0wfUB9UH1gfXB9gH2QfaB9sH3AfdB94H3wc=",
          "dtype": "i2"
         },
         "xaxis": "x",
         "y": {
          "bdata": "ZmZmZmamQ0AAAAAAAMBFQJqZmZmZGTFAzczMzMyMQECamZmZmdlAQJqZmZmZGTBAZmZmZmZmT0BmZmZmZqZAQAAAAAAAgE9AMzMzMzMzPUDNzMzMzMw2QAAAAAAAAERAmpmZmZkZOkBmZmZmZiZHQDMzMzMzM0JAzczMzMwMQkCamZmZmZlFQGZmZmZmZkNAAAAAAADAQEBmZmZmZmZDQAAAAAAAwEVAAAAAAACAP0DNzMzMzAxAQDMzMzMzsz9AAAAAAAAARkCamZmZmVlFQDMzMzMzs0JAzczMzMxMQUCamZmZmZlLQJqZmZmZmUpAMzMzMzOzQkDNzMzMzEw/QM3MzMzMDElAmpmZmZmZR0CamZmZmRlGQGZmZmZmJkFAzczMzMwMTEBmZmZmZqZBQGZmZmZmJkVAmpmZmZkZPEDNzMzMzEw/QM3MzMzMTEdAzczMzMwMSUCamZmZmZlAQAAAAAAAgEdAAAAAAAAASEBmZmZmZqZDQDMzMzMzM0VAmpmZmZlZSkBmZmZmZuY8QJqZmZmZ2UtAZmZmZmZmQEBmZmZmZiZDQJqZmZmZGTdAZmZmZmbmP0AzMzMzMzM/QDMzMzMzc0RAzczMzMxMQkBmZmZmZuY5QAAAAAAAADRAZmZmZmbmPEAAAAAAAMBFQM3MzMzMDElAzczMzMwMREDNzMzMzMxFQAAAAAAAAEBAmpmZmZkZPUAzMzMzMzNAQJqZmZmZ2UNAMzMzMzMzPUBmZmZmZiZKQDMzMzMzc0JAAAAAAAAAO0CamZmZmRlAQAAAAAAAgDtAzczMzMzMQUAAAAAAAMBQQDMzMzMzc0BAZmZmZmbmNEDNzMzMzAxBQGZmZmZmJkJAmpmZmZlZSUCamZmZmdlMQJqZmZmZ2UVAMzMzMzPzQkDNzMzMzAxIQGZmZmZmpkRAAAAAAADAREDNzMzMzIxAQAAAAAAAAEVAmpmZmZmZSEAAAAAAAIA3QJqZmZmZGTpAAAAAAACARkBmZmZmZmY/QJqZmZmZGT9AzczMzMyMRkDNzMzMzMxEQJqZmZmZGTNAAAAAAACAQUAAAAAAAMBGQDMzMzMzc0NAAAAAAADAQUDNzMzMzExJQAAAAAAAQENAZmZmZmZmPkDNzMzMzMxAQM3MzMzMTEBAAAAAAAAAOkDNzMzMzAxFQAAAAAAAgERAAAAAAABASEBmZmZmZmY9QDMzMzMzMzRAmpmZmZlZUUA=",
          "dtype": "f8"
         },
         "yaxis": "y"
        },
        {
         "hovertemplate": "Month=MAY<br>Year=%{x}<br>Rainfall (mm)=%{y}<extra></extra>",
         "legendgroup": "MAY",
         "line": {
          "color": "rgb(128,177,211)",
          "dash": "solid"
         },
         "marker": {
          "symbol": "circle"
         },
         "mode": "lines",
         "name": "MAY",
         "showlegend": true,
         "type": "scattergl",
         "x": {
          "bdata": "bQduB28HcAdxB3IHcwd0B3UHdgd3B3gHeQd6B3sHfAd9B34HfweAB4EHggeDB4QHhQeGB4cHiAeJB4oHiweMB40HjgePB5AHkQeSB5MHlAeVB5YHlweYB5kHmgebB5wHnQeeB58HoAehB6IHowekB6UHpgenB6gHqQeqB6sHrAetB64HrwewB7EHsgezB7QHtQe2B7cHuAe5B7oHuwe8B70Hvge/B8AHwQfCB8MHxAfFB8YHxwfIB8kHygfLB8wHzQfOB88H0AfRB9IH0wfUB9UH1gfXB9gH2QfaB9sH3AfdB94H3wc=",
          "dtype": "i2"
         },
         "xaxis": "x",
         "y": {
          "bdata": "ZmZmZmZmSUBmZmZmZiZIQAAAAAAAwE1AmpmZmZkZUkCamZmZmdlLQJqZmZmZWUJAzczMzMxMQEAzMzMzM7NGQM3MzMzMDEpAAAAAAADAREDNzMzMzMxHQAAAAAAAgEVAzczMzMxMUkAAAAAAAGBRQJqZmZmZWU9AAAAAAADATUAAAAAAAMBSQDMzMzMzs1lAAAAAAABATkAzMzMzM/NKQDMzMzMzs0hAAAAAAACASECamZmZmVlOQJqZmZmZGVBAZmZmZmYGWkDNzMzMzExNQGZmZmZm5klAZmZmZmYmS0DNzMzMzGxQQJqZmZmZWUxAZmZmZmamTUAzMzMzM1NVQM3MzMzMzFlAAAAAAAAASEBmZmZmZuZBQJqZmZmZuVRAzczMzMyMTEBmZmZmZqZRQJqZmZmZGURAzczMzMxMVEAzMzMzMxNUQDMzMzMzc1BAzczMzMzsV0DNzMzMzIxOQGZmZmZm5kpAMzMzMzPTUUAAAAAAAIBLQGZmZmZmhlZAZmZmZmZGVkBmZmZmZqZIQDMzMzMz801AmpmZmZmZUEBmZmZmZqZHQAAAAAAAgEpAzczMzMyMUkCamZmZmRlVQGZmZmZmBlJAmpmZmZn5U0CamZmZmdlSQM3MzMzMTExAZmZmZmZGU0BmZmZmZqZRQM3MzMzMzE1AzczMzMzMSUCamZmZmZlJQAAAAAAAgExAMzMzMzMzRUCamZmZmVlHQJqZmZmZmU9AMzMzMzMTUUCamZmZmblSQM3MzMzMzEtAAAAAAAAATEBmZmZmZqZPQJqZmZmZ2UhAmpmZmZkZRkAzMzMzM/NUQAAAAAAAQE1AmpmZmZnZSUCamZmZmVlLQAAAAAAAwFBAzczMzMzMTUBmZmZmZsZRQAAAAAAAwE1AzczMzMwMTkCamZmZmVlIQDMzMzMzk1BAMzMzMzMzUUAzMzMzM/NLQAAAAAAAoFxAAAAAAADgUECamZmZmRlMQAAAAAAAYFFAzczMzMwMSkDNzMzMzCxUQM3MzMzMzEtAAAAAAACAR0AAAAAAAMBJQDMzMzMzk1dAAAAAAABgUkBmZmZmZqZOQJqZmZmZ2UxAzczMzMxMQ0AAAAAAAKBSQGZmZmZmJklAzczMzMwsVEAzMzMzMzNJQJqZmZmZmUZAzczMzMxMTEAAAAAAAEBRQM3MzMzMzElAzczMzMwMQEAAAAAAAEBMQDMzMzMzM1JAZmZmZmbmSkA=",
          "dtype": "f8"
         },
         "yaxis": "y"
        },
        {
         "hovertemplate": "Month=JUN<br>Year=%{x}<br>Rainfall (mm)=%{y}<extra></extra>",
         "legendgroup": "JUN",
         "line": {
          "color": "rgb(253,180,98)",
          "dash": "solid"
         },
         "marker": {
          "symbol": "circle"
         },
         "mode": "lines",
         "name": "JUN",
         "showlegend": true,
         "type": "scattergl",
         "x": {
          "bdata": "bQduB28HcAdxB3IHcwd0B3UHdgd3B3gHeQd6B3sHfAd9B34HfweAB4EHggeDB4QHhQeGB4cHiAeJB4oHiweMB40HjgePB5AHkQeSB5MHlAeVB5YHlweYB5kHmgebB5wHnQeeB58HoAehB6IHowekB6UHpgenB6gHqQeqB6sHrAetB64HrwewB7EHsgezB7QHtQe2B7cHuAe5B7oHuwe8B70Hvge/B8AHwQfCB8MHxAfFB8YHxwfIB8kHygfLB8wHzQfOB88H0AfRB9IH0wfUB9UH1gfXB9gH2QfaB9sH3AfdB94H3wc=",
          "dtype": "i2"
         },
         "xaxis": "x",
         "y": {
          "bdata": "mpmZmZlZXEAzMzMzMzNbQDMzMzMzk11AmpmZmZmZZEAzMzMzM1NXQDMzMzMzI2ZAzczMzMxMY0CamZmZmZlfQGZmZmZmBmpAAAAAAACwakDNzMzMzPxnQDMzMzMzs1pAzczMzMzMakCamZmZmeljQM3MzMzMfGNAZmZmZmZmbUCamZmZmflsQDMzMzMzk2pAZmZmZmZmaEDNzMzMzHxkQM3MzMzMPGhAZmZmZmZWaUDNzMzMzKxZQAAAAAAA8GBAZmZmZmYmakAAAAAAAMBYQM3MzMzMbGZAMzMzMzNjZkCamZmZmVloQGZmZmZmxmZAAAAAAADQYEAAAAAAANBhQGZmZmZmRmtAZmZmZmbmakAzMzMzM/NjQAAAAAAAIG9AAAAAAABgZEAAAAAAADhxQGZmZmZmhmVAAAAAAADwZUAzMzMzM5NlQGZmZmZm1mdAAAAAAAAQZUAzMzMzM6NjQAAAAAAA0GNAmpmZmZm5akDNzMzMzExgQGZmZmZmhmRAMzMzMzNjZEAAAAAAAMBgQM3MzMzMHGRAMzMzMzOzZEAzMzMzM1NkQGZmZmZm5mFAmpmZmZlJZkBmZmZmZnZqQAAAAAAAYGNAmpmZmZn5XkBmZmZmZhZlQDMzMzMz42NAMzMzMzMDaECamZmZmQlhQAAAAAAAsGRAzczMzMwMZkAzMzMzM/NcQM3MzMzMLGZAzczMzMwcYkAAAAAAAIBiQJqZmZmZOWBAmpmZmZmZakAAAAAAAJBsQAAAAAAAwF5AAAAAAABwYkAzMzMzM7NeQDMzMzMzM2ZAAAAAAABgY0CamZmZmWlnQM3MzMzMTGpAmpmZmZmpYUDNzMzMzKxsQAAAAAAAIGNAzczMzMwcYUBmZmZmZgZjQAAAAAAAAGhAZmZmZmaGY0BmZmZmZtZmQGZmZmZmpmBAAAAAAADgY0CamZmZmUlnQAAAAAAAQGhAZmZmZmYGZ0BmZmZmZmZhQJqZmZmZWWVAAAAAAADAaUAzMzMzM5NhQM3MzMzM7GZAMzMzMzNzZUCamZmZmYlkQJqZmZmZaWVAAAAAAAAQZ0AzMzMzM+NqQDMzMzMzQ2VAAAAAAACQZECamZmZmflkQM3MzMzMXGJAzczMzMzsYkDNzMzMzCxpQJqZmZmZGWpAAAAAAACgVUDNzMzMzJxhQJqZmZmZ2WZAAAAAAABAX0DNzMzMzDxrQAAAAAAA4FdAmpmZmZkZaEA=",
          "dtype": "f8"
         },
         "yaxis": "y"
        },
        {
         "hovertemplate": "Month=JUL<br>Year=%{x}<br>Rainfall (mm)=%{y}<extra></extra>",
         "legendgroup": "JUL",
         "line": {
          "color": "rgb(179,222,105)",
          "dash": "solid"
         },
         "marker": {
          "symbol": "circle"
         },
         "mode": "lines",
         "name": "JUL",
         "showlegend": true,
         "type": "scattergl",
         "x": {
          "bdata": "bQduB28HcAdxB3IHcwd0B3UHdgd3B3gHeQd6B3sHfAd9B34HfweAB4EHggeDB4QHhQeGB4cHiAeJB4oHiweMB40HjgePB5AHkQeSB5MHlAeVB5YHlweYB5kHmgebB5wHnQeeB58HoAehB6IHowekB6UHpgenB6gHqQeqB6sHrAetB64HrwewB7EHsgezB7QHtQe2B7cHuAe5B7oHuwe8B70Hvge/B8AHwQfCB8MHxAfFB8YHxwfIB8kHygfLB8wHzQfOB88H0AfRB9IH0wfUB9UH1gfXB9gH2QfaB9sH3AfdB94H3wc=",
          "dtype": "i2"
         },
         "xaxis": "x",
         "y": {
          "bdata": "ZmZmZmZGbkAAAAAAAMBxQAAAAAAAkHJAAAAAAABQcECamZmZmZlvQGZmZmZm1nFAzczMzMwsbEAzMzMzM3N0QGZmZmZmVnNAmpmZmZlJb0BmZmZmZlZkQAAAAAAAkHRAZmZmZmYGcUDNzMzMzLR1QAAAAAAAwGxAmpmZmZmxcEAzMzMzM9NxQJqZmZmZ+WZAzczMzMxUc0AAAAAAAJhyQAAAAAAAmHJAzczMzMzcc0AAAAAAADh1QAAAAAAAgHRAzczMzMwsc0BmZmZmZg50QAAAAAAA8HVAmpmZmZkpc0DNzMzMzKxyQAAAAAAASHJAZmZmZmZedEAAAAAAAPh0QAAAAAAAwHFAAAAAAADYcUBmZmZmZuZzQGZmZmZmhnJAMzMzMzM7dUAAAAAAAAhzQAAAAAAAUHFAzczMzMycc0CamZmZmRluQJqZmZmZkXVAAAAAAACIc0AzMzMzMyt2QAAAAAAA8HRAzczMzMz0c0AAAAAAALBzQM3MzMzMvHVAAAAAAADwc0AzMzMzM7N0QM3MzMzMrG9AAAAAAADocUCamZmZmRl0QJqZmZmZeXJAmpmZmZmJbUAAAAAAALB2QAAAAAAAKHNAAAAAAAAAdECamZmZmZF3QJqZmZmZ6XNAmpmZmZkxdUBmZmZmZq5xQM3MzMzMHHBAzczMzMyEdUAzMzMzM9NwQM3MzMzMfG9AmpmZmZkJc0CamZmZmVlzQDMzMzMz63NAZmZmZmambkAzMzMzM8twQAAAAAAAsGlAzczMzMx0cUDNzMzMzIRxQGZmZmZmRnNAMzMzMzOTckBmZmZmZm50QJqZmZmZQXJAmpmZmZnpbUDNzMzMzKRyQJqZmZmZSXNAmpmZmZkJbUAAAAAAAKhxQAAAAAAA6HFAzczMzMwUckBmZmZmZlZwQJqZmZmZuWtAZmZmZmb2d0DNzMzMzORyQDMzMzMz63FAZmZmZmaWcUAzMzMzM+NwQAAAAAAAOHNAZmZmZmYWdkAzMzMzM1t0QGZmZmZmpnBAAAAAAACYcUCamZmZmaFxQDMzMzMza3BAmpmZmZm5cECamZmZmZFxQM3MzMzMXGFAmpmZmZkZc0BmZmZmZjZuQM3MzMzMRHVAAAAAAACockDNzMzMzHxyQAAAAAAAQG9AMzMzMzO7cUCamZmZmVlyQAAAAAAAYG5AmpmZmZkhcEBmZmZmZhZzQM3MzMzMLHBAzczMzMxMbkA=",
          "dtype": "f8"
         },
         "yaxis": "y"
        },
        {
         "hovertemplate": "Month=AUG<br>Year=%{x}<br>Rainfall (mm)=%{y}<extra></extra>",
         "legendgroup": "AUG",
         "line": {
          "color": "rgb(252,205,229)",
          "dash": "solid"
         },
         "marker": {
          "symbol": "circle"
         },
         "mode": "lines",
         "name": "AUG",
         "showlegend": true,
         "type": "scattergl",
         "x": {
          "bdata": "bQduB28HcAdxB3IHcwd0B3UHdgd3B3gHeQd6B3sHfAd9B34HfweAB4EHggeDB4QHhQeGB4cHiAeJB4oHiweMB40HjgePB5AHkQeSB5MHlAeVB5YHlweYB5kHmgebB5wHnQeeB58HoAehB6IHowekB6UHpgenB6gHqQeqB6sHrAetB64HrwewB7EHsgezB7QHtQe2B7cHuAe5B7oHuwe8B70Hvge/B8AHwQfCB8MHxAfFB8YHxwfIB8kHygfLB8wHzQfOB88H0AfRB9IH0wfUB9UH1gfXB9gH2QfaB9sH3AfdB94H3wc=",
          "dtype": "i2"
         },
         "xaxis": "x",
         "y": {
          "bdata": "ZmZmZmYOcUBmZmZmZvZoQGZmZmZm5nBAzczMzMzMaUCamZmZmRlpQDMzMzMzY29AZmZmZmZmc0DNzMzMzIxzQAAAAAAAYG1AzczMzMwcckAAAAAAALBqQM3MzMzMVHBAzczMzMw8aECamZmZmRluQDMzMzMzw2xAAAAAAABoc0AAAAAAAIhyQGZmZmZmVm5AAAAAAAAYckBmZmZmZvZnQAAAAAAAaHFAZmZmZmbWa0AAAAAAAFBxQJqZmZmZcXBAzczMzMzcbUAAAAAAAPh0QM3MzMzMNHBAmpmZmZkZbUDNzMzMzNxuQAAAAAAA0GpAAAAAAABQc0AzMzMzM+NtQAAAAAAAyHNAMzMzMzPLckBmZmZmZgZvQJqZmZmZOW5AAAAAAABQakAAAAAAAHBvQM3MzMzMTG1AMzMzMzOjcUBmZmZmZtZsQGZmZmZmVnJAmpmZmZlZbUCamZmZmTlyQGZmZmZm9m5AmpmZmZmJckCamZmZmTFyQM3MzMzMnHFAAAAAAACAbkCamZmZmWltQDMzMzMz02tAzczMzMwMcEBmZmZmZt5yQDMzMzMzA21AmpmZmZkJdECamZmZmUFwQDMzMzMzW3FAzczMzMxUdECamZmZmalwQGZmZmZmpm9AZmZmZmYGckAAAAAAAFBxQDMzMzMz03NAmpmZmZkpcUCamZmZmQloQDMzMzMzA2tAZmZmZmZucEAAAAAAAIBqQGZmZmZmBnFAmpmZmZmZc0AAAAAAANBwQJqZmZmZuWtAAAAAAACIc0AAAAAAAABtQJqZmZmZKXJAAAAAAAB4ckAAAAAAAPBuQAAAAAAAyHFAmpmZmZlpakCamZmZmbFwQGZmZmZm5m1AZmZmZmY+cUCamZmZmTlzQGZmZmZmbnBAAAAAAAAwbUAAAAAAADBtQGZmZmZmZm5AzczMzMz0ckBmZmZmZsZtQDMzMzMzU3JAMzMzMzNzcEAAAAAAAAByQM3MzMzMrGlAZmZmZmb+cUDNzMzMzMxwQGZmZmZmdnJAAAAAAABAcEAAAAAAAEBvQJqZmZmZOWtAZmZmZmYmbEAAAAAAAEBqQGZmZmZmxm5AmpmZmZn5bkAAAAAAAJBvQAAAAAAAAGhAmpmZmZnpckAzMzMzMzNwQM3MzMzMhHBAzczMzMz8Z0DNzMzMzARxQJqZmZmZyXFAZmZmZmZ+cEDNzMzMzAxvQM3MzMzMvG1AZmZmZmamaUA=",
          "dtype": "f8"
         },
         "yaxis": "y"
        },
        {
         "hovertemplate": "Month=SEP<br>Year=%{x}<br>Rainfall (mm)=%{y}<extra></extra>",
         "legendgroup": "SEP",
         "line": {
          "color": "rgb(217,217,217)",
          "dash": "solid"
         },
         "marker": {
          "symbol": "circle"
         },
         "mode": "lines",
         "name": "SEP",
         "showlegend": true,
         "type": "scattergl",
         "x": {
          "bdata": "bQduB28HcAdxB3IHcwd0B3UHdgd3B3gHeQd6B3sHfAd9B34HfweAB4EHggeDB4QHhQeGB4cHiAeJB4oHiweMB40HjgePB5AHkQeSB5MHlAeVB5YHlweYB5kHmgebB5wHnQeeB58HoAehB6IHowekB6UHpgenB6gHqQeqB6sHrAetB64HrwewB7EHsgezB7QHtQe2B7cHuAe5B7oHuwe8B70Hvge/B8AHwQfCB8MHxAfFB8YHxwfIB8kHygfLB8wHzQfOB88H0AfRB9IH0wfUB9UH1gfXB9gH2QfaB9sH3AfdB94H3wc=",
          "dtype": "i2"
         },
         "xaxis": "x",
         "y": {
          "bdata": "mpmZmZkZX0AAAAAAADBpQDMzMzMz42hAMzMzMzMzYEDNzMzMzExmQGZmZmZm1mZAmpmZmZk5WEAAAAAAANBiQDMzMzMzc2RAmpmZmZlZZ0CamZmZmclmQDMzMzMzE15AmpmZmZkZW0CamZmZmUloQAAAAAAAgGVAMzMzMzMzaUAAAAAAAJBxQM3MzMzMbFtAMzMzMzNzZEAAAAAAAMBeQDMzMzMz02lAZmZmZmZWaUBmZmZmZlZmQAAAAAAAUG5AZmZmZma2YUAAAAAAAGBqQDMzMzMzo2VAzczMzMwMYkBmZmZmZqZfQGZmZmZmFmZAMzMzMzMzaEAAAAAAAMBmQAAAAAAA8GpAAAAAAAAgZUAzMzMzM2NnQAAAAAAAUGhAAAAAAADgZUBmZmZmZlZlQJqZmZmZeWNAAAAAAABgX0AzMzMzM4NjQM3MzMzMDGdAmpmZmZmZakCamZmZmcljQAAAAAAA8GpAAAAAAAAgYkDNzMzMzNxtQM3MzMzMbGZAMzMzMzMzbEBmZmZmZnZpQJqZmZmZGV9AzczMzMwsXkBmZmZmZmZmQGZmZmZmFm9AZmZmZmZWa0AAAAAAAKBkQJqZmZmZiWBAmpmZmZm5bECamZmZmeltQM3MzMzMjGZAZmZmZmaGbUAAAAAAAIBqQM3MzMzMrGRAzczMzMzcaEAzMzMzM2NgQJqZmZmZmWJAzczMzMxMZUCamZmZmSlgQM3MzMzM3GVAMzMzMzODakBmZmZmZnZiQDMzMzMzI2BAAAAAAADQZkAzMzMzM8NhQGZmZmZmlmxAZmZmZmYWYkAAAAAAAHBiQDMzMzMzI2RAZmZmZmb2YEAzMzMzMzNiQDMzMzMzU2dAMzMzMzNTX0CamZmZmelvQM3MzMzMLGJAZmZmZmb2YkAAAAAAAGBfQJqZmZmZ6WJAzczMzMyMa0AzMzMzM4NkQDMzMzMzk2hAmpmZmZl5YUCamZmZmUllQGZmZmZmZmpAZmZmZmbWYkAzMzMzM6NmQM3MzMzMTGJAMzMzMzPDYkAzMzMzMyNpQDMzMzMzQ2dAmpmZmZnpYEDNzMzMzExbQM3MzMzMvGBAzczMzMx8ZkBmZmZmZuZeQGZmZmZmFmlAzczMzMzsZUAzMzMzM+NqQGZmZmZmtmRAmpmZmZmJYUAzMzMzM3NoQAAAAAAA0GdAZmZmZma2aEDNzMzMzIxiQM3MzMzMfGdAmpmZmZl5YEA=",
          "dtype": "f8"
         },
         "yaxis": "y"
        },
        {
         "hovertemplate": "Month=OCT<br>Year=%{x}<br>Rainfall (mm)=%{y}<extra></extra>",
         "legendgroup": "OCT",
         "line": {
          "color": "rgb(188,128,189)",
          "dash": "solid"
         },
         "marker": {
          "symbol": "circle"
         },
         "mode": "lines",
         "name": "OCT",
         "showlegend": true,
         "type": "scattergl",
         "x": {
          "bdata": "bQduB28HcAdxB3IHcwd0B3UHdgd3B3gHeQd6B3sHfAd9B34HfweAB4EHggeDB4QHhQeGB4cHiAeJB4oHiweMB40HjgePB5AHkQeSB5MHlAeVB5YHlweYB5kHmgebB5wHnQeeB58HoAehB6IHowekB6UHpgenB6gHqQeqB6sHrAetB64HrwewB7EHsgezB7QHtQe2B7cHuAe5B7oHuwe8B70Hvge/B8AHwQfCB8MHxAfFB8YHxwfIB8kHygfLB8wHzQfOB88H0AfRB9IH0wfUB9UH1gfXB9gH2QfaB9sH3AfdB94H3wc=",
          "dtype": "i2"
         },
         "xaxis": "x",
         "y": {
          "bdata": "mpmZmZlZSkAAAAAAAMBOQJqZmZmZeV1AAAAAAABAUUAzMzMzM7NJQM3MzMzMzEhAMzMzMzOzNkAAAAAAAMBCQGZmZmZmJkNAmpmZmZnZWkBmZmZmZqZRQDMzMzMz80tAAAAAAADAUEAAAAAAAEBIQDMzMzMzk1ZAZmZmZmZGYUCamZmZmdljQAAAAAAAADRAAAAAAAAgV0DNzMzMzAxGQGZmZmZmxlFAAAAAAACATkAzMzMzM3NOQM3MzMzMjFBAMzMzMzMzUUBmZmZmZqZMQM3MzMzMTFFAmpmZmZkZYECamZmZmRlXQDMzMzMzs1dAAAAAAAAgX0DNzMzMzExRQJqZmZmZmVdAAAAAAADAT0DNzMzMzIxIQJqZmZmZuVBAmpmZmZnZV0AzMzMzM1NTQDMzMzMz81ZAMzMzMzNzTkCamZmZmVlPQAAAAAAAwEFAAAAAAADgVUBmZmZmZiZXQJqZmZmZeVRAmpmZmZnZVECamZmZmVlRQGZmZmZm5k1AzczMzMxsWEBmZmZmZiZMQM3MzMzMbFJAZmZmZmbmU0BmZmZmZiZVQJqZmZmZeVJAmpmZmZnpYkCamZmZmQljQGZmZmZmRlBAAAAAAADgXUAAAAAAAABeQAAAAAAAQFFAMzMzMzOzXkDNzMzMzGxTQGZmZmZmhlhAmpmZmZl5UEAAAAAAAMBAQJqZmZmZWUxAZmZmZmYmREDNzMzMzOxQQM3MzMzMDEtAmpmZmZl5UkBmZmZmZiZZQAAAAAAAgFBAMzMzMzOTXECamZmZmZlZQJqZmZmZOV5AAAAAAAAAQECamZmZmdlUQGZmZmZmZkhAzczMzMwMSUBmZmZmZiZJQM3MzMzMjEVAMzMzMzPzSUAAAAAAAKBVQGZmZmZmJk5AzczMzMysXEBmZmZmZqZRQAAAAAAAQFdAzczMzMyMS0CamZmZmVlJQM3MzMzMzFlAMzMzMzMzTkAzMzMzMxNQQDMzMzMzs1VAmpmZmZn5U0DNzMzMzAxUQJqZmZmZ+VdAAAAAAACATUBmZmZmZoZaQAAAAAAAAF1AzczMzMxMREDNzMzMzGxYQDMzMzMzM0tAzczMzMwsV0AzMzMzMzNWQM3MzMzMDFhAZmZmZmYmSkBmZmZmZqZLQAAAAAAAQElAZmZmZmaGUUDNzMzMzOxQQAAAAAAAQEJAZmZmZmbmTUDNzMzMzBxgQDMzMzMzc05AMzMzMzNzRUA=",
          "dtype": "f8"
         },
         "yaxis": "y"
        },
        {
         "hovertemplate": "Month=NOV<br>Year=%{x}<br>Rainfall (mm)=%{y}<extra></extra>",
         "legendgroup": "NOV",
         "line": {
          "color": "rgb(204,235,197)",
          "dash": "solid"
         },
         "marker": {
          "symbol": "circle"
         },
         "mode": "lines",
         "name": "NOV",
         "showlegend": true,
         "type": "scattergl",
         "x": {
          "bdata": "bQduB28HcAdxB3IHcwd0B3UHdgd3B3gHeQd6B3sHfAd9B34HfweAB4EHggeDB4QHhQeGB4cHiAeJB4oHiweMB40HjgePB5AHkQeSB5MHlAeVB5YHlweYB5kHmgebB5wHnQeeB58HoAehB6IHowekB6UHpgenB6gHqQeqB6sHrAetB64HrwewB7EHsgezB7QHtQe2B7cHuAe5B7oHuwe8B70Hvge/B8AHwQfCB8MHxAfFB8YHxwfIB8kHygfLB8wHzQfOB88H0AfRB9IH0wfUB9UH1gfXB9gH2QfaB9sH3AfdB94H3wc=",
          "dtype": "i2"
         },
         "xaxis": "x",
         "y": {
          "bdata": "AAAAAAAAQ0BmZmZmZuY7QDMzMzMzc0JAZmZmZmZmJkBmZmZmZmYjQM3MzMzMzDFAAAAAAACANkAAAAAAAAAaQJqZmZmZmSNAAAAAAACAQUBmZmZmZmZFQGZmZmZmZklAZmZmZmZmMUCamZmZmRk1QM3MzMzMDEZAzczMzMzMRkAzMzMzMzM8QM3MzMzMjERAZmZmZmbmSEAAAAAAAIA4QAAAAAAAAC1AAAAAAADAS0BmZmZmZmYzQDMzMzMz80xAMzMzMzPzQ0AzMzMzMzMlQDMzMzMz80tAmpmZmZmZN0AAAAAAAIAyQM3MzMzMDEtAzczMzMxMREAzMzMzM/NNQAAAAAAAADRAMzMzMzNzQEAzMzMzMzMxQAAAAAAAgEtAzczMzMzMM0BmZmZmZuYxQGZmZmZm5jxAZmZmZmZmQ0DNzMzMzMw6QDMzMzMzMzJAMzMzMzOzMEAAAAAAAAA9QM3MzMzMzDBAzczMzMwsUkBmZmZmZmYeQDMzMzMz81FAMzMzMzMzJEBmZmZmZmY7QM3MzMzMTD9AMzMzMzMzIkAAAAAAAAApQM3MzMzMzAxAmpmZmZkZOkDNzMzMzExFQJqZmZmZmTtAZmZmZmbmPUDNzMzMzMw5QJqZmZmZmT9AAAAAAACANEAAAAAAAAAyQAAAAAAAgDtAZmZmZmbmNUBmZmZmZmYxQGZmZmZmpkhAzczMzMzMJkCamZmZmZk1QJqZmZmZmUJAmpmZmZmZL0AAAAAAAAAvQM3MzMzMTD5AMzMzMzOzMUBmZmZmZmYkQM3MzMzMzDZAMzMzMzMzS0BmZmZmZsZQQDMzMzMzc0hAzczMzMyMUkCamZmZmRk3QDMzMzMzMztAzczMzMxMRkAAAAAAAAAkQJqZmZmZmStAAAAAAACAMkCamZmZmdlHQM3MzMzMzEVAMzMzMzMzL0DNzMzMzEwzQAAAAAAAgD1AzczMzMzMPEBmZmZmZiZEQDMzMzMzMzxAmpmZmZmZOUCamZmZmVlCQJqZmZmZmSpAAAAAAADAS0CamZmZmVlDQDMzMzMzszNAZmZmZmZmLUAAAAAAAIAyQGZmZmZmZi1AZmZmZmZmJEBmZmZmZuYwQDMzMzMzMztAzczMzMwMQEBmZmZmZmYuQJqZmZmZGTlAmpmZmZmZSkCamZmZmVlMQGZmZmZmZjJAZmZmZmbmPEBmZmZmZmYrQAAAAAAAACtAMzMzMzOzQ0A=",
          "dtype": "f8"
         },
         "yaxis": "y"
        },
        {
         "hovertemplate": "Month=DEC<br>Year=%{x}<br>Rainfall (mm)=%{y}<extra></extra>",
         "legendgroup": "DEC",
         "line": {
          "color": "rgb(255,237,111)",
          "dash": "solid"
         },
         "marker": {
          "symbol": "circle"
         },
         "mode": "lines",
         "name": "DEC",
         "showlegend": true,
         "type": "scattergl",
         "x": {
          "bdata": "bQduB28HcAdxB3IHcwd0B3UHdgd3B3gHeQd6B3sHfAd9B34HfweAB4EHggeDB4QHhQeGB4cHiAeJB4oHiweMB40HjgePB5AHkQeSB5MHlAeVB5YHlweYB5kHmgebB5wHnQeeB58HoAehB6IHowekB6UHpgenB6gHqQeqB6sHrAetB64HrwewB7EHsgezB7QHtQe2B7cHuAe5B7oHuwe8B70Hvge/B8AHwQfCB8MHxAfFB8YHxwfIB8kHygfLB8wHzQfOB88H0AfRB9IH0wfUB9UH1gfXB9gH2QfaB9sH3AfdB94H3wc=",
          "dtype": "i2"
         },
         "xaxis": "x",
         "y": {
          "bdata": "mpmZmZmZIEBmZmZmZmY4QDMzMzMzszFAzczMzMxMMEAAAAAAAAAlQGZmZmZm5jdAMzMzMzMzKEBmZmZmZmYhQDMzMzMzMz5AmpmZmZmZGUAAAAAAAAAoQDMzMzMzMxdAZmZmZmbmN0AAAAAAAIA2QAAAAAAAACFAzczMzMzMCECamZmZmZkkQGZmZmZmZjBAAAAAAACAM0BmZmZmZmYKQDMzMzMzMzFAAAAAAAAALUCamZmZmZkwQJqZmZmZGTBAzczMzMzMLEDNzMzMzMwkQJqZmZmZmSVAmpmZmZmZOkAzMzMzM7NFQGZmZmZmZiNAAAAAAAAANUDNzMzMzMwvQAAAAAAAADBAZmZmZmZmJ0CamZmZmZkmQAAAAAAAADdAZmZmZmZmNEDNzMzMzMwUQJqZmZmZmfk/ZmZmZmZmMUAzMzMzM7MzQDMzMzMzMzhAzczMzMzMFEAzMzMzMzMvQGZmZmZmZhRAMzMzMzNzQUAAAAAAAAA3QJqZmZmZmSNAmpmZmZmZE0CamZmZmZkfQJqZmZmZmRdAzczMzMzMNUAAAAAAAAAgQGZmZmZmZitAMzMzMzMzI0BmZmZmZmYpQDMzMzMzMyxAZmZmZmZmLUDNzMzMzMwUQJqZmZmZmSBAZmZmZmZmJEAzMzMzM7M8QDMzMzMzMy1AAAAAAAAAKUCamZmZmRk1QJqZmZmZmTFAMzMzMzMzS0AAAAAAAAAoQDMzMzMzMyhAMzMzMzMz+z8AAAAAAAAoQM3MzMzMTDZAZmZmZmZmMUDNzMzMzMwlQJqZmZmZmQlAmpmZmZmZHUAAAAAAAAAwQAAAAAAAgDJAZmZmZmZmLEAzMzMzM7MzQDMzMzMzMyxAZmZmZmZmK0DNzMzMzMw2QAAAAAAAAC5AAAAAAACAOUAAAAAAAAA8QJqZmZmZmTVAMzMzMzMzMUDNzMzMzMwwQGZmZmZmZjxAAAAAAACAMUBmZmZmZmYUQAAAAAAAAC9AmpmZmZkZNEAAAAAAAAAiQAAAAAAAADFAAAAAAADAR0AAAAAAAAAlQGZmZmZmZg5AMzMzMzMzI0AAAAAAAAAYQM3MzMzMzBRAmpmZmZmZMEBmZmZmZmYYQAAAAAAAACdAZmZmZmZmKUAzMzMzM7MwQJqZmZmZmSVAmpmZmZmZJUCamZmZmRk2QAAAAAAAABpAMzMzMzMzI0DNzMzMzMwYQM3MzMzMzCRAAAAAAAAALkA=",
          "dtype": "f8"
         },
         "yaxis": "y"
        },
        {
         "marker": {
          "color": "red",
          "size": 5,
          "symbol": "circle"
         },
         "mode": "markers",
         "name": "Anomalous Months",
         "type": "scatter",
         "x": {
          "bdata": "AAAAAADMnUAAAAAAANydQAAAAAAA9J1AAAAAAAD4nUAAAAAAALyeQAAAAAAAGJ9AAAAAAADMnUAAAAAAANydQAAAAAAA9J1AAAAAAAD4nUAAAAAAALyeQAAAAAAAGJ9AAAAAAADMnUAAAAAAANydQAAAAAAA9J1AAAAAAAD4nUAAAAAAALyeQAAAAAAAGJ9AAAAAAADMnUAAAAAAANydQAAAAAAA9J1AAAAAAAD4nUAAAAAAALyeQAAAAAAAGJ9AAAAAAADMnUAAAAAAANydQAAAAAAA9J1AAAAAAAD4nUAAAAAAALyeQAAAAAAAGJ9AAAAAAADMnUAAAAAAANydQAAAAAAA9J1AAAAAAAD4nUAAAAAAALyeQAAAAAAAGJ9AAAAAAADMnUAAAAAAANydQAAAAAAA9J1AAAAAAAD4nUAAAAAAALyeQAAAAAAAGJ9AAAAAAADMnUAAAAAAANydQAAAAAAA9J1AAAAAAAD4nUAAAAAAALyeQAAAAAAAGJ9AAAAAAADMnUAAAAAAANydQAAAAAAA9J1AAAAAAAD4nUAAAAAAALyeQAAAAAAAGJ9AAAAAAADMnUAAAAAAANydQAAAAAAA9J1AAAAAAAD4nUAAAAAAALyeQAAAAAAAGJ9AAAAAAADMnUAAAAAAANydQAAAAAAA9J1AAAAAAAD4nUAAAAAAALyeQAAAAAAAGJ9AAAAAAADMnUAAAAAAANydQAAAAAAA9J1AAAAAAAD4nUAAAAAAALyeQAAAAAAAGJ9A",
          "dtype": "f8"
         },
         "y": {
          "bdata": "MzMzMzMzMECamZmZmdlGQGZmZmZmZiFAZmZmZmZmKEBmZmZmZmYmQM3MzMzMzC1AAAAAAAAAR0BmZmZmZmYWQJqZmZmZWUNAmpmZmZmZEUDNzMzMzMwqQGZmZmZmJkZAZmZmZmbmQkAzMzMzM/NIQM3MzMzMzDZAzczMzMzMREBmZmZmZqZPQGZmZmZmpkpAZmZmZmZmT0DNzMzMzMw2QJqZmZmZmUVAZmZmZmZmQ0CamZmZmRk9QAAAAAAAAEVAzczMzMxMQEDNzMzMzMxHQAAAAAAAwFJAMzMzMzOzWUAzMzMzMzNFQAAAAAAAoFxAzczMzMxMY0DNzMzMzPxnQJqZmZmZ+WxAMzMzMzOTakDNzMzMzBxiQAAAAAAAQGhAzczMzMwsbEBmZmZmZlZkQDMzMzMz03FAmpmZmZn5ZkCamZmZmQlzQDMzMzMz63FAZmZmZmZmc0AAAAAAALBqQAAAAAAAiHJAZmZmZmZWbkBmZmZmZm5wQDMzMzMzU3JAmpmZmZk5WECamZmZmclmQAAAAAAAkHFAzczMzMxsW0DNzMzMzExlQDMzMzMzk2hAMzMzMzOzNkBmZmZmZqZRQJqZmZmZ2WNAAAAAAAAANEBmZmZmZiZEQM3MzMzMzFlAAAAAAACANkBmZmZmZmZFQDMzMzMzMzxAzczMzMyMREDNzMzMzMwmQAAAAAAAgD1AMzMzMzMzKEAAAAAAAAAoQJqZmZmZmSRAZmZmZmZmMEAzMzMzMzNLQGZmZmZmZjxA",
          "dtype": "f8"
         }
        }
       ],
       "layout": {
        "height": 500,
        "legend": {
         "title": {
          "text": "Legend"
         },
         "tracegroupgap": 0
        },
        "template": {
         "data": {
          "bar": [
           {
            "error_x": {
             "color": "#2a3f5f"
            },
            "error_y": {
             "color": "#2a3f5f"
            },
            "marker": {
             "line": {
              "color": "white",
              "width": 0.5
             },
             "pattern": {
              "fillmode": "overlay",
              "size": 10,
              "solidity": 0.2
             }
            },
            "type": "bar"
           }
          ],
          "barpolar": [
           {
            "marker": {
             "line": {
              "color": "white",
              "width": 0.5
             },
             "pattern": {
              "fillmode": "overlay",
              "size": 10,
              "solidity": 0.2
             }
            },
            "type": "barpolar"
           }
          ],
          "carpet": [
           {
            "aaxis": {
             "endlinecolor": "#2a3f5f",
             "gridcolor": "#C8D4E3",
             "linecolor": "#C8D4E3",
             "minorgridcolor": "#C8D4E3",
             "startlinecolor": "#2a3f5f"
            },
            "baxis": {
             "endlinecolor": "#2a3f5f",
             "gridcolor": "#C8D4E3",
             "linecolor": "#C8D4E3",
             "minorgridcolor": "#C8D4E3",
             "startlinecolor": "#2a3f5f"
            },
            "type": "carpet"
           }
          ],
          "choropleth": [
           {
            "colorbar": {
             "outlinewidth": 0,
             "ticks": ""
            },
            "type": "choropleth"
           }
          ],
          "contour": [
           {
            "colorbar": {
             "outlinewidth": 0,
             "ticks": ""
            },
            "colorscale": [
             [
              0,
              "#0d0887"
             ],
             [
              0.1111111111111111,
              "#46039f"
             ],
             [
              0.2222222222222222,
              "#7201a8"
             ],
             [
              0.3333333333333333,
              "#9c179e"
             ],
             [
              0.4444444444444444,
              "#bd3786"
             ],
             [
              0.5555555555555556,
              "#d8576b"
             ],
             [
              0.6666666666666666,
              "#ed7953"
             ],
             [
              0.7777777777777778,
              "#fb9f3a"
             ],
             [
              0.8888888888888888,
              "#fdca26"
             ],
             [
              1,
              "#f0f921"
             ]
            ],
            "type": "contour"
           }
          ],
          "contourcarpet": [
           {
            "colorbar": {
             "outlinewidth": 0,
             "ticks": ""
            },
            "type": "contourcarpet"
           }
          ],
          "heatmap": [
           {
            "colorbar": {
             "outlinewidth": 0,
             "ticks": ""
            },
            "colorscale": [
             [
              0,
              "#0d0887"
             ],
             [
              0.1111111111111111,
              "#46039f"
             ],
             [
              0.2222222222222222,
              "#7201a8"
             ],
             [
              0.3333333333333333,
              "#9c179e"
             ],
             [
              0.4444444444444444,
              "#bd3786"
             ],
             [
              0.5555555555555556,
              "#d8576b"
             ],
             [
              0.6666666666666666,
              "#ed7953"
             ],
             [
              0.7777777777777778,
              "#fb9f3a"
             ],
             [
              0.8888888888888888,
              "#fdca26"
             ],
             [
              1,
              "#f0f921"
             ]
            ],
            "type": "heatmap"
           }
          ],
          "histogram": [
           {
            "marker": {
             "pattern": {
              "fillmode": "overlay",
              "size": 10,
              "solidity": 0.2
             }
            },
            "type": "histogram"
           }
          ],
          "histogram2d": [
           {
            "colorbar": {
             "outlinewidth": 0,
             "ticks": ""
            },
            "colorscale": [
             [
              0,
              "#0d0887"
             ],
             [
              0.1111111111111111,
              "#46039f"
             ],
             [
              0.2222222222222222,
              "#7201a8"
             ],
             [
              0.3333333333333333,
              "#9c179e"
             ],
             [
              0.4444444444444444,
              "#bd3786"
             ],
             [
              0.5555555555555556,
              "#d8576b"
             ],
             [
              0.6666666666666666,
              "#ed7953"
             ],
             [
              0.7777777777777778,
              "#fb9f3a"
             ],
             [
              0.8888888888888888,
              "#fdca26"
             ],
             [
              1,
              "#f0f921"
             ]
            ],
            "type": "histogram2d"
           }
          ],
          "histogram2dcontour": [
           {
            "colorbar": {
             "outlinewidth": 0,
             "ticks": ""
            },
            "colorscale": [
             [
              0,
              "#0d0887"
             ],
             [
              0.1111111111111111,
              "#46039f"
             ],
             [
              0.2222222222222222,
              "#7201a8"
             ],
             [
              0.3333333333333333,
              "#9c179e"
             ],
             [
              0.4444444444444444,
              "#bd3786"
             ],
             [
              0.5555555555555556,
              "#d8576b"
             ],
             [
              0.6666666666666666,
              "#ed7953"
             ],
             [
              0.7777777777777778,
              "#fb9f3a"
             ],
             [
              0.8888888888888888,
              "#fdca26"
             ],
             [
              1,
              "#f0f921"
             ]
            ],
            "type": "histogram2dcontour"
           }
          ],
          "mesh3d": [
           {
            "colorbar": {
             "outlinewidth": 0,
             "ticks": ""
            },
            "type": "mesh3d"
           }
          ],
          "parcoords": [
           {
            "line": {
             "colorbar": {
              "outlinewidth": 0,
              "ticks": ""
             }
            },
            "type": "parcoords"
           }
          ],
          "pie": [
           {
            "automargin": true,
            "type": "pie"
           }
          ],
          "scatter": [
           {
            "fillpattern": {
             "fillmode": "overlay",
             "size": 10,
             "solidity": 0.2
            },
            "type": "scatter"
           }
          ],
          "scatter3d": [
           {
            "line": {
             "colorbar": {
              "outlinewidth": 0,
              "ticks": ""
             }
            },
            "marker": {
             "colorbar": {
              "outlinewidth": 0,
              "ticks": ""
             }
            },
            "type": "scatter3d"
           }
          ],
          "scattercarpet": [
           {
            "marker": {
             "colorbar": {
              "outlinewidth": 0,
              "ticks": ""
             }
            },
            "type": "scattercarpet"
           }
          ],
          "scattergeo": [
           {
            "marker": {
             "colorbar": {
              "outlinewidth": 0,
              "ticks": ""
             }
            },
            "type": "scattergeo"
           }
          ],
          "scattergl": [
           {
            "marker": {
             "colorbar": {
              "outlinewidth": 0,
              "ticks": ""
             }
            },
            "type": "scattergl"
           }
          ],
          "scattermap": [
           {
            "marker": {
             "colorbar": {
              "outlinewidth": 0,
              "ticks": ""
             }
            },
            "type": "scattermap"
           }
          ],
          "scattermapbox": [
           {
            "marker": {
             "colorbar": {
              "outlinewidth": 0,
              "ticks": ""
             }
            },
            "type": "scattermapbox"
           }
          ],
          "scatterpolar": [
           {
            "marker": {
             "colorbar": {
              "outlinewidth": 0,
              "ticks": ""
             }
            },
            "type": "scatterpolar"
           }
          ],
          "scatterpolargl": [
           {
            "marker": {
             "colorbar": {
              "outlinewidth": 0,
              "ticks": ""
             }
            },
            "type": "scatterpolargl"
           }
          ],
          "scatterternary": [
           {
            "marker": {
             "colorbar": {
              "outlinewidth": 0,
              "ticks": ""
             }
            },
            "type": "scatterternary"
           }
          ],
          "surface": [
           {
            "colorbar": {
             "outlinewidth": 0,
             "ticks": ""
            },
            "colorscale": [
             [
              0,
              "#0d0887"
             ],
             [
              0.1111111111111111,
              "#46039f"
             ],
             [
              0.2222222222222222,
              "#7201a8"
             ],
             [
              0.3333333333333333,
              "#9c179e"
             ],
             [
              0.4444444444444444,
              "#bd3786"
             ],
             [
              0.5555555555555556,
              "#d8576b"
             ],
             [
              0.6666666666666666,
              "#ed7953"
             ],
             [
              0.7777777777777778,
              "#fb9f3a"
             ],
             [
              0.8888888888888888,
              "#fdca26"
             ],
             [
              1,
              "#f0f921"
             ]
            ],
            "type": "surface"
           }
          ],
          "table": [
           {
            "cells": {
             "fill": {
              "color": "#EBF0F8"
             },
             "line": {
              "color": "white"
             }
            },
            "header": {
             "fill": {
              "color": "#C8D4E3"
             },
             "line": {
              "color": "white"
             }
            },
            "type": "table"
           }
          ]
         },
         "layout": {
          "annotationdefaults": {
           "arrowcolor": "#2a3f5f",
           "arrowhead": 0,
           "arrowwidth": 1
          },
          "autotypenumbers": "strict",
          "coloraxis": {
           "colorbar": {
            "outlinewidth": 0,
            "ticks": ""
           }
          },
          "colorscale": {
           "diverging": [
            [
             0,
             "#8e0152"
            ],
            [
             0.1,
             "#c51b7d"
            ],
            [
             0.2,
             "#de77ae"
            ],
            [
             0.3,
             "#f1b6da"
            ],
            [
             0.4,
             "#fde0ef"
            ],
            [
             0.5,
             "#f7f7f7"
            ],
            [
             0.6,
             "#e6f5d0"
            ],
            [
             0.7,
             "#b8e186"
            ],
            [
             0.8,
             "#7fbc41"
            ],
            [
             0.9,
             "#4d9221"
            ],
            [
             1,
             "#276419"
            ]
           ],
           "sequential": [
            [
             0,
             "#0d0887"
            ],
            [
             0.1111111111111111,
             "#46039f"
            ],
            [
             0.2222222222222222,
             "#7201a8"
            ],
            [
             0.3333333333333333,
             "#9c179e"
            ],
            [
             0.4444444444444444,
             "#bd3786"
            ],
            [
             0.5555555555555556,
             "#d8576b"
            ],
            [
             0.6666666666666666,
             "#ed7953"
            ],
            [
             0.7777777777777778,
             "#fb9f3a"
            ],
            [
             0.8888888888888888,
             "#fdca26"
            ],
            [
             1,
             "#f0f921"
            ]
           ],
           "sequentialminus": [
            [
             0,
             "#0d0887"
            ],
            [
             0.1111111111111111,
             "#46039f"
            ],
            [
             0.2222222222222222,
             "#7201a8"
            ],
            [
             0.3333333333333333,
             "#9c179e"
            ],
            [
             0.4444444444444444,
             "#bd3786"
            ],
            [
             0.5555555555555556,
             "#d8576b"
            ],
            [
             0.6666666666666666,
             "#ed7953"
            ],
            [
             0.7777777777777778,
             "#fb9f3a"
            ],
            [
             0.8888888888888888,
             "#fdca26"
            ],
            [
             1,
             "#f0f921"
            ]
           ]
          },
          "colorway": [
           "#636efa",
           "#EF553B",
           "#00cc96",
           "#ab63fa",
           "#FFA15A",
           "#19d3f3",
           "#FF6692",
           "#B6E880",
           "#FF97FF",
           "#FECB52"
          ],
          "font": {
           "color": "#2a3f5f"
          },
          "geo": {
           "bgcolor": "white",
           "lakecolor": "white",
           "landcolor": "white",
           "showlakes": true,
           "showland": true,
           "subunitcolor": "#C8D4E3"
          },
          "hoverlabel": {
           "align": "left"
          },
          "hovermode": "closest",
          "mapbox": {
           "style": "light"
          },
          "paper_bgcolor": "white",
          "plot_bgcolor": "white",
          "polar": {
           "angularaxis": {
            "gridcolor": "#EBF0F8",
            "linecolor": "#EBF0F8",
            "ticks": ""
           },
           "bgcolor": "white",
           "radialaxis": {
            "gridcolor": "#EBF0F8",
            "linecolor": "#EBF0F8",
            "ticks": ""
           }
          },
          "scene": {
           "xaxis": {
            "backgroundcolor": "white",
            "gridcolor": "#DFE8F3",
            "gridwidth": 2,
            "linecolor": "#EBF0F8",
            "showbackground": true,
            "ticks": "",
            "zerolinecolor": "#EBF0F8"
           },
           "yaxis": {
            "backgroundcolor": "white",
            "gridcolor": "#DFE8F3",
            "gridwidth": 2,
            "linecolor": "#EBF0F8",
            "showbackground": true,
            "ticks": "",
            "zerolinecolor": "#EBF0F8"
           },
           "zaxis": {
            "backgroundcolor": "white",
            "gridcolor": "#DFE8F3",
            "gridwidth": 2,
            "linecolor": "#EBF0F8",
            "showbackground": true,
            "ticks": "",
            "zerolinecolor": "#EBF0F8"
           }
          },
          "shapedefaults": {
           "line": {
            "color": "#2a3f5f"
           }
          },
          "ternary": {
           "aaxis": {
            "gridcolor": "#DFE8F3",
            "linecolor": "#A2B1C6",
            "ticks": ""
           },
           "baxis": {
            "gridcolor": "#DFE8F3",
            "linecolor": "#A2B1C6",
            "ticks": ""
           },
           "bgcolor": "white",
           "caxis": {
            "gridcolor": "#DFE8F3",
            "linecolor": "#A2B1C6",
            "ticks": ""
           }
          },
          "title": {
           "x": 0.05
          },
          "xaxis": {
           "automargin": true,
           "gridcolor": "#EBF0F8",
           "linecolor": "#EBF0F8",
           "ticks": "",
           "title": {
            "standoff": 15
           },
           "zerolinecolor": "#EBF0F8",
           "zerolinewidth": 2
          },
          "yaxis": {
           "automargin": true,
           "gridcolor": "#EBF0F8",
           "linecolor": "#EBF0F8",
           "ticks": "",
           "title": {
            "standoff": 15
           },
           "zerolinecolor": "#EBF0F8",
           "zerolinewidth": 2
          }
         }
        },
        "title": {
         "text": "Monthly Rainfall Anomalies in India (1901-2015)"
        },
        "xaxis": {
         "anchor": "y",
         "domain": [
          0,
          1
         ],
         "title": {
          "text": "Year"
         }
        },
        "yaxis": {
         "anchor": "x",
         "domain": [
          0,
          1
         ],
         "title": {
          "text": "Rainfall (mm)"
         }
        }
       }
      }
     },
     "metadata": {},
     "output_type": "display_data"
    }
   ],
   "source": [
    "# preparing data for monthly anomalies\n",
    "monthly_anomalies = []\n",
    "for column in monthly_columns:\n",
    "    for _, row in monthly_anomalies_df.iterrows():\n",
    "        monthly_anomalies.append({'Year': row['YEAR'], 'Month': column, 'Rainfall': row[column]})\n",
    "\n",
    "monthly_anomalies_df_long = pd.DataFrame(monthly_anomalies)\n",
    "\n",
    "fig_monthly_anomalies = px.line(\n",
    "    df,\n",
    "    x='YEAR',\n",
    "    y=monthly_columns,\n",
    "    labels={'YEAR': 'Year', 'value': 'Rainfall (mm)', 'variable': 'Month'},\n",
    "    title='Monthly Rainfall Anomalies in India (1901-2015)',\n",
    "    color_discrete_sequence=px.colors.qualitative.Set3\n",
    ")\n",
    "\n",
    "fig_monthly_anomalies.add_trace(go.Scatter(\n",
    "    x=monthly_anomalies_df_long['Year'],\n",
    "    y=monthly_anomalies_df_long['Rainfall'],\n",
    "    mode='markers',\n",
    "    name='Anomalous Months',\n",
    "    marker=dict(color='red', size=5, symbol='circle')\n",
    "))\n",
    "\n",
    "fig_monthly_anomalies.update_layout(\n",
    "    template='plotly_white',\n",
    "    legend=dict(title=\"Legend\"),\n",
    "    height=500\n",
    ")\n",
    "\n",
    "fig_monthly_anomalies.show()"
   ]
  },
  {
   "cell_type": "code",
   "execution_count": 14,
   "id": "01bd0141",
   "metadata": {},
   "outputs": [
    {
     "data": {
      "application/vnd.plotly.v1+json": {
       "config": {
        "plotlyServerURL": "https://plot.ly"
       },
       "data": [
        {
         "hovertemplate": "Season=%{x}<br>Correlation Coefficient=%{marker.color}<extra></extra>",
         "legendgroup": "",
         "marker": {
          "color": {
           "bdata": "JVMdTAVFwj8ivv8xBLa6P6/z1SdWVtI/",
           "dtype": "f8"
          },
          "coloraxis": "coloraxis",
          "line": {
           "color": "black",
           "width": 1
          },
          "pattern": {
           "shape": ""
          }
         },
         "name": "",
         "orientation": "v",
         "showlegend": false,
         "text": {
          "bdata": "JVMdTAVFwj8ivv8xBLa6P6/z1SdWVtI/",
          "dtype": "f8"
         },
         "textposition": "auto",
         "texttemplate": "%{text:.2f}",
         "type": "bar",
         "x": [
          "Jan-Feb",
          "Mar-May",
          "Oct-Dec"
         ],
         "xaxis": "x",
         "y": {
          "bdata": "JVMdTAVFwj8ivv8xBLa6P6/z1SdWVtI/",
          "dtype": "f8"
         },
         "yaxis": "y"
        }
       ],
       "layout": {
        "annotations": [
         {
          "showarrow": false,
          "text": "No Correlation",
          "x": 0,
          "xanchor": "left",
          "xref": "x domain",
          "y": 0,
          "yanchor": "top",
          "yref": "y"
         }
        ],
        "barmode": "relative",
        "coloraxis": {
         "colorbar": {
          "title": {
           "text": "Correlation Coefficient"
          }
         },
         "colorscale": [
          [
           0,
           "rgb(247,251,255)"
          ],
          [
           0.125,
           "rgb(222,235,247)"
          ],
          [
           0.25,
           "rgb(198,219,239)"
          ],
          [
           0.375,
           "rgb(158,202,225)"
          ],
          [
           0.5,
           "rgb(107,174,214)"
          ],
          [
           0.625,
           "rgb(66,146,198)"
          ],
          [
           0.75,
           "rgb(33,113,181)"
          ],
          [
           0.875,
           "rgb(8,81,156)"
          ],
          [
           1,
           "rgb(8,48,107)"
          ]
         ]
        },
        "height": 500,
        "legend": {
         "tracegroupgap": 0
        },
        "shapes": [
         {
          "line": {
           "color": "red",
           "dash": "dash"
          },
          "type": "line",
          "x0": 0,
          "x1": 1,
          "xref": "x domain",
          "y0": 0,
          "y1": 0,
          "yref": "y"
         }
        ],
        "template": {
         "data": {
          "bar": [
           {
            "error_x": {
             "color": "#2a3f5f"
            },
            "error_y": {
             "color": "#2a3f5f"
            },
            "marker": {
             "line": {
              "color": "white",
              "width": 0.5
             },
             "pattern": {
              "fillmode": "overlay",
              "size": 10,
              "solidity": 0.2
             }
            },
            "type": "bar"
           }
          ],
          "barpolar": [
           {
            "marker": {
             "line": {
              "color": "white",
              "width": 0.5
             },
             "pattern": {
              "fillmode": "overlay",
              "size": 10,
              "solidity": 0.2
             }
            },
            "type": "barpolar"
           }
          ],
          "carpet": [
           {
            "aaxis": {
             "endlinecolor": "#2a3f5f",
             "gridcolor": "#C8D4E3",
             "linecolor": "#C8D4E3",
             "minorgridcolor": "#C8D4E3",
             "startlinecolor": "#2a3f5f"
            },
            "baxis": {
             "endlinecolor": "#2a3f5f",
             "gridcolor": "#C8D4E3",
             "linecolor": "#C8D4E3",
             "minorgridcolor": "#C8D4E3",
             "startlinecolor": "#2a3f5f"
            },
            "type": "carpet"
           }
          ],
          "choropleth": [
           {
            "colorbar": {
             "outlinewidth": 0,
             "ticks": ""
            },
            "type": "choropleth"
           }
          ],
          "contour": [
           {
            "colorbar": {
             "outlinewidth": 0,
             "ticks": ""
            },
            "colorscale": [
             [
              0,
              "#0d0887"
             ],
             [
              0.1111111111111111,
              "#46039f"
             ],
             [
              0.2222222222222222,
              "#7201a8"
             ],
             [
              0.3333333333333333,
              "#9c179e"
             ],
             [
              0.4444444444444444,
              "#bd3786"
             ],
             [
              0.5555555555555556,
              "#d8576b"
             ],
             [
              0.6666666666666666,
              "#ed7953"
             ],
             [
              0.7777777777777778,
              "#fb9f3a"
             ],
             [
              0.8888888888888888,
              "#fdca26"
             ],
             [
              1,
              "#f0f921"
             ]
            ],
            "type": "contour"
           }
          ],
          "contourcarpet": [
           {
            "colorbar": {
             "outlinewidth": 0,
             "ticks": ""
            },
            "type": "contourcarpet"
           }
          ],
          "heatmap": [
           {
            "colorbar": {
             "outlinewidth": 0,
             "ticks": ""
            },
            "colorscale": [
             [
              0,
              "#0d0887"
             ],
             [
              0.1111111111111111,
              "#46039f"
             ],
             [
              0.2222222222222222,
              "#7201a8"
             ],
             [
              0.3333333333333333,
              "#9c179e"
             ],
             [
              0.4444444444444444,
              "#bd3786"
             ],
             [
              0.5555555555555556,
              "#d8576b"
             ],
             [
              0.6666666666666666,
              "#ed7953"
             ],
             [
              0.7777777777777778,
              "#fb9f3a"
             ],
             [
              0.8888888888888888,
              "#fdca26"
             ],
             [
              1,
              "#f0f921"
             ]
            ],
            "type": "heatmap"
           }
          ],
          "histogram": [
           {
            "marker": {
             "pattern": {
              "fillmode": "overlay",
              "size": 10,
              "solidity": 0.2
             }
            },
            "type": "histogram"
           }
          ],
          "histogram2d": [
           {
            "colorbar": {
             "outlinewidth": 0,
             "ticks": ""
            },
            "colorscale": [
             [
              0,
              "#0d0887"
             ],
             [
              0.1111111111111111,
              "#46039f"
             ],
             [
              0.2222222222222222,
              "#7201a8"
             ],
             [
              0.3333333333333333,
              "#9c179e"
             ],
             [
              0.4444444444444444,
              "#bd3786"
             ],
             [
              0.5555555555555556,
              "#d8576b"
             ],
             [
              0.6666666666666666,
              "#ed7953"
             ],
             [
              0.7777777777777778,
              "#fb9f3a"
             ],
             [
              0.8888888888888888,
              "#fdca26"
             ],
             [
              1,
              "#f0f921"
             ]
            ],
            "type": "histogram2d"
           }
          ],
          "histogram2dcontour": [
           {
            "colorbar": {
             "outlinewidth": 0,
             "ticks": ""
            },
            "colorscale": [
             [
              0,
              "#0d0887"
             ],
             [
              0.1111111111111111,
              "#46039f"
             ],
             [
              0.2222222222222222,
              "#7201a8"
             ],
             [
              0.3333333333333333,
              "#9c179e"
             ],
             [
              0.4444444444444444,
              "#bd3786"
             ],
             [
              0.5555555555555556,
              "#d8576b"
             ],
             [
              0.6666666666666666,
              "#ed7953"
             ],
             [
              0.7777777777777778,
              "#fb9f3a"
             ],
             [
              0.8888888888888888,
              "#fdca26"
             ],
             [
              1,
              "#f0f921"
             ]
            ],
            "type": "histogram2dcontour"
           }
          ],
          "mesh3d": [
           {
            "colorbar": {
             "outlinewidth": 0,
             "ticks": ""
            },
            "type": "mesh3d"
           }
          ],
          "parcoords": [
           {
            "line": {
             "colorbar": {
              "outlinewidth": 0,
              "ticks": ""
             }
            },
            "type": "parcoords"
           }
          ],
          "pie": [
           {
            "automargin": true,
            "type": "pie"
           }
          ],
          "scatter": [
           {
            "fillpattern": {
             "fillmode": "overlay",
             "size": 10,
             "solidity": 0.2
            },
            "type": "scatter"
           }
          ],
          "scatter3d": [
           {
            "line": {
             "colorbar": {
              "outlinewidth": 0,
              "ticks": ""
             }
            },
            "marker": {
             "colorbar": {
              "outlinewidth": 0,
              "ticks": ""
             }
            },
            "type": "scatter3d"
           }
          ],
          "scattercarpet": [
           {
            "marker": {
             "colorbar": {
              "outlinewidth": 0,
              "ticks": ""
             }
            },
            "type": "scattercarpet"
           }
          ],
          "scattergeo": [
           {
            "marker": {
             "colorbar": {
              "outlinewidth": 0,
              "ticks": ""
             }
            },
            "type": "scattergeo"
           }
          ],
          "scattergl": [
           {
            "marker": {
             "colorbar": {
              "outlinewidth": 0,
              "ticks": ""
             }
            },
            "type": "scattergl"
           }
          ],
          "scattermap": [
           {
            "marker": {
             "colorbar": {
              "outlinewidth": 0,
              "ticks": ""
             }
            },
            "type": "scattermap"
           }
          ],
          "scattermapbox": [
           {
            "marker": {
             "colorbar": {
              "outlinewidth": 0,
              "ticks": ""
             }
            },
            "type": "scattermapbox"
           }
          ],
          "scatterpolar": [
           {
            "marker": {
             "colorbar": {
              "outlinewidth": 0,
              "ticks": ""
             }
            },
            "type": "scatterpolar"
           }
          ],
          "scatterpolargl": [
           {
            "marker": {
             "colorbar": {
              "outlinewidth": 0,
              "ticks": ""
             }
            },
            "type": "scatterpolargl"
           }
          ],
          "scatterternary": [
           {
            "marker": {
             "colorbar": {
              "outlinewidth": 0,
              "ticks": ""
             }
            },
            "type": "scatterternary"
           }
          ],
          "surface": [
           {
            "colorbar": {
             "outlinewidth": 0,
             "ticks": ""
            },
            "colorscale": [
             [
              0,
              "#0d0887"
             ],
             [
              0.1111111111111111,
              "#46039f"
             ],
             [
              0.2222222222222222,
              "#7201a8"
             ],
             [
              0.3333333333333333,
              "#9c179e"
             ],
             [
              0.4444444444444444,
              "#bd3786"
             ],
             [
              0.5555555555555556,
              "#d8576b"
             ],
             [
              0.6666666666666666,
              "#ed7953"
             ],
             [
              0.7777777777777778,
              "#fb9f3a"
             ],
             [
              0.8888888888888888,
              "#fdca26"
             ],
             [
              1,
              "#f0f921"
             ]
            ],
            "type": "surface"
           }
          ],
          "table": [
           {
            "cells": {
             "fill": {
              "color": "#EBF0F8"
             },
             "line": {
              "color": "white"
             }
            },
            "header": {
             "fill": {
              "color": "#C8D4E3"
             },
             "line": {
              "color": "white"
             }
            },
            "type": "table"
           }
          ]
         },
         "layout": {
          "annotationdefaults": {
           "arrowcolor": "#2a3f5f",
           "arrowhead": 0,
           "arrowwidth": 1
          },
          "autotypenumbers": "strict",
          "coloraxis": {
           "colorbar": {
            "outlinewidth": 0,
            "ticks": ""
           }
          },
          "colorscale": {
           "diverging": [
            [
             0,
             "#8e0152"
            ],
            [
             0.1,
             "#c51b7d"
            ],
            [
             0.2,
             "#de77ae"
            ],
            [
             0.3,
             "#f1b6da"
            ],
            [
             0.4,
             "#fde0ef"
            ],
            [
             0.5,
             "#f7f7f7"
            ],
            [
             0.6,
             "#e6f5d0"
            ],
            [
             0.7,
             "#b8e186"
            ],
            [
             0.8,
             "#7fbc41"
            ],
            [
             0.9,
             "#4d9221"
            ],
            [
             1,
             "#276419"
            ]
           ],
           "sequential": [
            [
             0,
             "#0d0887"
            ],
            [
             0.1111111111111111,
             "#46039f"
            ],
            [
             0.2222222222222222,
             "#7201a8"
            ],
            [
             0.3333333333333333,
             "#9c179e"
            ],
            [
             0.4444444444444444,
             "#bd3786"
            ],
            [
             0.5555555555555556,
             "#d8576b"
            ],
            [
             0.6666666666666666,
             "#ed7953"
            ],
            [
             0.7777777777777778,
             "#fb9f3a"
            ],
            [
             0.8888888888888888,
             "#fdca26"
            ],
            [
             1,
             "#f0f921"
            ]
           ],
           "sequentialminus": [
            [
             0,
             "#0d0887"
            ],
            [
             0.1111111111111111,
             "#46039f"
            ],
            [
             0.2222222222222222,
             "#7201a8"
            ],
            [
             0.3333333333333333,
             "#9c179e"
            ],
            [
             0.4444444444444444,
             "#bd3786"
            ],
            [
             0.5555555555555556,
             "#d8576b"
            ],
            [
             0.6666666666666666,
             "#ed7953"
            ],
            [
             0.7777777777777778,
             "#fb9f3a"
            ],
            [
             0.8888888888888888,
             "#fdca26"
            ],
            [
             1,
             "#f0f921"
            ]
           ]
          },
          "colorway": [
           "#636efa",
           "#EF553B",
           "#00cc96",
           "#ab63fa",
           "#FFA15A",
           "#19d3f3",
           "#FF6692",
           "#B6E880",
           "#FF97FF",
           "#FECB52"
          ],
          "font": {
           "color": "#2a3f5f"
          },
          "geo": {
           "bgcolor": "white",
           "lakecolor": "white",
           "landcolor": "white",
           "showlakes": true,
           "showland": true,
           "subunitcolor": "#C8D4E3"
          },
          "hoverlabel": {
           "align": "left"
          },
          "hovermode": "closest",
          "mapbox": {
           "style": "light"
          },
          "paper_bgcolor": "white",
          "plot_bgcolor": "white",
          "polar": {
           "angularaxis": {
            "gridcolor": "#EBF0F8",
            "linecolor": "#EBF0F8",
            "ticks": ""
           },
           "bgcolor": "white",
           "radialaxis": {
            "gridcolor": "#EBF0F8",
            "linecolor": "#EBF0F8",
            "ticks": ""
           }
          },
          "scene": {
           "xaxis": {
            "backgroundcolor": "white",
            "gridcolor": "#DFE8F3",
            "gridwidth": 2,
            "linecolor": "#EBF0F8",
            "showbackground": true,
            "ticks": "",
            "zerolinecolor": "#EBF0F8"
           },
           "yaxis": {
            "backgroundcolor": "white",
            "gridcolor": "#DFE8F3",
            "gridwidth": 2,
            "linecolor": "#EBF0F8",
            "showbackground": true,
            "ticks": "",
            "zerolinecolor": "#EBF0F8"
           },
           "zaxis": {
            "backgroundcolor": "white",
            "gridcolor": "#DFE8F3",
            "gridwidth": 2,
            "linecolor": "#EBF0F8",
            "showbackground": true,
            "ticks": "",
            "zerolinecolor": "#EBF0F8"
           }
          },
          "shapedefaults": {
           "line": {
            "color": "#2a3f5f"
           }
          },
          "ternary": {
           "aaxis": {
            "gridcolor": "#DFE8F3",
            "linecolor": "#A2B1C6",
            "ticks": ""
           },
           "baxis": {
            "gridcolor": "#DFE8F3",
            "linecolor": "#A2B1C6",
            "ticks": ""
           },
           "bgcolor": "white",
           "caxis": {
            "gridcolor": "#DFE8F3",
            "linecolor": "#A2B1C6",
            "ticks": ""
           }
          },
          "title": {
           "x": 0.05
          },
          "xaxis": {
           "automargin": true,
           "gridcolor": "#EBF0F8",
           "linecolor": "#EBF0F8",
           "ticks": "",
           "title": {
            "standoff": 15
           },
           "zerolinecolor": "#EBF0F8",
           "zerolinewidth": 2
          },
          "yaxis": {
           "automargin": true,
           "gridcolor": "#EBF0F8",
           "linecolor": "#EBF0F8",
           "ticks": "",
           "title": {
            "standoff": 15
           },
           "zerolinecolor": "#EBF0F8",
           "zerolinewidth": 2
          }
         }
        },
        "title": {
         "text": "Correlation Between Monsoon (Jun-Sep) Rainfall and Other Seasons"
        },
        "xaxis": {
         "anchor": "y",
         "domain": [
          0,
          1
         ],
         "title": {
          "text": "Season"
         }
        },
        "yaxis": {
         "anchor": "x",
         "domain": [
          0,
          1
         ],
         "title": {
          "text": "Correlation Coefficient"
         }
        }
       }
      }
     },
     "metadata": {},
     "output_type": "display_data"
    }
   ],
   "source": [
    "# correlation analysis between monsoon (Jun-Sep) rainfall and other seasons\n",
    "seasonal_columns = ['Jan-Feb', 'Mar-May', 'Jun-Sep', 'Oct-Dec']\n",
    "monsoon_column = 'Jun-Sep'\n",
    "relationships = {}\n",
    "\n",
    "for season in seasonal_columns:\n",
    "    if season != monsoon_column:\n",
    "        corr, _ = pearsonr(df[monsoon_column], df[season])\n",
    "        relationships[season] = corr\n",
    "\n",
    "correlation_data = pd.DataFrame({\n",
    "    'Season': list(relationships.keys()),\n",
    "    'Correlation Coefficient': list(relationships.values())\n",
    "})\n",
    "\n",
    "fig = px.bar(\n",
    "    correlation_data,\n",
    "    x='Season',\n",
    "    y='Correlation Coefficient',\n",
    "    title='Correlation Between Monsoon (Jun-Sep) Rainfall and Other Seasons',\n",
    "    labels={'Season': 'Season', 'Correlation Coefficient': 'Correlation Coefficient'},\n",
    "    text='Correlation Coefficient',\n",
    "    color='Correlation Coefficient',\n",
    "    color_continuous_scale='Blues'\n",
    ")\n",
    "\n",
    "fig.add_hline(\n",
    "    y=0,\n",
    "    line_dash=\"dash\",\n",
    "    line_color=\"red\",\n",
    "    annotation_text=\"No Correlation\",\n",
    "    annotation_position=\"bottom left\"\n",
    ")\n",
    "\n",
    "fig.update_traces(marker_line_color='black', marker_line_width=1, texttemplate='%{text:.2f}')\n",
    "fig.update_layout(\n",
    "    template='plotly_white',\n",
    "    height=500\n",
    ")\n",
    "\n",
    "fig.show()"
   ]
  },
  {
   "cell_type": "code",
   "execution_count": 15,
   "id": "0d292b6a",
   "metadata": {},
   "outputs": [
    {
     "name": "stderr",
     "output_type": "stream",
     "text": [
      "c:\\Users\\Mohit Saini\\AppData\\Local\\Programs\\Python\\Python38\\lib\\site-packages\\sklearn\\cluster\\_kmeans.py:870: FutureWarning:\n",
      "\n",
      "The default value of `n_init` will change from 10 to 'auto' in 1.4. Set the value of `n_init` explicitly to suppress the warning\n",
      "\n"
     ]
    },
    {
     "data": {
      "application/vnd.plotly.v1+json": {
       "config": {
        "plotlyServerURL": "https://plot.ly"
       },
       "data": [
        {
         "customdata": [
          [
           0,
           "Dry"
          ],
          [
           0,
           "Dry"
          ],
          [
           0,
           "Dry"
          ],
          [
           0,
           "Dry"
          ],
          [
           0,
           "Dry"
          ],
          [
           0,
           "Dry"
          ],
          [
           0,
           "Dry"
          ],
          [
           0,
           "Dry"
          ],
          [
           0,
           "Dry"
          ],
          [
           0,
           "Dry"
          ],
          [
           0,
           "Dry"
          ],
          [
           0,
           "Dry"
          ],
          [
           0,
           "Dry"
          ],
          [
           0,
           "Dry"
          ],
          [
           0,
           "Dry"
          ],
          [
           0,
           "Dry"
          ],
          [
           0,
           "Dry"
          ],
          [
           0,
           "Dry"
          ],
          [
           0,
           "Dry"
          ],
          [
           0,
           "Dry"
          ],
          [
           0,
           "Dry"
          ],
          [
           0,
           "Dry"
          ],
          [
           0,
           "Dry"
          ],
          [
           0,
           "Dry"
          ],
          [
           0,
           "Dry"
          ],
          [
           0,
           "Dry"
          ],
          [
           0,
           "Dry"
          ],
          [
           0,
           "Dry"
          ],
          [
           0,
           "Dry"
          ],
          [
           0,
           "Dry"
          ]
         ],
         "hovertemplate": "Rainfall Category=%{customdata[1]}<br>Year=%{x}<br>Annual Rainfall (mm)=%{y}<br>Rainfall_Cluster=%{customdata[0]}<extra></extra>",
         "legendgroup": "Dry",
         "marker": {
          "color": "rgb(102,194,165)",
          "symbol": "circle"
         },
         "mode": "markers",
         "name": "Dry",
         "orientation": "v",
         "showlegend": true,
         "type": "scatter",
         "x": {
          "bdata": "bQduB3AHcQdzB3cHeAd5B3sHfgeAB5UHnwegB60HrgewB7QHtge7B74HwgfDB9AH0QfSB9QH2QfeB98H",
          "dtype": "i2"
         },
         "xaxis": "x",
         "y": {
          "bdata": "MzMzMzMhkEDNzMzMzBiQQGZmZmZm3o9AZmZmZmZ6jkDNzMzMzD6QQAAAAAAAXpBAZmZmZmbYkECamZmZmbOQQM3MzMzMxJFAzczMzMwIkECamZmZmV+QQJqZmZmZ45BAMzMzMzOVkEDNzMzMzFCRQDMzMzMzU41AAAAAAACgkEDNzMzMzHiQQAAAAAAApI1AzczMzMxOkEAzMzMzM/uPQDMzMzMz+5BAZmZmZmaakUCamZmZmduQQJqZmZmZaZBAMzMzMzPtkEBmZmZmZsaMQDMzMzMzvZBAZmZmZmb6jUDNzMzMzCaQQM3MzMzMFJFA",
          "dtype": "f8"
         },
         "yaxis": "y"
        },
        {
         "customdata": [
          [
           1,
           "Normal"
          ],
          [
           1,
           "Normal"
          ],
          [
           1,
           "Normal"
          ],
          [
           1,
           "Normal"
          ],
          [
           1,
           "Normal"
          ],
          [
           1,
           "Normal"
          ],
          [
           1,
           "Normal"
          ],
          [
           1,
           "Normal"
          ],
          [
           1,
           "Normal"
          ],
          [
           1,
           "Normal"
          ],
          [
           1,
           "Normal"
          ],
          [
           1,
           "Normal"
          ],
          [
           1,
           "Normal"
          ],
          [
           1,
           "Normal"
          ],
          [
           1,
           "Normal"
          ],
          [
           1,
           "Normal"
          ],
          [
           1,
           "Normal"
          ],
          [
           1,
           "Normal"
          ],
          [
           1,
           "Normal"
          ],
          [
           1,
           "Normal"
          ],
          [
           1,
           "Normal"
          ],
          [
           1,
           "Normal"
          ],
          [
           1,
           "Normal"
          ],
          [
           1,
           "Normal"
          ],
          [
           1,
           "Normal"
          ],
          [
           1,
           "Normal"
          ],
          [
           1,
           "Normal"
          ],
          [
           1,
           "Normal"
          ],
          [
           1,
           "Normal"
          ],
          [
           1,
           "Normal"
          ],
          [
           1,
           "Normal"
          ],
          [
           1,
           "Normal"
          ],
          [
           1,
           "Normal"
          ],
          [
           1,
           "Normal"
          ],
          [
           1,
           "Normal"
          ],
          [
           1,
           "Normal"
          ],
          [
           1,
           "Normal"
          ],
          [
           1,
           "Normal"
          ],
          [
           1,
           "Normal"
          ],
          [
           1,
           "Normal"
          ],
          [
           1,
           "Normal"
          ],
          [
           1,
           "Normal"
          ],
          [
           1,
           "Normal"
          ],
          [
           1,
           "Normal"
          ],
          [
           1,
           "Normal"
          ],
          [
           1,
           "Normal"
          ],
          [
           1,
           "Normal"
          ],
          [
           1,
           "Normal"
          ],
          [
           1,
           "Normal"
          ],
          [
           1,
           "Normal"
          ],
          [
           1,
           "Normal"
          ],
          [
           1,
           "Normal"
          ]
         ],
         "hovertemplate": "Rainfall Category=%{customdata[1]}<br>Year=%{x}<br>Annual Rainfall (mm)=%{y}<br>Rainfall_Cluster=%{customdata[0]}<extra></extra>",
         "legendgroup": "Normal",
         "marker": {
          "color": "rgb(252,141,98)",
          "symbol": "circle"
         },
         "mode": "markers",
         "name": "Normal",
         "orientation": "v",
         "showlegend": true,
         "type": "scatter",
         "x": {
          "bdata": "bwdyB3QHdQd2B3oHgQeCB4MHhQeGB4wHjgePB5MHmQebB54HoQeiB6UHqAeqB6sHrAevB7EHsgezB7UHtwe4B7oHvAe9B8AHwQfFB8cHyAfJB8wHzQfPB9MH1gfXB9gH2gfbB9wH3Qc=",
          "dtype": "i2"
         },
         "xaxis": "x",
         "y": {
          "bdata": "AAAAAACakkBmZmZmZuCRQGZmZmZmIpFAZmZmZmYYkkAzMzMzM8GSQDMzMzMz+ZJAzczMzMxgk0CamZmZme+SQDMzMzMzYZJAmpmZmZnpkkAzMzMzM3uTQJqZmZmZC5NAZmZmZmYuk0CamZmZmd2RQJqZmZmZl5FAMzMzMzMnk0BmZmZmZlKTQAAAAAAAUpJAmpmZmZkbk0AzMzMzM3GSQM3MzMzMaJJAAAAAAAD0kUCamZmZmbGSQM3MzMzM6JJAZmZmZmZMk0AzMzMzM/GRQM3MzMzM7pFAAAAAAAB8k0AAAAAAAAiTQAAAAAAA+JJAzczMzMwolEAzMzMzM5ORQDMzMzMzXZNAAAAAAACWkkBmZmZmZk6SQJqZmZmZD5JAAAAAAADQkUCamZmZmYmRQJqZmZmZH5JAMzMzMzOFkUCamZmZmceSQDMzMzMzd5JAmpmZmZlNkkAAAAAAALCRQAAAAAAAWpJAmpmZmZm9kkBmZmZmZv6SQGZmZmZmsJFAAAAAAADCkkBmZmZmZliRQAAAAAAAxpBAzczMzMwAk0A=",
          "dtype": "f8"
         },
         "yaxis": "y"
        },
        {
         "customdata": [
          [
           2,
           "Wet"
          ],
          [
           2,
           "Wet"
          ],
          [
           2,
           "Wet"
          ],
          [
           2,
           "Wet"
          ],
          [
           2,
           "Wet"
          ],
          [
           2,
           "Wet"
          ],
          [
           2,
           "Wet"
          ],
          [
           2,
           "Wet"
          ],
          [
           2,
           "Wet"
          ],
          [
           2,
           "Wet"
          ],
          [
           2,
           "Wet"
          ],
          [
           2,
           "Wet"
          ],
          [
           2,
           "Wet"
          ],
          [
           2,
           "Wet"
          ],
          [
           2,
           "Wet"
          ],
          [
           2,
           "Wet"
          ],
          [
           2,
           "Wet"
          ],
          [
           2,
           "Wet"
          ],
          [
           2,
           "Wet"
          ],
          [
           2,
           "Wet"
          ],
          [
           2,
           "Wet"
          ],
          [
           2,
           "Wet"
          ],
          [
           2,
           "Wet"
          ],
          [
           2,
           "Wet"
          ],
          [
           2,
           "Wet"
          ],
          [
           2,
           "Wet"
          ],
          [
           2,
           "Wet"
          ],
          [
           2,
           "Wet"
          ],
          [
           2,
           "Wet"
          ],
          [
           2,
           "Wet"
          ],
          [
           2,
           "Wet"
          ],
          [
           2,
           "Wet"
          ],
          [
           2,
           "Wet"
          ]
         ],
         "hovertemplate": "Rainfall Category=%{customdata[1]}<br>Year=%{x}<br>Annual Rainfall (mm)=%{y}<br>Rainfall_Cluster=%{customdata[0]}<extra></extra>",
         "legendgroup": "Wet",
         "marker": {
          "color": "rgb(141,160,203)",
          "symbol": "circle"
         },
         "mode": "markers",
         "name": "Wet",
         "orientation": "v",
         "showlegend": true,
         "type": "scatter",
         "x": {
          "bdata": "fAd9B38HhAeHB4gHiQeKB4sHjQeQB5EHkgeUB5YHlweYB5oHnAedB6MHpAemB6cHqQe5B78HxAfGB8oHywfOB9UH",
          "dtype": "i2"
         },
         "xaxis": "x",
         "y": {
          "bdata": "ZmZmZmbklEAzMzMzMyGXQJqZmZmZc5RAMzMzMzPRk0BmZmZmZrqTQJqZmZmZCZNAAAAAAADikkCamZmZmeWSQGZmZmZmipRAAAAAAADGlUDNzMzMzPaUQGZmZmZmCJNAzczMzMxqlEBmZmZmZvqSQM3MzMzMMpRAZmZmZmYIlEBmZmZmZpyUQGZmZmZm0pRAmpmZmZn3lECamZmZmeGTQDMzMzMzSZRAzczMzMyolUAAAAAAAMyUQGZmZmZmmJVAAAAAAADslUCamZmZmdmTQAAAAAAAzpRAAAAAAAAclUBmZmZmZuKVQGZmZmZmPpRAZmZmZmZuk0AAAAAAAG6TQAAAAAAAQpNA",
          "dtype": "f8"
         },
         "yaxis": "y"
        }
       ],
       "layout": {
        "height": 500,
        "legend": {
         "title": {
          "text": "Rainfall Category"
         },
         "tracegroupgap": 0
        },
        "template": {
         "data": {
          "bar": [
           {
            "error_x": {
             "color": "#2a3f5f"
            },
            "error_y": {
             "color": "#2a3f5f"
            },
            "marker": {
             "line": {
              "color": "white",
              "width": 0.5
             },
             "pattern": {
              "fillmode": "overlay",
              "size": 10,
              "solidity": 0.2
             }
            },
            "type": "bar"
           }
          ],
          "barpolar": [
           {
            "marker": {
             "line": {
              "color": "white",
              "width": 0.5
             },
             "pattern": {
              "fillmode": "overlay",
              "size": 10,
              "solidity": 0.2
             }
            },
            "type": "barpolar"
           }
          ],
          "carpet": [
           {
            "aaxis": {
             "endlinecolor": "#2a3f5f",
             "gridcolor": "#C8D4E3",
             "linecolor": "#C8D4E3",
             "minorgridcolor": "#C8D4E3",
             "startlinecolor": "#2a3f5f"
            },
            "baxis": {
             "endlinecolor": "#2a3f5f",
             "gridcolor": "#C8D4E3",
             "linecolor": "#C8D4E3",
             "minorgridcolor": "#C8D4E3",
             "startlinecolor": "#2a3f5f"
            },
            "type": "carpet"
           }
          ],
          "choropleth": [
           {
            "colorbar": {
             "outlinewidth": 0,
             "ticks": ""
            },
            "type": "choropleth"
           }
          ],
          "contour": [
           {
            "colorbar": {
             "outlinewidth": 0,
             "ticks": ""
            },
            "colorscale": [
             [
              0,
              "#0d0887"
             ],
             [
              0.1111111111111111,
              "#46039f"
             ],
             [
              0.2222222222222222,
              "#7201a8"
             ],
             [
              0.3333333333333333,
              "#9c179e"
             ],
             [
              0.4444444444444444,
              "#bd3786"
             ],
             [
              0.5555555555555556,
              "#d8576b"
             ],
             [
              0.6666666666666666,
              "#ed7953"
             ],
             [
              0.7777777777777778,
              "#fb9f3a"
             ],
             [
              0.8888888888888888,
              "#fdca26"
             ],
             [
              1,
              "#f0f921"
             ]
            ],
            "type": "contour"
           }
          ],
          "contourcarpet": [
           {
            "colorbar": {
             "outlinewidth": 0,
             "ticks": ""
            },
            "type": "contourcarpet"
           }
          ],
          "heatmap": [
           {
            "colorbar": {
             "outlinewidth": 0,
             "ticks": ""
            },
            "colorscale": [
             [
              0,
              "#0d0887"
             ],
             [
              0.1111111111111111,
              "#46039f"
             ],
             [
              0.2222222222222222,
              "#7201a8"
             ],
             [
              0.3333333333333333,
              "#9c179e"
             ],
             [
              0.4444444444444444,
              "#bd3786"
             ],
             [
              0.5555555555555556,
              "#d8576b"
             ],
             [
              0.6666666666666666,
              "#ed7953"
             ],
             [
              0.7777777777777778,
              "#fb9f3a"
             ],
             [
              0.8888888888888888,
              "#fdca26"
             ],
             [
              1,
              "#f0f921"
             ]
            ],
            "type": "heatmap"
           }
          ],
          "histogram": [
           {
            "marker": {
             "pattern": {
              "fillmode": "overlay",
              "size": 10,
              "solidity": 0.2
             }
            },
            "type": "histogram"
           }
          ],
          "histogram2d": [
           {
            "colorbar": {
             "outlinewidth": 0,
             "ticks": ""
            },
            "colorscale": [
             [
              0,
              "#0d0887"
             ],
             [
              0.1111111111111111,
              "#46039f"
             ],
             [
              0.2222222222222222,
              "#7201a8"
             ],
             [
              0.3333333333333333,
              "#9c179e"
             ],
             [
              0.4444444444444444,
              "#bd3786"
             ],
             [
              0.5555555555555556,
              "#d8576b"
             ],
             [
              0.6666666666666666,
              "#ed7953"
             ],
             [
              0.7777777777777778,
              "#fb9f3a"
             ],
             [
              0.8888888888888888,
              "#fdca26"
             ],
             [
              1,
              "#f0f921"
             ]
            ],
            "type": "histogram2d"
           }
          ],
          "histogram2dcontour": [
           {
            "colorbar": {
             "outlinewidth": 0,
             "ticks": ""
            },
            "colorscale": [
             [
              0,
              "#0d0887"
             ],
             [
              0.1111111111111111,
              "#46039f"
             ],
             [
              0.2222222222222222,
              "#7201a8"
             ],
             [
              0.3333333333333333,
              "#9c179e"
             ],
             [
              0.4444444444444444,
              "#bd3786"
             ],
             [
              0.5555555555555556,
              "#d8576b"
             ],
             [
              0.6666666666666666,
              "#ed7953"
             ],
             [
              0.7777777777777778,
              "#fb9f3a"
             ],
             [
              0.8888888888888888,
              "#fdca26"
             ],
             [
              1,
              "#f0f921"
             ]
            ],
            "type": "histogram2dcontour"
           }
          ],
          "mesh3d": [
           {
            "colorbar": {
             "outlinewidth": 0,
             "ticks": ""
            },
            "type": "mesh3d"
           }
          ],
          "parcoords": [
           {
            "line": {
             "colorbar": {
              "outlinewidth": 0,
              "ticks": ""
             }
            },
            "type": "parcoords"
           }
          ],
          "pie": [
           {
            "automargin": true,
            "type": "pie"
           }
          ],
          "scatter": [
           {
            "fillpattern": {
             "fillmode": "overlay",
             "size": 10,
             "solidity": 0.2
            },
            "type": "scatter"
           }
          ],
          "scatter3d": [
           {
            "line": {
             "colorbar": {
              "outlinewidth": 0,
              "ticks": ""
             }
            },
            "marker": {
             "colorbar": {
              "outlinewidth": 0,
              "ticks": ""
             }
            },
            "type": "scatter3d"
           }
          ],
          "scattercarpet": [
           {
            "marker": {
             "colorbar": {
              "outlinewidth": 0,
              "ticks": ""
             }
            },
            "type": "scattercarpet"
           }
          ],
          "scattergeo": [
           {
            "marker": {
             "colorbar": {
              "outlinewidth": 0,
              "ticks": ""
             }
            },
            "type": "scattergeo"
           }
          ],
          "scattergl": [
           {
            "marker": {
             "colorbar": {
              "outlinewidth": 0,
              "ticks": ""
             }
            },
            "type": "scattergl"
           }
          ],
          "scattermap": [
           {
            "marker": {
             "colorbar": {
              "outlinewidth": 0,
              "ticks": ""
             }
            },
            "type": "scattermap"
           }
          ],
          "scattermapbox": [
           {
            "marker": {
             "colorbar": {
              "outlinewidth": 0,
              "ticks": ""
             }
            },
            "type": "scattermapbox"
           }
          ],
          "scatterpolar": [
           {
            "marker": {
             "colorbar": {
              "outlinewidth": 0,
              "ticks": ""
             }
            },
            "type": "scatterpolar"
           }
          ],
          "scatterpolargl": [
           {
            "marker": {
             "colorbar": {
              "outlinewidth": 0,
              "ticks": ""
             }
            },
            "type": "scatterpolargl"
           }
          ],
          "scatterternary": [
           {
            "marker": {
             "colorbar": {
              "outlinewidth": 0,
              "ticks": ""
             }
            },
            "type": "scatterternary"
           }
          ],
          "surface": [
           {
            "colorbar": {
             "outlinewidth": 0,
             "ticks": ""
            },
            "colorscale": [
             [
              0,
              "#0d0887"
             ],
             [
              0.1111111111111111,
              "#46039f"
             ],
             [
              0.2222222222222222,
              "#7201a8"
             ],
             [
              0.3333333333333333,
              "#9c179e"
             ],
             [
              0.4444444444444444,
              "#bd3786"
             ],
             [
              0.5555555555555556,
              "#d8576b"
             ],
             [
              0.6666666666666666,
              "#ed7953"
             ],
             [
              0.7777777777777778,
              "#fb9f3a"
             ],
             [
              0.8888888888888888,
              "#fdca26"
             ],
             [
              1,
              "#f0f921"
             ]
            ],
            "type": "surface"
           }
          ],
          "table": [
           {
            "cells": {
             "fill": {
              "color": "#EBF0F8"
             },
             "line": {
              "color": "white"
             }
            },
            "header": {
             "fill": {
              "color": "#C8D4E3"
             },
             "line": {
              "color": "white"
             }
            },
            "type": "table"
           }
          ]
         },
         "layout": {
          "annotationdefaults": {
           "arrowcolor": "#2a3f5f",
           "arrowhead": 0,
           "arrowwidth": 1
          },
          "autotypenumbers": "strict",
          "coloraxis": {
           "colorbar": {
            "outlinewidth": 0,
            "ticks": ""
           }
          },
          "colorscale": {
           "diverging": [
            [
             0,
             "#8e0152"
            ],
            [
             0.1,
             "#c51b7d"
            ],
            [
             0.2,
             "#de77ae"
            ],
            [
             0.3,
             "#f1b6da"
            ],
            [
             0.4,
             "#fde0ef"
            ],
            [
             0.5,
             "#f7f7f7"
            ],
            [
             0.6,
             "#e6f5d0"
            ],
            [
             0.7,
             "#b8e186"
            ],
            [
             0.8,
             "#7fbc41"
            ],
            [
             0.9,
             "#4d9221"
            ],
            [
             1,
             "#276419"
            ]
           ],
           "sequential": [
            [
             0,
             "#0d0887"
            ],
            [
             0.1111111111111111,
             "#46039f"
            ],
            [
             0.2222222222222222,
             "#7201a8"
            ],
            [
             0.3333333333333333,
             "#9c179e"
            ],
            [
             0.4444444444444444,
             "#bd3786"
            ],
            [
             0.5555555555555556,
             "#d8576b"
            ],
            [
             0.6666666666666666,
             "#ed7953"
            ],
            [
             0.7777777777777778,
             "#fb9f3a"
            ],
            [
             0.8888888888888888,
             "#fdca26"
            ],
            [
             1,
             "#f0f921"
            ]
           ],
           "sequentialminus": [
            [
             0,
             "#0d0887"
            ],
            [
             0.1111111111111111,
             "#46039f"
            ],
            [
             0.2222222222222222,
             "#7201a8"
            ],
            [
             0.3333333333333333,
             "#9c179e"
            ],
            [
             0.4444444444444444,
             "#bd3786"
            ],
            [
             0.5555555555555556,
             "#d8576b"
            ],
            [
             0.6666666666666666,
             "#ed7953"
            ],
            [
             0.7777777777777778,
             "#fb9f3a"
            ],
            [
             0.8888888888888888,
             "#fdca26"
            ],
            [
             1,
             "#f0f921"
            ]
           ]
          },
          "colorway": [
           "#636efa",
           "#EF553B",
           "#00cc96",
           "#ab63fa",
           "#FFA15A",
           "#19d3f3",
           "#FF6692",
           "#B6E880",
           "#FF97FF",
           "#FECB52"
          ],
          "font": {
           "color": "#2a3f5f"
          },
          "geo": {
           "bgcolor": "white",
           "lakecolor": "white",
           "landcolor": "white",
           "showlakes": true,
           "showland": true,
           "subunitcolor": "#C8D4E3"
          },
          "hoverlabel": {
           "align": "left"
          },
          "hovermode": "closest",
          "mapbox": {
           "style": "light"
          },
          "paper_bgcolor": "white",
          "plot_bgcolor": "white",
          "polar": {
           "angularaxis": {
            "gridcolor": "#EBF0F8",
            "linecolor": "#EBF0F8",
            "ticks": ""
           },
           "bgcolor": "white",
           "radialaxis": {
            "gridcolor": "#EBF0F8",
            "linecolor": "#EBF0F8",
            "ticks": ""
           }
          },
          "scene": {
           "xaxis": {
            "backgroundcolor": "white",
            "gridcolor": "#DFE8F3",
            "gridwidth": 2,
            "linecolor": "#EBF0F8",
            "showbackground": true,
            "ticks": "",
            "zerolinecolor": "#EBF0F8"
           },
           "yaxis": {
            "backgroundcolor": "white",
            "gridcolor": "#DFE8F3",
            "gridwidth": 2,
            "linecolor": "#EBF0F8",
            "showbackground": true,
            "ticks": "",
            "zerolinecolor": "#EBF0F8"
           },
           "zaxis": {
            "backgroundcolor": "white",
            "gridcolor": "#DFE8F3",
            "gridwidth": 2,
            "linecolor": "#EBF0F8",
            "showbackground": true,
            "ticks": "",
            "zerolinecolor": "#EBF0F8"
           }
          },
          "shapedefaults": {
           "line": {
            "color": "#2a3f5f"
           }
          },
          "ternary": {
           "aaxis": {
            "gridcolor": "#DFE8F3",
            "linecolor": "#A2B1C6",
            "ticks": ""
           },
           "baxis": {
            "gridcolor": "#DFE8F3",
            "linecolor": "#A2B1C6",
            "ticks": ""
           },
           "bgcolor": "white",
           "caxis": {
            "gridcolor": "#DFE8F3",
            "linecolor": "#A2B1C6",
            "ticks": ""
           }
          },
          "title": {
           "x": 0.05
          },
          "xaxis": {
           "automargin": true,
           "gridcolor": "#EBF0F8",
           "linecolor": "#EBF0F8",
           "ticks": "",
           "title": {
            "standoff": 15
           },
           "zerolinecolor": "#EBF0F8",
           "zerolinewidth": 2
          },
          "yaxis": {
           "automargin": true,
           "gridcolor": "#EBF0F8",
           "linecolor": "#EBF0F8",
           "ticks": "",
           "title": {
            "standoff": 15
           },
           "zerolinecolor": "#EBF0F8",
           "zerolinewidth": 2
          }
         }
        },
        "title": {
         "text": "Clustering of Years Based on Rainfall Patterns"
        },
        "xaxis": {
         "anchor": "y",
         "domain": [
          0,
          1
         ],
         "title": {
          "text": "Year"
         }
        },
        "yaxis": {
         "anchor": "x",
         "domain": [
          0,
          1
         ],
         "title": {
          "text": "Annual Rainfall (mm)"
         }
        }
       }
      }
     },
     "metadata": {},
     "output_type": "display_data"
    }
   ],
   "source": [
    "from sklearn.cluster import KMeans\n",
    "from sklearn.preprocessing import StandardScaler\n",
    "\n",
    "# prepare data for clustering\n",
    "rainfall_features = df[['Jan-Feb', 'Mar-May', 'Jun-Sep', 'Oct-Dec', 'ANNUAL']]\n",
    "scaler = StandardScaler()\n",
    "scaled_features = scaler.fit_transform(rainfall_features)\n",
    "\n",
    "# perform k-means clustering\n",
    "kmeans = KMeans(n_clusters=3, random_state=42)\n",
    "df['Rainfall_Cluster'] = kmeans.fit_predict(scaled_features)\n",
    "\n",
    "# map cluster labels to categories (e.g., Dry, Normal, Wet)\n",
    "cluster_labels = {0: 'Dry', 1: 'Normal', 2: 'Wet'}\n",
    "df['Rainfall_Category'] = df['Rainfall_Cluster'].map(cluster_labels)\n",
    "\n",
    "fig = px.scatter(\n",
    "    df,\n",
    "    x='YEAR',\n",
    "    y='ANNUAL',\n",
    "    color='Rainfall_Category',\n",
    "    title='Clustering of Years Based on Rainfall Patterns',\n",
    "    labels={'YEAR': 'Year', 'ANNUAL': 'Annual Rainfall (mm)', 'Rainfall_Category': 'Rainfall Category'},\n",
    "    color_discrete_sequence=px.colors.qualitative.Set2,\n",
    "    hover_data={'Rainfall_Cluster': True, 'Rainfall_Category': True}\n",
    ")\n",
    "\n",
    "fig.update_layout(\n",
    "    template='plotly_white',\n",
    "    legend_title='Rainfall Category',\n",
    "    height=500\n",
    ")\n",
    "\n",
    "fig.show()"
   ]
  },
  {
   "cell_type": "code",
   "execution_count": 17,
   "id": "3d1723ae",
   "metadata": {},
   "outputs": [
    {
     "name": "stderr",
     "output_type": "stream",
     "text": [
      "12:19:23 - cmdstanpy - INFO - Chain [1] start processing\n",
      "12:19:24 - cmdstanpy - INFO - Chain [1] done processing\n"
     ]
    },
    {
     "data": {
      "application/vnd.plotly.v1+json": {
       "config": {
        "plotlyServerURL": "https://plot.ly"
       },
       "data": [
        {
         "marker": {
          "color": "black",
          "size": 4
         },
         "mode": "markers",
         "name": "Actual",
         "type": "scatter",
         "x": [
          "1901-01-01T00:00:00",
          "1902-01-01T00:00:00",
          "1903-01-01T00:00:00",
          "1904-01-01T00:00:00",
          "1905-01-01T00:00:00",
          "1906-01-01T00:00:00",
          "1907-01-01T00:00:00",
          "1908-01-01T00:00:00",
          "1909-01-01T00:00:00",
          "1910-01-01T00:00:00",
          "1911-01-01T00:00:00",
          "1912-01-01T00:00:00",
          "1913-01-01T00:00:00",
          "1914-01-01T00:00:00",
          "1915-01-01T00:00:00",
          "1916-01-01T00:00:00",
          "1917-01-01T00:00:00",
          "1918-01-01T00:00:00",
          "1919-01-01T00:00:00",
          "1920-01-01T00:00:00",
          "1921-01-01T00:00:00",
          "1922-01-01T00:00:00",
          "1923-01-01T00:00:00",
          "1924-01-01T00:00:00",
          "1925-01-01T00:00:00",
          "1926-01-01T00:00:00",
          "1927-01-01T00:00:00",
          "1928-01-01T00:00:00",
          "1929-01-01T00:00:00",
          "1930-01-01T00:00:00",
          "1931-01-01T00:00:00",
          "1932-01-01T00:00:00",
          "1933-01-01T00:00:00",
          "1934-01-01T00:00:00",
          "1935-01-01T00:00:00",
          "1936-01-01T00:00:00",
          "1937-01-01T00:00:00",
          "1938-01-01T00:00:00",
          "1939-01-01T00:00:00",
          "1940-01-01T00:00:00",
          "1941-01-01T00:00:00",
          "1942-01-01T00:00:00",
          "1943-01-01T00:00:00",
          "1944-01-01T00:00:00",
          "1945-01-01T00:00:00",
          "1946-01-01T00:00:00",
          "1947-01-01T00:00:00",
          "1948-01-01T00:00:00",
          "1949-01-01T00:00:00",
          "1950-01-01T00:00:00",
          "1951-01-01T00:00:00",
          "1952-01-01T00:00:00",
          "1953-01-01T00:00:00",
          "1954-01-01T00:00:00",
          "1955-01-01T00:00:00",
          "1956-01-01T00:00:00",
          "1957-01-01T00:00:00",
          "1958-01-01T00:00:00",
          "1959-01-01T00:00:00",
          "1960-01-01T00:00:00",
          "1961-01-01T00:00:00",
          "1962-01-01T00:00:00",
          "1963-01-01T00:00:00",
          "1964-01-01T00:00:00",
          "1965-01-01T00:00:00",
          "1966-01-01T00:00:00",
          "1967-01-01T00:00:00",
          "1968-01-01T00:00:00",
          "1969-01-01T00:00:00",
          "1970-01-01T00:00:00",
          "1971-01-01T00:00:00",
          "1972-01-01T00:00:00",
          "1973-01-01T00:00:00",
          "1974-01-01T00:00:00",
          "1975-01-01T00:00:00",
          "1976-01-01T00:00:00",
          "1977-01-01T00:00:00",
          "1978-01-01T00:00:00",
          "1979-01-01T00:00:00",
          "1980-01-01T00:00:00",
          "1981-01-01T00:00:00",
          "1982-01-01T00:00:00",
          "1983-01-01T00:00:00",
          "1984-01-01T00:00:00",
          "1985-01-01T00:00:00",
          "1986-01-01T00:00:00",
          "1987-01-01T00:00:00",
          "1988-01-01T00:00:00",
          "1989-01-01T00:00:00",
          "1990-01-01T00:00:00",
          "1991-01-01T00:00:00",
          "1992-01-01T00:00:00",
          "1993-01-01T00:00:00",
          "1994-01-01T00:00:00",
          "1995-01-01T00:00:00",
          "1996-01-01T00:00:00",
          "1997-01-01T00:00:00",
          "1998-01-01T00:00:00",
          "1999-01-01T00:00:00",
          "2000-01-01T00:00:00",
          "2001-01-01T00:00:00",
          "2002-01-01T00:00:00",
          "2003-01-01T00:00:00",
          "2004-01-01T00:00:00",
          "2005-01-01T00:00:00",
          "2006-01-01T00:00:00",
          "2007-01-01T00:00:00",
          "2008-01-01T00:00:00",
          "2009-01-01T00:00:00",
          "2010-01-01T00:00:00",
          "2011-01-01T00:00:00",
          "2012-01-01T00:00:00",
          "2013-01-01T00:00:00",
          "2014-01-01T00:00:00",
          "2015-01-01T00:00:00"
         ],
         "y": {
          "bdata": "MzMzMzMhkEDNzMzMzBiQQAAAAAAAmpJAZmZmZmbej0BmZmZmZnqOQGZmZmZm4JFAzczMzMw+kEBmZmZmZiKRQGZmZmZmGJJAMzMzMzPBkkAAAAAAAF6QQGZmZmZm2JBAmpmZmZmzkEAzMzMzM/mSQM3MzMzMxJFAZmZmZmbklEAzMzMzMyGXQM3MzMzMCJBAmpmZmZlzlECamZmZmV+QQM3MzMzMYJNAmpmZmZnvkkAzMzMzM2GSQDMzMzMz0ZNAmpmZmZnpkkAzMzMzM3uTQGZmZmZmupNAmpmZmZkJk0AAAAAAAOKSQJqZmZmZ5ZJAZmZmZmaKlECamZmZmQuTQAAAAAAAxpVAZmZmZmYuk0CamZmZmd2RQM3MzMzM9pRAZmZmZmYIk0DNzMzMzGqUQJqZmZmZl5FAZmZmZmb6kkCamZmZmeOQQM3MzMzMMpRAZmZmZmYIlEBmZmZmZpyUQDMzMzMzJ5NAZmZmZmbSlEBmZmZmZlKTQJqZmZmZ95RAmpmZmZnhk0AAAAAAAFKSQDMzMzMzlZBAzczMzMxQkUCamZmZmRuTQDMzMzMzcZJAMzMzMzNJlEDNzMzMzKiVQM3MzMzMaJJAAAAAAADMlEBmZmZmZpiVQAAAAAAA9JFAAAAAAADslUCamZmZmbGSQM3MzMzM6JJAZmZmZmZMk0AzMzMzM1ONQAAAAAAAoJBAMzMzMzPxkUDNzMzMzHiQQM3MzMzM7pFAAAAAAAB8k0AAAAAAAAiTQAAAAAAApI1AAAAAAAD4kkDNzMzMzE6QQM3MzMzMKJRAMzMzMzOTkUCamZmZmdmTQDMzMzMzXZNAMzMzMzP7j0AAAAAAAJaSQGZmZmZmTpJAMzMzMzP7kEAAAAAAAM6UQJqZmZmZD5JAAAAAAADQkUBmZmZmZpqRQJqZmZmZ25BAAAAAAAAclUCamZmZmYmRQGZmZmZm4pVAmpmZmZkfkkAzMzMzM4WRQJqZmZmZx5JAZmZmZmY+lEBmZmZmZm6TQDMzMzMzd5JAmpmZmZlNkkAAAAAAAG6TQAAAAAAAsJFAmpmZmZlpkEAzMzMzM+2QQGZmZmZmxoxAAAAAAABakkAzMzMzM72QQAAAAAAAQpNAmpmZmZm9kkBmZmZmZv6SQGZmZmZmsJFAZmZmZmb6jUAAAAAAAMKSQGZmZmZmWJFAAAAAAADGkEDNzMzMzACTQM3MzMzMJpBAzczMzMwUkUA=",
          "dtype": "f8"
         }
        },
        {
         "hoverinfo": "skip",
         "line": {
          "width": 0
         },
         "mode": "lines",
         "type": "scatter",
         "x": [
          "1901-01-01T00:00:00",
          "1902-01-01T00:00:00",
          "1903-01-01T00:00:00",
          "1904-01-01T00:00:00",
          "1905-01-01T00:00:00",
          "1906-01-01T00:00:00",
          "1907-01-01T00:00:00",
          "1908-01-01T00:00:00",
          "1909-01-01T00:00:00",
          "1910-01-01T00:00:00",
          "1911-01-01T00:00:00",
          "1912-01-01T00:00:00",
          "1913-01-01T00:00:00",
          "1914-01-01T00:00:00",
          "1915-01-01T00:00:00",
          "1916-01-01T00:00:00",
          "1917-01-01T00:00:00",
          "1918-01-01T00:00:00",
          "1919-01-01T00:00:00",
          "1920-01-01T00:00:00",
          "1921-01-01T00:00:00",
          "1922-01-01T00:00:00",
          "1923-01-01T00:00:00",
          "1924-01-01T00:00:00",
          "1925-01-01T00:00:00",
          "1926-01-01T00:00:00",
          "1927-01-01T00:00:00",
          "1928-01-01T00:00:00",
          "1929-01-01T00:00:00",
          "1930-01-01T00:00:00",
          "1931-01-01T00:00:00",
          "1932-01-01T00:00:00",
          "1933-01-01T00:00:00",
          "1934-01-01T00:00:00",
          "1935-01-01T00:00:00",
          "1936-01-01T00:00:00",
          "1937-01-01T00:00:00",
          "1938-01-01T00:00:00",
          "1939-01-01T00:00:00",
          "1940-01-01T00:00:00",
          "1941-01-01T00:00:00",
          "1942-01-01T00:00:00",
          "1943-01-01T00:00:00",
          "1944-01-01T00:00:00",
          "1945-01-01T00:00:00",
          "1946-01-01T00:00:00",
          "1947-01-01T00:00:00",
          "1948-01-01T00:00:00",
          "1949-01-01T00:00:00",
          "1950-01-01T00:00:00",
          "1951-01-01T00:00:00",
          "1952-01-01T00:00:00",
          "1953-01-01T00:00:00",
          "1954-01-01T00:00:00",
          "1955-01-01T00:00:00",
          "1956-01-01T00:00:00",
          "1957-01-01T00:00:00",
          "1958-01-01T00:00:00",
          "1959-01-01T00:00:00",
          "1960-01-01T00:00:00",
          "1961-01-01T00:00:00",
          "1962-01-01T00:00:00",
          "1963-01-01T00:00:00",
          "1964-01-01T00:00:00",
          "1965-01-01T00:00:00",
          "1966-01-01T00:00:00",
          "1967-01-01T00:00:00",
          "1968-01-01T00:00:00",
          "1969-01-01T00:00:00",
          "1970-01-01T00:00:00",
          "1971-01-01T00:00:00",
          "1972-01-01T00:00:00",
          "1973-01-01T00:00:00",
          "1974-01-01T00:00:00",
          "1975-01-01T00:00:00",
          "1976-01-01T00:00:00",
          "1977-01-01T00:00:00",
          "1978-01-01T00:00:00",
          "1979-01-01T00:00:00",
          "1980-01-01T00:00:00",
          "1981-01-01T00:00:00",
          "1982-01-01T00:00:00",
          "1983-01-01T00:00:00",
          "1984-01-01T00:00:00",
          "1985-01-01T00:00:00",
          "1986-01-01T00:00:00",
          "1987-01-01T00:00:00",
          "1988-01-01T00:00:00",
          "1989-01-01T00:00:00",
          "1990-01-01T00:00:00",
          "1991-01-01T00:00:00",
          "1992-01-01T00:00:00",
          "1993-01-01T00:00:00",
          "1994-01-01T00:00:00",
          "1995-01-01T00:00:00",
          "1996-01-01T00:00:00",
          "1997-01-01T00:00:00",
          "1998-01-01T00:00:00",
          "1999-01-01T00:00:00",
          "2000-01-01T00:00:00",
          "2001-01-01T00:00:00",
          "2002-01-01T00:00:00",
          "2003-01-01T00:00:00",
          "2004-01-01T00:00:00",
          "2005-01-01T00:00:00",
          "2006-01-01T00:00:00",
          "2007-01-01T00:00:00",
          "2008-01-01T00:00:00",
          "2009-01-01T00:00:00",
          "2010-01-01T00:00:00",
          "2011-01-01T00:00:00",
          "2012-01-01T00:00:00",
          "2013-01-01T00:00:00",
          "2014-01-01T00:00:00",
          "2015-01-01T00:00:00",
          "2015-12-31T00:00:00",
          "2016-12-31T00:00:00",
          "2017-12-31T00:00:00",
          "2018-12-31T00:00:00",
          "2019-12-31T00:00:00",
          "2020-12-31T00:00:00",
          "2021-12-31T00:00:00",
          "2022-12-31T00:00:00",
          "2023-12-31T00:00:00",
          "2024-12-31T00:00:00",
          "2025-12-31T00:00:00",
          "2026-12-31T00:00:00",
          "2027-12-31T00:00:00",
          "2028-12-31T00:00:00",
          "2029-12-31T00:00:00",
          "2030-12-31T00:00:00",
          "2031-12-31T00:00:00",
          "2032-12-31T00:00:00",
          "2033-12-31T00:00:00",
          "2034-12-31T00:00:00"
         ],
         "y": {
          "bdata": "uaiw6VgPkEAX/c104JWPQCrRcKTVz49AO0piAxUAkECIv+DIneGPQNov/eN0ApBA8/jaOhDwj0BZh3/3AASQQCu7wMXtO5BAJeKFTDnDj0AfpW5tZ/KPQDakpapmBZBAQk6rH+g7kEBlI/i46zyQQDaAeMo+G5BAompDKZxRkEAV043VV3aQQPmFUgEcYZBA2lk3PcM7kEA/tHYX41uQQNdi9idzlJBAGqR5mUZ+kEDPVNmpjpCQQLz1doVraJBAIe1lGWyakEDiZ2f9dayQQAPImV13ppBAY8JBvt+akEAwPEbrebqQQLspzJJdvpBAXZfL2HbEkEDf02GWqu2QQHanOueX5ZBAuXCUApQEkUAX+YcI1c6QQDm1Mhpiy5BALLt1C6YLkUDAXvN4+diQQG+mBafWHpFANs3PLMDjkEBvk+UE3BWRQMhoxNbx+JBA1oVywXgMkUCddqhS1M2QQI/2yctKHJFAHBuLofMakUAWG8vz9v+QQCzXJFwZAJFAQJl527D5kEDCijMxAg6RQLmcyimC+ZBAPR/viG/zkEBzO9oYDRiRQA7Y5bCF8JBAWj/s7X/YkEAoEE6SGdCQQLPL4xa/DpFAK/mTl8rikEA35EQa/dmQQDmytvwBz5BA8wlG30qnkEDxlZZbq7WQQAVRX662rZBAdPNiqFqakEC4d8r4uqeQQF/YWY0rz5BA2bk30hO7kECtpyyskpKQQGWme8u0nJBA9KFtlDmUkEC1N8nGHYmQQLxnefAnjZBAfcOmliu6kEDxoDYuAJGQQJbHxZ49cJBAohWcWBlOkEAD0MFzMruQQNJJ+QKCRpBAozrJerxMkEDQ/2OhoTGQQDl3WHWuiJBARbcLP05VkECaijuCoVqQQANFJ9RXPJBA83yp5AdikEBAVx0+LFGQQH3WCM0WNZBAbJ5dhZIXkEAEoChD0liQQHJ8uKceG5BAZKiu/roWkEDeeqxMCBiQQF+W5QG/SpBA4xuOCo4dkEAhCF8PJQOQQI2l8GiwzY9AJqi6uxcmkEDz6VjwHe+PQH3IdtsS4o9Ac4MGY3fyj0Au9xLcivCPQO4lxHKbxI9AuLb5Rw+9j0D0qN3tz9aPQEz9tr+0549AVMUfbha1j0CNKC1GiMSPQN2NsJ4nLo9AqQFwPbm1j0BhKd2jsamPQPHfzm80iY9AgdqTW2Juj0AIVl+wx46PQJdmFScIeI9AhIuDoreDj0D4FU3/BoiOQEHraj+w9o5AhlnMLqnEjkCUs+qgJMOOQBKjKabqlY5AGDv+N9m7jkBE75vd+4qOQI7n5J26SY5A0db2l6gnjkCzDOqIFuSOQLAVxKNFg45A+9ER3dlljkBnsEFdvyyOQHE3zZ0Yx45At5YpcRQjjkCmO59hisKNQEVImpqI6o1ApIEfdpxSjkBTPSUgvweOQKlJmRa5QI5A",
          "dtype": "f8"
         }
        },
        {
         "fill": "tonexty",
         "fillcolor": "rgba(0, 114, 178, 0.2)",
         "line": {
          "color": "#0072B2",
          "width": 2
         },
         "mode": "lines",
         "name": "Predicted",
         "type": "scatter",
         "x": [
          "1901-01-01T00:00:00",
          "1902-01-01T00:00:00",
          "1903-01-01T00:00:00",
          "1904-01-01T00:00:00",
          "1905-01-01T00:00:00",
          "1906-01-01T00:00:00",
          "1907-01-01T00:00:00",
          "1908-01-01T00:00:00",
          "1909-01-01T00:00:00",
          "1910-01-01T00:00:00",
          "1911-01-01T00:00:00",
          "1912-01-01T00:00:00",
          "1913-01-01T00:00:00",
          "1914-01-01T00:00:00",
          "1915-01-01T00:00:00",
          "1916-01-01T00:00:00",
          "1917-01-01T00:00:00",
          "1918-01-01T00:00:00",
          "1919-01-01T00:00:00",
          "1920-01-01T00:00:00",
          "1921-01-01T00:00:00",
          "1922-01-01T00:00:00",
          "1923-01-01T00:00:00",
          "1924-01-01T00:00:00",
          "1925-01-01T00:00:00",
          "1926-01-01T00:00:00",
          "1927-01-01T00:00:00",
          "1928-01-01T00:00:00",
          "1929-01-01T00:00:00",
          "1930-01-01T00:00:00",
          "1931-01-01T00:00:00",
          "1932-01-01T00:00:00",
          "1933-01-01T00:00:00",
          "1934-01-01T00:00:00",
          "1935-01-01T00:00:00",
          "1936-01-01T00:00:00",
          "1937-01-01T00:00:00",
          "1938-01-01T00:00:00",
          "1939-01-01T00:00:00",
          "1940-01-01T00:00:00",
          "1941-01-01T00:00:00",
          "1942-01-01T00:00:00",
          "1943-01-01T00:00:00",
          "1944-01-01T00:00:00",
          "1945-01-01T00:00:00",
          "1946-01-01T00:00:00",
          "1947-01-01T00:00:00",
          "1948-01-01T00:00:00",
          "1949-01-01T00:00:00",
          "1950-01-01T00:00:00",
          "1951-01-01T00:00:00",
          "1952-01-01T00:00:00",
          "1953-01-01T00:00:00",
          "1954-01-01T00:00:00",
          "1955-01-01T00:00:00",
          "1956-01-01T00:00:00",
          "1957-01-01T00:00:00",
          "1958-01-01T00:00:00",
          "1959-01-01T00:00:00",
          "1960-01-01T00:00:00",
          "1961-01-01T00:00:00",
          "1962-01-01T00:00:00",
          "1963-01-01T00:00:00",
          "1964-01-01T00:00:00",
          "1965-01-01T00:00:00",
          "1966-01-01T00:00:00",
          "1967-01-01T00:00:00",
          "1968-01-01T00:00:00",
          "1969-01-01T00:00:00",
          "1970-01-01T00:00:00",
          "1971-01-01T00:00:00",
          "1972-01-01T00:00:00",
          "1973-01-01T00:00:00",
          "1974-01-01T00:00:00",
          "1975-01-01T00:00:00",
          "1976-01-01T00:00:00",
          "1977-01-01T00:00:00",
          "1978-01-01T00:00:00",
          "1979-01-01T00:00:00",
          "1980-01-01T00:00:00",
          "1981-01-01T00:00:00",
          "1982-01-01T00:00:00",
          "1983-01-01T00:00:00",
          "1984-01-01T00:00:00",
          "1985-01-01T00:00:00",
          "1986-01-01T00:00:00",
          "1987-01-01T00:00:00",
          "1988-01-01T00:00:00",
          "1989-01-01T00:00:00",
          "1990-01-01T00:00:00",
          "1991-01-01T00:00:00",
          "1992-01-01T00:00:00",
          "1993-01-01T00:00:00",
          "1994-01-01T00:00:00",
          "1995-01-01T00:00:00",
          "1996-01-01T00:00:00",
          "1997-01-01T00:00:00",
          "1998-01-01T00:00:00",
          "1999-01-01T00:00:00",
          "2000-01-01T00:00:00",
          "2001-01-01T00:00:00",
          "2002-01-01T00:00:00",
          "2003-01-01T00:00:00",
          "2004-01-01T00:00:00",
          "2005-01-01T00:00:00",
          "2006-01-01T00:00:00",
          "2007-01-01T00:00:00",
          "2008-01-01T00:00:00",
          "2009-01-01T00:00:00",
          "2010-01-01T00:00:00",
          "2011-01-01T00:00:00",
          "2012-01-01T00:00:00",
          "2013-01-01T00:00:00",
          "2014-01-01T00:00:00",
          "2015-01-01T00:00:00",
          "2015-12-31T00:00:00",
          "2016-12-31T00:00:00",
          "2017-12-31T00:00:00",
          "2018-12-31T00:00:00",
          "2019-12-31T00:00:00",
          "2020-12-31T00:00:00",
          "2021-12-31T00:00:00",
          "2022-12-31T00:00:00",
          "2023-12-31T00:00:00",
          "2024-12-31T00:00:00",
          "2025-12-31T00:00:00",
          "2026-12-31T00:00:00",
          "2027-12-31T00:00:00",
          "2028-12-31T00:00:00",
          "2029-12-31T00:00:00",
          "2030-12-31T00:00:00",
          "2031-12-31T00:00:00",
          "2032-12-31T00:00:00",
          "2033-12-31T00:00:00",
          "2034-12-31T00:00:00"
         ],
         "y": {
          "bdata": "PlZlTGX3kUAQTeBQffKRQJ9UAilE7ZFApPSY8L3nkUBv6Q6JSReSQLv/lI1hEpJA9CXCZSgNkkC65mMtogeSQP/Z0sUtN5JAWNNGykUykkCl3mGiDC2SQD2D8WmGJ5JA6yc2AhJXkkDQ8H8GKlKSQLnKcN7wTJJAeT7WpWpHkkBFOho+9naSQLBaY0IOcpJAcItTGtVskkAGdQlnR2eSQN6oX3/LlpJA++f5CNyRkkAFODtmm4ySQBurx3D8hpJAqqTZOm+2kkAsbkqCbrGSQFUSqHP7q5JA1U96VDumkkBzo4/djNWSQNA2Rvtq0JJA1tqCFurKkkA5GDQhHMWSQEUUdMpf9JJAfKcJEjDvkkBWmK2S8OeSQPQhxgJk4JJAZmEx2OcNk0AAF7KmdQSTQHPd2Uiy+pJAND122qHwkkAJMM4NoBuTQLY4sIMwEJNAVFI5zW8Ek0BPBTcGYviSQOjWsnthIZNAIXbRBq8Tk0AkJpdlqwWTQN9v0bNa95JAZOqd0/Qbk0A/Ku8GIwyTQM165w0A/JJAHWVUBJDrkkAYk8TG3g6TQEa5f4TC/ZJA+u/hFVXskkBHwLiWmtqSQDZqCDPo/JJAzSmAfsvqkkA7+p6dXdiSQKyCG4eJxZJAZoOx7L3nkkCfYRITiNWSQJNQGg0Bw5JAHiRw9iywkkDcVN9bYdKSQC9+GYIrwJJARLj6e6StkkCK1RY20JqSQK4wK2wEvZJAuKMrY86qkkBMKuAtR5iSQFNKCehyhZJAULEqHqenkkASJzgVcZWSQMhk7N/pgpJA6TsVmhVwkkDNWTbQSZKSQNp9M8cTgJJAxLLXkYxtkkAbgfBLuFqSQOiKAYLsfJJAhnDleLZqkkDnZnBDL1iSQKT2b/1aRZJAW7BnM49nkkAbCm4qWVWSQO90G/XRQpJA8Hg9r/0vkkCuwFjlMVKSQEUbYNz7P5JAvoYOp3QtkkDNizFhoBqSQM6OGJfUPJJAV8nrjZ4qkkCsFGZYFxiSQKP5VBJDBZJAhvw7SHcnkkBANw8/QRWSQKKCiQm6ApJAKGd4w+XvkUBSal/5GRKSQOOkMvDj/5FANPCsulztkUCC1Zt0iNqRQP7Xgqq8/JFAAhNWoYbqkUBRXtBr/9eRQBlDvyUrxZFAOUamW1/nkUDBgHlSKdWRQBXM8xyiwpFA+bDi1s2vkUDAs8kMAtKRQEbunAPMv5FAODoXzkStkUCDaVZ3z2GRQD5sh2VTh5FAblJ7sfFzkUCDEO7LT2CRQOHXeShyTJFArtmqFvZxkUB0wJ5ilF6RQIp+EX3ySpFAe0Wd2RQ3kUAtSM7HmFyRQCcuwhM3SZFAZOw0LpU1kUC0s8CKtyGRQP618Xg7R5FAeJvlxNkzkUBkWljfNyCRQL8g5DtaDJFAOSMVKt4xkUDDCQl2fB6RQBvHe5DaCpFA",
          "dtype": "f8"
         }
        },
        {
         "fill": "tonexty",
         "fillcolor": "rgba(0, 114, 178, 0.2)",
         "hoverinfo": "skip",
         "line": {
          "width": 0
         },
         "mode": "lines",
         "type": "scatter",
         "x": [
          "1901-01-01T00:00:00",
          "1902-01-01T00:00:00",
          "1903-01-01T00:00:00",
          "1904-01-01T00:00:00",
          "1905-01-01T00:00:00",
          "1906-01-01T00:00:00",
          "1907-01-01T00:00:00",
          "1908-01-01T00:00:00",
          "1909-01-01T00:00:00",
          "1910-01-01T00:00:00",
          "1911-01-01T00:00:00",
          "1912-01-01T00:00:00",
          "1913-01-01T00:00:00",
          "1914-01-01T00:00:00",
          "1915-01-01T00:00:00",
          "1916-01-01T00:00:00",
          "1917-01-01T00:00:00",
          "1918-01-01T00:00:00",
          "1919-01-01T00:00:00",
          "1920-01-01T00:00:00",
          "1921-01-01T00:00:00",
          "1922-01-01T00:00:00",
          "1923-01-01T00:00:00",
          "1924-01-01T00:00:00",
          "1925-01-01T00:00:00",
          "1926-01-01T00:00:00",
          "1927-01-01T00:00:00",
          "1928-01-01T00:00:00",
          "1929-01-01T00:00:00",
          "1930-01-01T00:00:00",
          "1931-01-01T00:00:00",
          "1932-01-01T00:00:00",
          "1933-01-01T00:00:00",
          "1934-01-01T00:00:00",
          "1935-01-01T00:00:00",
          "1936-01-01T00:00:00",
          "1937-01-01T00:00:00",
          "1938-01-01T00:00:00",
          "1939-01-01T00:00:00",
          "1940-01-01T00:00:00",
          "1941-01-01T00:00:00",
          "1942-01-01T00:00:00",
          "1943-01-01T00:00:00",
          "1944-01-01T00:00:00",
          "1945-01-01T00:00:00",
          "1946-01-01T00:00:00",
          "1947-01-01T00:00:00",
          "1948-01-01T00:00:00",
          "1949-01-01T00:00:00",
          "1950-01-01T00:00:00",
          "1951-01-01T00:00:00",
          "1952-01-01T00:00:00",
          "1953-01-01T00:00:00",
          "1954-01-01T00:00:00",
          "1955-01-01T00:00:00",
          "1956-01-01T00:00:00",
          "1957-01-01T00:00:00",
          "1958-01-01T00:00:00",
          "1959-01-01T00:00:00",
          "1960-01-01T00:00:00",
          "1961-01-01T00:00:00",
          "1962-01-01T00:00:00",
          "1963-01-01T00:00:00",
          "1964-01-01T00:00:00",
          "1965-01-01T00:00:00",
          "1966-01-01T00:00:00",
          "1967-01-01T00:00:00",
          "1968-01-01T00:00:00",
          "1969-01-01T00:00:00",
          "1970-01-01T00:00:00",
          "1971-01-01T00:00:00",
          "1972-01-01T00:00:00",
          "1973-01-01T00:00:00",
          "1974-01-01T00:00:00",
          "1975-01-01T00:00:00",
          "1976-01-01T00:00:00",
          "1977-01-01T00:00:00",
          "1978-01-01T00:00:00",
          "1979-01-01T00:00:00",
          "1980-01-01T00:00:00",
          "1981-01-01T00:00:00",
          "1982-01-01T00:00:00",
          "1983-01-01T00:00:00",
          "1984-01-01T00:00:00",
          "1985-01-01T00:00:00",
          "1986-01-01T00:00:00",
          "1987-01-01T00:00:00",
          "1988-01-01T00:00:00",
          "1989-01-01T00:00:00",
          "1990-01-01T00:00:00",
          "1991-01-01T00:00:00",
          "1992-01-01T00:00:00",
          "1993-01-01T00:00:00",
          "1994-01-01T00:00:00",
          "1995-01-01T00:00:00",
          "1996-01-01T00:00:00",
          "1997-01-01T00:00:00",
          "1998-01-01T00:00:00",
          "1999-01-01T00:00:00",
          "2000-01-01T00:00:00",
          "2001-01-01T00:00:00",
          "2002-01-01T00:00:00",
          "2003-01-01T00:00:00",
          "2004-01-01T00:00:00",
          "2005-01-01T00:00:00",
          "2006-01-01T00:00:00",
          "2007-01-01T00:00:00",
          "2008-01-01T00:00:00",
          "2009-01-01T00:00:00",
          "2010-01-01T00:00:00",
          "2011-01-01T00:00:00",
          "2012-01-01T00:00:00",
          "2013-01-01T00:00:00",
          "2014-01-01T00:00:00",
          "2015-01-01T00:00:00",
          "2015-12-31T00:00:00",
          "2016-12-31T00:00:00",
          "2017-12-31T00:00:00",
          "2018-12-31T00:00:00",
          "2019-12-31T00:00:00",
          "2020-12-31T00:00:00",
          "2021-12-31T00:00:00",
          "2022-12-31T00:00:00",
          "2023-12-31T00:00:00",
          "2024-12-31T00:00:00",
          "2025-12-31T00:00:00",
          "2026-12-31T00:00:00",
          "2027-12-31T00:00:00",
          "2028-12-31T00:00:00",
          "2029-12-31T00:00:00",
          "2030-12-31T00:00:00",
          "2031-12-31T00:00:00",
          "2032-12-31T00:00:00",
          "2033-12-31T00:00:00",
          "2034-12-31T00:00:00"
         ],
         "y": {
          "bdata": "CGCn8WEWlEDODw2oAQKUQCntZg3N/ZNAmEXNT7DHk0DX/Z0mLvmTQElSRl1jRJRARtuHg0sglECcKpzjmTSUQJCPKvG0UpRAQyojgi1MlEBiOwTHhTGUQGtgqYAPEpRAAALcQzVdlECA+RPRP1uUQLfXSrPAaZRAR9IRRA4xlEDgyK51Z3WUQK0uTu0xe5RAmb4LewlhlEDUdYZyDYKUQJSk4obtaJRAXNB4R2GElEDqBOWR05eUQLI9zsm+nZRAGca3oDWxlEBDQoChWc6UQISMuAvjspRAQPLPZtCllEBbFykRjNmUQB7HtV3rF5VAWHk3V5PSlEAXF6R9ANmUQOieWeZiB5VAzcNBxvwQlUCgTJ+FNBCVQPSLxlw65ZRAUzdGPww2lUCmlopJ6gOVQN/GBs5CBZVAorGjhtPvlEAv1ASoCw2VQDeJdqvjGpVAX0msp1H7lEAFTwlTaAaVQJCScFMfNJVAXRdgCKMalUDTjFSDVQuVQPg8BOkYApVAa3dIGv1GlUDC5uPFUwWVQD9fxmxlEJVA/y5PUFPUlEBo95VxSiqVQN9BAvAvEJVAU9yFqffYlEBZVdLIr8eUQOBuckOiGpVAMqI29v7WlEDlu6MXmtOUQNy7Lz6sypRA80c15hsOlUD7v+g/VOaUQKBveMS5tpRAiogW3tbElECz0s4TteWUQEYnjK1+5JRAs/UQTlanlEBLz756BrGUQFDg+J3X5ZRA923qJcTllEB8oN+ycpKUQKDHLK+lkJRA2Dc656qclEABC42z4I2UQA8BJc0ahJRAfEPSvX92lECJZGe+6siUQHN84VlXhZRAdqRBA/l0lECWa9F77EaUQH6jiyv8iZRAIZ1DmX+KlED5lZPRAW+UQF8wxqaEPpRAzjmzdM5+lEAuUwUL92mUQFfQybFmMJRAPaN/go8plEBsK85jfnyUQCNUK+WwOZRAY8k9JkwjlECAEEUdXCCUQLjSDT4bRJRAt7EmZ4g9lEBWywXWxCqUQGwuDV5gFZRANkOsXao9lEAO98Yzyw6UQCCt19P4+5NA3eeSxILqk0CEsYJIlA6UQMs157PKJpRAusLQBlsjlEAuMErHW8yTQN0xWbVGD5RAx3kq9GgClEAAu3FkrdaTQCbrux6p1pNAjNzew7n3k0AufjPTvPWTQG8+8f45xZNAP+c02AnGk0DIUE2xcueTQMwds9aWspNA5n1okfCuk0DhAJILb1eTQJ3DUIbKmJNAaAx2B+x/k0B5eUUvAV2TQAhQmUajYJNARbBKJFNqk0BxayduFI2TQK/OvuKOaZNAVQoQHeUgk0B1ZmpwkHOTQOOeskjEaZNAPherWahHk0CbtDXOACKTQOKMhWV8Z5NAC7R/HfMyk0A9KcC37jWTQO+5Lk/iHpNA3pJ1mTgwk0DFI3hOqiaTQHwvdBKkDZNA",
          "dtype": "f8"
         }
        }
       ],
       "layout": {
        "height": 500,
        "showlegend": false,
        "template": {
         "data": {
          "bar": [
           {
            "error_x": {
             "color": "#2a3f5f"
            },
            "error_y": {
             "color": "#2a3f5f"
            },
            "marker": {
             "line": {
              "color": "white",
              "width": 0.5
             },
             "pattern": {
              "fillmode": "overlay",
              "size": 10,
              "solidity": 0.2
             }
            },
            "type": "bar"
           }
          ],
          "barpolar": [
           {
            "marker": {
             "line": {
              "color": "white",
              "width": 0.5
             },
             "pattern": {
              "fillmode": "overlay",
              "size": 10,
              "solidity": 0.2
             }
            },
            "type": "barpolar"
           }
          ],
          "carpet": [
           {
            "aaxis": {
             "endlinecolor": "#2a3f5f",
             "gridcolor": "#C8D4E3",
             "linecolor": "#C8D4E3",
             "minorgridcolor": "#C8D4E3",
             "startlinecolor": "#2a3f5f"
            },
            "baxis": {
             "endlinecolor": "#2a3f5f",
             "gridcolor": "#C8D4E3",
             "linecolor": "#C8D4E3",
             "minorgridcolor": "#C8D4E3",
             "startlinecolor": "#2a3f5f"
            },
            "type": "carpet"
           }
          ],
          "choropleth": [
           {
            "colorbar": {
             "outlinewidth": 0,
             "ticks": ""
            },
            "type": "choropleth"
           }
          ],
          "contour": [
           {
            "colorbar": {
             "outlinewidth": 0,
             "ticks": ""
            },
            "colorscale": [
             [
              0,
              "#0d0887"
             ],
             [
              0.1111111111111111,
              "#46039f"
             ],
             [
              0.2222222222222222,
              "#7201a8"
             ],
             [
              0.3333333333333333,
              "#9c179e"
             ],
             [
              0.4444444444444444,
              "#bd3786"
             ],
             [
              0.5555555555555556,
              "#d8576b"
             ],
             [
              0.6666666666666666,
              "#ed7953"
             ],
             [
              0.7777777777777778,
              "#fb9f3a"
             ],
             [
              0.8888888888888888,
              "#fdca26"
             ],
             [
              1,
              "#f0f921"
             ]
            ],
            "type": "contour"
           }
          ],
          "contourcarpet": [
           {
            "colorbar": {
             "outlinewidth": 0,
             "ticks": ""
            },
            "type": "contourcarpet"
           }
          ],
          "heatmap": [
           {
            "colorbar": {
             "outlinewidth": 0,
             "ticks": ""
            },
            "colorscale": [
             [
              0,
              "#0d0887"
             ],
             [
              0.1111111111111111,
              "#46039f"
             ],
             [
              0.2222222222222222,
              "#7201a8"
             ],
             [
              0.3333333333333333,
              "#9c179e"
             ],
             [
              0.4444444444444444,
              "#bd3786"
             ],
             [
              0.5555555555555556,
              "#d8576b"
             ],
             [
              0.6666666666666666,
              "#ed7953"
             ],
             [
              0.7777777777777778,
              "#fb9f3a"
             ],
             [
              0.8888888888888888,
              "#fdca26"
             ],
             [
              1,
              "#f0f921"
             ]
            ],
            "type": "heatmap"
           }
          ],
          "histogram": [
           {
            "marker": {
             "pattern": {
              "fillmode": "overlay",
              "size": 10,
              "solidity": 0.2
             }
            },
            "type": "histogram"
           }
          ],
          "histogram2d": [
           {
            "colorbar": {
             "outlinewidth": 0,
             "ticks": ""
            },
            "colorscale": [
             [
              0,
              "#0d0887"
             ],
             [
              0.1111111111111111,
              "#46039f"
             ],
             [
              0.2222222222222222,
              "#7201a8"
             ],
             [
              0.3333333333333333,
              "#9c179e"
             ],
             [
              0.4444444444444444,
              "#bd3786"
             ],
             [
              0.5555555555555556,
              "#d8576b"
             ],
             [
              0.6666666666666666,
              "#ed7953"
             ],
             [
              0.7777777777777778,
              "#fb9f3a"
             ],
             [
              0.8888888888888888,
              "#fdca26"
             ],
             [
              1,
              "#f0f921"
             ]
            ],
            "type": "histogram2d"
           }
          ],
          "histogram2dcontour": [
           {
            "colorbar": {
             "outlinewidth": 0,
             "ticks": ""
            },
            "colorscale": [
             [
              0,
              "#0d0887"
             ],
             [
              0.1111111111111111,
              "#46039f"
             ],
             [
              0.2222222222222222,
              "#7201a8"
             ],
             [
              0.3333333333333333,
              "#9c179e"
             ],
             [
              0.4444444444444444,
              "#bd3786"
             ],
             [
              0.5555555555555556,
              "#d8576b"
             ],
             [
              0.6666666666666666,
              "#ed7953"
             ],
             [
              0.7777777777777778,
              "#fb9f3a"
             ],
             [
              0.8888888888888888,
              "#fdca26"
             ],
             [
              1,
              "#f0f921"
             ]
            ],
            "type": "histogram2dcontour"
           }
          ],
          "mesh3d": [
           {
            "colorbar": {
             "outlinewidth": 0,
             "ticks": ""
            },
            "type": "mesh3d"
           }
          ],
          "parcoords": [
           {
            "line": {
             "colorbar": {
              "outlinewidth": 0,
              "ticks": ""
             }
            },
            "type": "parcoords"
           }
          ],
          "pie": [
           {
            "automargin": true,
            "type": "pie"
           }
          ],
          "scatter": [
           {
            "fillpattern": {
             "fillmode": "overlay",
             "size": 10,
             "solidity": 0.2
            },
            "type": "scatter"
           }
          ],
          "scatter3d": [
           {
            "line": {
             "colorbar": {
              "outlinewidth": 0,
              "ticks": ""
             }
            },
            "marker": {
             "colorbar": {
              "outlinewidth": 0,
              "ticks": ""
             }
            },
            "type": "scatter3d"
           }
          ],
          "scattercarpet": [
           {
            "marker": {
             "colorbar": {
              "outlinewidth": 0,
              "ticks": ""
             }
            },
            "type": "scattercarpet"
           }
          ],
          "scattergeo": [
           {
            "marker": {
             "colorbar": {
              "outlinewidth": 0,
              "ticks": ""
             }
            },
            "type": "scattergeo"
           }
          ],
          "scattergl": [
           {
            "marker": {
             "colorbar": {
              "outlinewidth": 0,
              "ticks": ""
             }
            },
            "type": "scattergl"
           }
          ],
          "scattermap": [
           {
            "marker": {
             "colorbar": {
              "outlinewidth": 0,
              "ticks": ""
             }
            },
            "type": "scattermap"
           }
          ],
          "scattermapbox": [
           {
            "marker": {
             "colorbar": {
              "outlinewidth": 0,
              "ticks": ""
             }
            },
            "type": "scattermapbox"
           }
          ],
          "scatterpolar": [
           {
            "marker": {
             "colorbar": {
              "outlinewidth": 0,
              "ticks": ""
             }
            },
            "type": "scatterpolar"
           }
          ],
          "scatterpolargl": [
           {
            "marker": {
             "colorbar": {
              "outlinewidth": 0,
              "ticks": ""
             }
            },
            "type": "scatterpolargl"
           }
          ],
          "scatterternary": [
           {
            "marker": {
             "colorbar": {
              "outlinewidth": 0,
              "ticks": ""
             }
            },
            "type": "scatterternary"
           }
          ],
          "surface": [
           {
            "colorbar": {
             "outlinewidth": 0,
             "ticks": ""
            },
            "colorscale": [
             [
              0,
              "#0d0887"
             ],
             [
              0.1111111111111111,
              "#46039f"
             ],
             [
              0.2222222222222222,
              "#7201a8"
             ],
             [
              0.3333333333333333,
              "#9c179e"
             ],
             [
              0.4444444444444444,
              "#bd3786"
             ],
             [
              0.5555555555555556,
              "#d8576b"
             ],
             [
              0.6666666666666666,
              "#ed7953"
             ],
             [
              0.7777777777777778,
              "#fb9f3a"
             ],
             [
              0.8888888888888888,
              "#fdca26"
             ],
             [
              1,
              "#f0f921"
             ]
            ],
            "type": "surface"
           }
          ],
          "table": [
           {
            "cells": {
             "fill": {
              "color": "#EBF0F8"
             },
             "line": {
              "color": "white"
             }
            },
            "header": {
             "fill": {
              "color": "#C8D4E3"
             },
             "line": {
              "color": "white"
             }
            },
            "type": "table"
           }
          ]
         },
         "layout": {
          "annotationdefaults": {
           "arrowcolor": "#2a3f5f",
           "arrowhead": 0,
           "arrowwidth": 1
          },
          "autotypenumbers": "strict",
          "coloraxis": {
           "colorbar": {
            "outlinewidth": 0,
            "ticks": ""
           }
          },
          "colorscale": {
           "diverging": [
            [
             0,
             "#8e0152"
            ],
            [
             0.1,
             "#c51b7d"
            ],
            [
             0.2,
             "#de77ae"
            ],
            [
             0.3,
             "#f1b6da"
            ],
            [
             0.4,
             "#fde0ef"
            ],
            [
             0.5,
             "#f7f7f7"
            ],
            [
             0.6,
             "#e6f5d0"
            ],
            [
             0.7,
             "#b8e186"
            ],
            [
             0.8,
             "#7fbc41"
            ],
            [
             0.9,
             "#4d9221"
            ],
            [
             1,
             "#276419"
            ]
           ],
           "sequential": [
            [
             0,
             "#0d0887"
            ],
            [
             0.1111111111111111,
             "#46039f"
            ],
            [
             0.2222222222222222,
             "#7201a8"
            ],
            [
             0.3333333333333333,
             "#9c179e"
            ],
            [
             0.4444444444444444,
             "#bd3786"
            ],
            [
             0.5555555555555556,
             "#d8576b"
            ],
            [
             0.6666666666666666,
             "#ed7953"
            ],
            [
             0.7777777777777778,
             "#fb9f3a"
            ],
            [
             0.8888888888888888,
             "#fdca26"
            ],
            [
             1,
             "#f0f921"
            ]
           ],
           "sequentialminus": [
            [
             0,
             "#0d0887"
            ],
            [
             0.1111111111111111,
             "#46039f"
            ],
            [
             0.2222222222222222,
             "#7201a8"
            ],
            [
             0.3333333333333333,
             "#9c179e"
            ],
            [
             0.4444444444444444,
             "#bd3786"
            ],
            [
             0.5555555555555556,
             "#d8576b"
            ],
            [
             0.6666666666666666,
             "#ed7953"
            ],
            [
             0.7777777777777778,
             "#fb9f3a"
            ],
            [
             0.8888888888888888,
             "#fdca26"
            ],
            [
             1,
             "#f0f921"
            ]
           ]
          },
          "colorway": [
           "#636efa",
           "#EF553B",
           "#00cc96",
           "#ab63fa",
           "#FFA15A",
           "#19d3f3",
           "#FF6692",
           "#B6E880",
           "#FF97FF",
           "#FECB52"
          ],
          "font": {
           "color": "#2a3f5f"
          },
          "geo": {
           "bgcolor": "white",
           "lakecolor": "white",
           "landcolor": "white",
           "showlakes": true,
           "showland": true,
           "subunitcolor": "#C8D4E3"
          },
          "hoverlabel": {
           "align": "left"
          },
          "hovermode": "closest",
          "mapbox": {
           "style": "light"
          },
          "paper_bgcolor": "white",
          "plot_bgcolor": "white",
          "polar": {
           "angularaxis": {
            "gridcolor": "#EBF0F8",
            "linecolor": "#EBF0F8",
            "ticks": ""
           },
           "bgcolor": "white",
           "radialaxis": {
            "gridcolor": "#EBF0F8",
            "linecolor": "#EBF0F8",
            "ticks": ""
           }
          },
          "scene": {
           "xaxis": {
            "backgroundcolor": "white",
            "gridcolor": "#DFE8F3",
            "gridwidth": 2,
            "linecolor": "#EBF0F8",
            "showbackground": true,
            "ticks": "",
            "zerolinecolor": "#EBF0F8"
           },
           "yaxis": {
            "backgroundcolor": "white",
            "gridcolor": "#DFE8F3",
            "gridwidth": 2,
            "linecolor": "#EBF0F8",
            "showbackground": true,
            "ticks": "",
            "zerolinecolor": "#EBF0F8"
           },
           "zaxis": {
            "backgroundcolor": "white",
            "gridcolor": "#DFE8F3",
            "gridwidth": 2,
            "linecolor": "#EBF0F8",
            "showbackground": true,
            "ticks": "",
            "zerolinecolor": "#EBF0F8"
           }
          },
          "shapedefaults": {
           "line": {
            "color": "#2a3f5f"
           }
          },
          "ternary": {
           "aaxis": {
            "gridcolor": "#DFE8F3",
            "linecolor": "#A2B1C6",
            "ticks": ""
           },
           "baxis": {
            "gridcolor": "#DFE8F3",
            "linecolor": "#A2B1C6",
            "ticks": ""
           },
           "bgcolor": "white",
           "caxis": {
            "gridcolor": "#DFE8F3",
            "linecolor": "#A2B1C6",
            "ticks": ""
           }
          },
          "title": {
           "x": 0.05
          },
          "xaxis": {
           "automargin": true,
           "gridcolor": "#EBF0F8",
           "linecolor": "#EBF0F8",
           "ticks": "",
           "title": {
            "standoff": 15
           },
           "zerolinecolor": "#EBF0F8",
           "zerolinewidth": 2
          },
          "yaxis": {
           "automargin": true,
           "gridcolor": "#EBF0F8",
           "linecolor": "#EBF0F8",
           "ticks": "",
           "title": {
            "standoff": 15
           },
           "zerolinecolor": "#EBF0F8",
           "zerolinewidth": 2
          }
         }
        },
        "title": {
         "text": "Annual Rainfall Forecast Using Prophet"
        },
        "width": 900,
        "xaxis": {
         "rangeselector": {
          "buttons": [
           {
            "count": 7,
            "label": "1w",
            "step": "day",
            "stepmode": "backward"
           },
           {
            "count": 1,
            "label": "1m",
            "step": "month",
            "stepmode": "backward"
           },
           {
            "count": 6,
            "label": "6m",
            "step": "month",
            "stepmode": "backward"
           },
           {
            "count": 1,
            "label": "1y",
            "step": "year",
            "stepmode": "backward"
           },
           {
            "step": "all"
           }
          ]
         },
         "rangeslider": {
          "visible": true
         },
         "title": {
          "text": "Year"
         },
         "type": "date"
        },
        "yaxis": {
         "title": {
          "text": "Rainfall (mm)"
         }
        }
       }
      }
     },
     "metadata": {},
     "output_type": "display_data"
    }
   ],
   "source": [
    "df['DATE'] = pd.to_datetime(df['YEAR'], format='%Y')\n",
    "annual_rainfall_ts = df.set_index('DATE')['ANNUAL']\n",
    "\n",
    "# use: pip install prophet\n",
    "\n",
    "from prophet import Prophet\n",
    "# Prepare the data for Prophet\n",
    "prophet_data = annual_rainfall_ts.reset_index()\n",
    "prophet_data.columns = ['ds', 'y']\n",
    "\n",
    "from prophet.plot import plot_plotly, plot_components_plotly\n",
    "\n",
    "prophet_model = Prophet()\n",
    "prophet_model.fit(prophet_data)\n",
    "\n",
    "# create a future dataframe for the next 20 years\n",
    "future = prophet_model.make_future_dataframe(periods=20, freq='Y')\n",
    "forecast = prophet_model.predict(future)\n",
    "\n",
    "fig_forecast = plot_plotly(prophet_model, forecast)\n",
    "\n",
    "fig_forecast.update_layout(\n",
    "    title='Annual Rainfall Forecast Using Prophet',\n",
    "    xaxis_title='Year',\n",
    "    yaxis_title='Rainfall (mm)',\n",
    "    template='plotly_white',\n",
    "    height=500\n",
    ")\n",
    "\n",
    "fig_forecast.show()"
   ]
  }
 ],
 "metadata": {
  "kernelspec": {
   "display_name": "Python 3",
   "language": "python",
   "name": "python3"
  },
  "language_info": {
   "codemirror_mode": {
    "name": "ipython",
    "version": 3
   },
   "file_extension": ".py",
   "mimetype": "text/x-python",
   "name": "python",
   "nbconvert_exporter": "python",
   "pygments_lexer": "ipython3",
   "version": "3.8.0"
  }
 },
 "nbformat": 4,
 "nbformat_minor": 5
}
